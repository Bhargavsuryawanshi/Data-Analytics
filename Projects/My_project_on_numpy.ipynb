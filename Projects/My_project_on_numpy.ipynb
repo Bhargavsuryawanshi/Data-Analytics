{
  "nbformat": 4,
  "nbformat_minor": 0,
  "metadata": {
    "colab": {
      "provenance": []
    },
    "kernelspec": {
      "name": "python3",
      "display_name": "Python 3"
    },
    "language_info": {
      "name": "python"
    }
  },
  "cells": [
    {
      "cell_type": "markdown",
      "source": [
        "**10 function to show magic in array**:\n",
        "\n",
        "1.**Stacking**:\n",
        "\n",
        "              1.Horizontal Stacking:hstack() function will stack append one aarray at the end of another.\n",
        "              2.Vertical Stacking:vstack() function will stack one array on another.\n",
        "\n",
        "2.**Comparing** **Two** **Arrays**:\n",
        "\n",
        "              1.allclose():This function finds whether two arrays are equal or approximately equal to each other based on some tolerance value if the shape of both arrays is the same.\n",
        "              2.Equals():It compares each element of both arrays and if elements matched returns True.\n",
        "\n",
        "3.**Einstein** **Summation** **Conventions**:\n",
        "              \n",
        "              Einsum():This function is used to compute many multi-dimensional and linear algebraic operations on arrays.\n",
        "\n",
        "4.**Statistical** **Analysis**:\n",
        "\n",
        "              Histogram():It is an important statistical analysis function of NumPy that computes histogram values for a set of data.\n",
        "\n",
        "5.**Standard** **Deviation** **and** **Variance**:\n",
        "              \n",
        "              1.str():This function of numpy that calculate standard deviation on axis.\n",
        "              2.var():This function of numpy that calculate variance on axis.\n",
        "    \n",
        "6.**Spliting**:\n",
        "\n",
        "              1.Horizontal Split:hsplit() function will split the data horizontally into n equal parts.\n",
        "              2.Vertical Split:vsplit() function will split the data vertically into n equal parts.\n",
        "\n",
        "\n",
        "\n",
        "              \n"
      ],
      "metadata": {
        "id": "ryMFFT9Y_cA0"
      }
    },
    {
      "cell_type": "code",
      "source": [
        "import numpy as np"
      ],
      "metadata": {
        "id": "qTJfMlck_ad2"
      },
      "execution_count": null,
      "outputs": []
    },
    {
      "cell_type": "code",
      "source": [
        "#1st function\n",
        "#horizontal stacking\n",
        "array_1 = np.array([1,2,3,4,5,6,7,8,9,10])\n",
        "array_2 = np.array([11,12,13,14,15,16,17,18,19,20])\n",
        "hstack_array = np.hstack((array_1,array_2))\n",
        "hstack_array"
      ],
      "metadata": {
        "colab": {
          "base_uri": "https://localhost:8080/"
        },
        "id": "orb20aPPfRKZ",
        "outputId": "486891a9-d6c2-4d80-8f0e-0073b0a1f64d"
      },
      "execution_count": null,
      "outputs": [
        {
          "output_type": "execute_result",
          "data": {
            "text/plain": [
              "array([ 1,  2,  3,  4,  5,  6,  7,  8,  9, 10, 11, 12, 13, 14, 15, 16, 17,\n",
              "       18, 19, 20])"
            ]
          },
          "metadata": {},
          "execution_count": 3
        }
      ]
    },
    {
      "cell_type": "code",
      "source": [
        "#2nd function\n",
        "#verical stacking on above arrays\n",
        "vstack_array = np.vstack((array_1,array_2))\n",
        "vstack_array"
      ],
      "metadata": {
        "colab": {
          "base_uri": "https://localhost:8080/"
        },
        "id": "xCdmlZJqgPyg",
        "outputId": "bef461d8-7eb5-466b-dcc7-5c8964052452"
      },
      "execution_count": null,
      "outputs": [
        {
          "output_type": "execute_result",
          "data": {
            "text/plain": [
              "array([[ 1,  2,  3,  4,  5,  6,  7,  8,  9, 10],\n",
              "       [11, 12, 13, 14, 15, 16, 17, 18, 19, 20]])"
            ]
          },
          "metadata": {},
          "execution_count": 4
        }
      ]
    },
    {
      "cell_type": "code",
      "source": [
        "#3rd function\n",
        "\"\"\"np.allclose function finds whether two arrays are equal or approximately\n",
        "equal to each other based on some tolerance value if the shape of both arrays\n",
        "is the same.here if we take tolerance as 1.0 so we can get True value.\"\"\"\n",
        "\n",
        "from numpy.core.getlimits import array\n",
        "array_3 = np.array([0.1,0.2,0.3,0.4,0.5])\n",
        "array_4 = np.array([0.6,0.7,0.8,0.9,1.0])\n",
        "tolerance = 0.5\n",
        "print(np.allclose(array_3,array_4,tolerance))"
      ],
      "metadata": {
        "colab": {
          "base_uri": "https://localhost:8080/"
        },
        "id": "5K48oydkgjxc",
        "outputId": "40751c4a-754e-4648-e0f3-716270aa644b"
      },
      "execution_count": null,
      "outputs": [
        {
          "output_type": "stream",
          "name": "stdout",
          "text": [
            "False\n"
          ]
        }
      ]
    },
    {
      "cell_type": "code",
      "source": [
        "#4th function\n",
        "''' Equals\n",
        "It compares each element of both arrays and if elements matched returns True.'''\n",
        "array_5 = np.array([1,2,3,4,5])\n",
        "array_6 = np.array([1,1,3,4,1])\n",
        "equals_array = np.equal(array_5,array_6)\n",
        "equals_array"
      ],
      "metadata": {
        "colab": {
          "base_uri": "https://localhost:8080/"
        },
        "id": "jOUEf8eujPyi",
        "outputId": "81cd0f54-8b69-45e5-9b02-c8e68cd20d78"
      },
      "execution_count": null,
      "outputs": [
        {
          "output_type": "execute_result",
          "data": {
            "text/plain": [
              "array([ True, False,  True,  True, False])"
            ]
          },
          "metadata": {},
          "execution_count": 6
        }
      ]
    },
    {
      "cell_type": "code",
      "source": [
        "#5th function\n",
        "\"\"\"einsum() is used to compute many multi-dimensional and linear algebric\n",
        "operations on arrays.\"\"\"\n",
        "\n",
        "array_7 = np.arange(1,10).reshape(3,3)\n",
        "array_8 = np.arange(21,30).reshape(3,3)\n",
        "print(\"Your 1st array:\\n\",array_7)\n",
        "print(\"Your 2nd array:\\n\",array_8)\n",
        "\n",
        "#Extracts diagonals\n",
        "diagonals_array = np.einsum('ii->i',array_7)\n",
        "print(\"Diagonal of 1st Array:\\n\",diagonals_array)\n",
        "\n",
        "#Transpose\n",
        "transpose_array = np.einsum('ji',array_8)\n",
        "print(\"Transpose of 2nd Array:\\n\",transpose_array)\n",
        "\n",
        "#matrix multiplication\n",
        "matrix_array = np.einsum('ij,jk',array_7,array_8)\n",
        "print(\"Matrix Multiplication:\\n\",matrix_array)\n",
        "\n",
        "#sum of diagonal\n",
        "print(\"sum of your 1st arrays diagonal is:\",np.einsum('ii',array_7))"
      ],
      "metadata": {
        "colab": {
          "base_uri": "https://localhost:8080/"
        },
        "id": "h_903ETPkM8X",
        "outputId": "ff62e635-4a55-49ad-82a4-1ba080e54dbf"
      },
      "execution_count": null,
      "outputs": [
        {
          "output_type": "stream",
          "name": "stdout",
          "text": [
            "Your 1st array:\n",
            " [[1 2 3]\n",
            " [4 5 6]\n",
            " [7 8 9]]\n",
            "Your 2nd array:\n",
            " [[21 22 23]\n",
            " [24 25 26]\n",
            " [27 28 29]]\n",
            "Diagonal of 1st Array:\n",
            " [1 5 9]\n",
            "Transpose of 2nd Array:\n",
            " [[21 24 27]\n",
            " [22 25 28]\n",
            " [23 26 29]]\n",
            "Matrix Multiplication:\n",
            " [[150 156 162]\n",
            " [366 381 396]\n",
            " [582 606 630]]\n",
            "sum of your 1st arrays diagonal is: 15\n"
          ]
        }
      ]
    },
    {
      "cell_type": "code",
      "source": [
        "#6th function\n",
        "\"\"\"histogram() function is an important statistical analysis function of NumPy\n",
        "that computes histogram values for a set of data.\"\"\"\n",
        "\n",
        "array_9 = np.array([[3,4,5,6],\n",
        "                    [6,7,2,6]])\n",
        "histo_array = np.histogram(array_9)\n",
        "print(\"Histogram is :\\n\",histo_array)\n"
      ],
      "metadata": {
        "colab": {
          "base_uri": "https://localhost:8080/"
        },
        "id": "EhzPGcZapf-n",
        "outputId": "6335ee68-96fb-45e2-9c7a-c8356bacdad1"
      },
      "execution_count": null,
      "outputs": [
        {
          "output_type": "stream",
          "name": "stdout",
          "text": [
            "Histogram is :\n",
            " (array([1, 0, 1, 0, 1, 0, 1, 0, 3, 1]), array([2. , 2.5, 3. , 3.5, 4. , 4.5, 5. , 5.5, 6. , 6.5, 7. ]))\n"
          ]
        }
      ]
    },
    {
      "cell_type": "code",
      "source": [
        "#7th function\n",
        "\"\"\"str() function will define standard deviation by axis.\n",
        "here we take array_9.\"\"\"\n",
        "\n",
        "row_std_array = np.std(array_9,axis=1)\n",
        "print(\"Row wise standard deviation:\",row_std_array)\n",
        "\n",
        "col_std_array = np.std(array_9,axis=0)\n",
        "print(\"colomn wise standard deviation:\",col_std_array)\n"
      ],
      "metadata": {
        "colab": {
          "base_uri": "https://localhost:8080/"
        },
        "id": "b_Zd_dwLs9DB",
        "outputId": "508f1982-f383-4f0e-bbaa-270d97c31140"
      },
      "execution_count": null,
      "outputs": [
        {
          "output_type": "stream",
          "name": "stdout",
          "text": [
            "Row wise standard deviation: [1.11803399 1.92028644]\n",
            "colomn wise standard deviation: [1.5 1.5 1.5 0. ]\n"
          ]
        }
      ]
    },
    {
      "cell_type": "code",
      "source": [
        "#8th function\n",
        "\n",
        "\"\"\"var() function will define variance by axis.\n",
        "here we take array_9\"\"\"\n",
        "\n",
        "row_var_array = np.var(array_9,axis=1)\n",
        "print(\"Row wise variance :\",row_var_array)\n",
        "\n",
        "col_var_array = np.var(array_9,axis=0)\n",
        "print(\"Colomn wise variance:\",col_var_array)\n"
      ],
      "metadata": {
        "colab": {
          "base_uri": "https://localhost:8080/"
        },
        "id": "5uEUT4_LyepY",
        "outputId": "49cb4105-ec9b-4b63-f4b1-f2dfaec01b8f"
      },
      "execution_count": null,
      "outputs": [
        {
          "output_type": "stream",
          "name": "stdout",
          "text": [
            "Row wise variance : [1.25   3.6875]\n",
            "Colomn wise variance: [2.25 2.25 2.25 0.  ]\n"
          ]
        }
      ]
    },
    {
      "cell_type": "code",
      "source": [
        "#9th function\n",
        "\"\"\"hsplit function will split the data horizontally into n equal parts\"\"\"\n",
        "\n",
        "two_array = np.hsplit(array_9,2) #array_9 splits data into 2parts\n",
        "print(\"two equals part :\",two_array)\n",
        "\n",
        "four_array = np.hsplit(array_9,4)#array_9 splits data into 4parts\n",
        "print(\"Four equals part:\",four_array)"
      ],
      "metadata": {
        "colab": {
          "base_uri": "https://localhost:8080/"
        },
        "id": "eJd_xwBntskZ",
        "outputId": "e215b60b-9572-4b00-87d3-3f068db43443"
      },
      "execution_count": null,
      "outputs": [
        {
          "output_type": "stream",
          "name": "stdout",
          "text": [
            "two equals part : [array([[3, 4],\n",
            "       [6, 7]]), array([[5, 6],\n",
            "       [2, 6]])]\n",
            "Four equals part: [array([[3],\n",
            "       [6]]), array([[4],\n",
            "       [7]]), array([[5],\n",
            "       [2]]), array([[6],\n",
            "       [6]])]\n"
          ]
        }
      ]
    },
    {
      "cell_type": "code",
      "source": [
        "#10th function\n",
        "\"\"\"vsplit function will split data vertically into n equals parts\"\"\"\n",
        "\n",
        "t_a = np.vsplit(array_9,2)\n",
        "print(\"Vertically two equal parts:\",t_a)"
      ],
      "metadata": {
        "colab": {
          "base_uri": "https://localhost:8080/"
        },
        "id": "8Xws1A88xeU1",
        "outputId": "ef6ced16-1344-469e-ed35-a3641543ea2e"
      },
      "execution_count": null,
      "outputs": [
        {
          "output_type": "stream",
          "name": "stdout",
          "text": [
            "Vertically two equal parts: [array([[3, 4, 5, 6]]), array([[6, 7, 2, 6]])]\n"
          ]
        }
      ]
    }
  ]
}