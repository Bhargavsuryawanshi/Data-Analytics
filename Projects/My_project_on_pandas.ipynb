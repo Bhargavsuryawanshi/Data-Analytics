{
  "nbformat": 4,
  "nbformat_minor": 0,
  "metadata": {
    "colab": {
      "provenance": []
    },
    "kernelspec": {
      "name": "python3",
      "display_name": "Python 3"
    },
    "language_info": {
      "name": "python"
    }
  },
  "cells": [
    {
      "cell_type": "markdown",
      "source": [
        "**10 Function shows magic in Pandas**:\n",
        "\n",
        "1.**pandas.DataFrame.insert**:\n",
        "                              DataFrame.insert(loc, column, value, allow_duplicates=_NoDefault.no_default):-\n",
        "                              Insert column into DataFrame at specified location.\n",
        "\n",
        "\n",
        "2.**pandas.DataFrame.pop**:-\n",
        "                              DataFrame.pop(item):-\n",
        "                              Return item and drop from frame. Raise KeyError if not found.\n",
        "\n",
        "\n",
        "3.**pandas.DataFrame.xs**:-\n",
        "                          DataFrame.xs(key, axis=0, level=None, drop_level=True):-Return cross-section from the Series/DataFrame.\n",
        "\n",
        "This method takes a key argument to select data at a particular level of a MultiIndex.\n",
        "\n",
        "4.**pandas.DataFrame.get**:-\n",
        "                          DataFrame.get(key, default=None):-\n",
        "Get item from object for given key (ex: DataFrame column).\n",
        "Returns default value if not found.\n",
        "\n",
        "5.**pandas.DataFrame.isin**:-\n",
        "                          DataFrame.isin(values):-\n",
        "Whether each element in the DataFrame is contained in values.\n",
        "\n",
        "Parameters:-\n",
        "valuesiterable, Series, DataFrame or dict\n",
        "\n",
        "6.**pandas.DataFrame.where**:-\n",
        "                          DataFrame.where(cond, other=_NoDefault.no_default, *, inplace=False, axis=None, level=None, errors='raise', try_cast=_NoDefault.no_default):-Replace values where the condition is False.\n",
        "\n",
        "Parameters:-\n",
        "condbool Series/DataFrame, array-like, or callable\n",
        "\n",
        "\n",
        "7.**pandas.DataFrame.mask**:-\n",
        "                          DataFrame.mask(cond, other=nan, *, inplace=False, axis=None, level=None, errors='raise', try_cast=_NoDefault.no_default):-\n",
        "Replace values where the condition is True.\n",
        "\n",
        "Parameters:-\n",
        "condbool Series/DataFrame, array-like, or callable\n",
        "\n",
        "8.**pandas.DataFrame.combine**:-\n",
        "                          DataFrame.combine(other, func, fill_value=None, overwrite=True):-\n",
        "Perform column-wise combine with another DataFrame.\n",
        "\n",
        "Combines a DataFrame with other DataFrame using func to element-wise combine columns. The row and column indexes of the resulting DataFrame will be the union of the two.\n",
        "\n",
        "\n",
        "9.**pandas.DataFrame.merge**:-\n",
        "                          DataFrame.merge(right, how='inner', on=None, left_on=None, right_on=None, left_index=False, right_index=False, sort=False, suffixes=('_x', '_y'), copy=True, indicator=False, validate=None):-\n",
        "Merge DataFrame or named Series objects with a database-style join.\n",
        "\n",
        "A named Series object is treated as a DataFrame with a single named column.\n",
        "\n",
        "10.**pandas.DataFrame.align**:-\n",
        "                          DataFrame.align(other, join='outer', axis=None, level=None, copy=True, fill_value=None, method=None, limit=None, fill_axis=0, broadcast_axis=None):-\n",
        "Align two objects on their axes with the specified join method.\n",
        "\n",
        "Join method is specified for each axis Index."
      ],
      "metadata": {
        "id": "DE0y1Vy-0UpT"
      }
    },
    {
      "cell_type": "code",
      "source": [
        "import pandas as pd"
      ],
      "metadata": {
        "id": "bjU5vLXf1naL"
      },
      "execution_count": null,
      "outputs": []
    },
    {
      "cell_type": "code",
      "execution_count": null,
      "metadata": {
        "colab": {
          "base_uri": "https://localhost:8080/"
        },
        "id": "vXZe6_LRz6La",
        "outputId": "8de57636-c36c-4440-de53-86d76348df5b"
      },
      "outputs": [
        {
          "output_type": "stream",
          "name": "stdout",
          "text": [
            "   col1  col2\n",
            "0     1     3\n",
            "1     2     4\n",
            "   col1  newcol  col2\n",
            "0     1      99     3\n",
            "1     2     100     4\n"
          ]
        }
      ],
      "source": [
        "#1st function:-insert()\n",
        "df1 = pd.DataFrame({'col1':[1,2],'col2':[3,4]})\n",
        "print(df1)\n",
        "\n",
        "#inserting a new colomn\n",
        "\n",
        "df1.insert(1,'newcol',[99,100])\n",
        "print(df1)"
      ]
    },
    {
      "cell_type": "code",
      "source": [
        "#2nd function:-pop()\n",
        "df2 = pd.DataFrame([('falcon', 'bird', 389.0),\n",
        "                   ('parrot', 'bird', 24.0),\n",
        "                   ('lion', 'mammal', 80.5),\n",
        "                   ('monkey', 'mammal', 12.0)],\n",
        "                  columns=('name', 'class', 'max_speed'))\n",
        "print(df2)\n",
        "print(\"\\n\")\n",
        "#apply pop function\n",
        "\n",
        "print(df2.pop('class'))\n",
        "print(\"\\n\")\n",
        "print(df2)"
      ],
      "metadata": {
        "colab": {
          "base_uri": "https://localhost:8080/"
        },
        "id": "-gQlpmbV3BAc",
        "outputId": "c768f1c9-ce17-4898-b8c8-c1d6e6840c0c"
      },
      "execution_count": null,
      "outputs": [
        {
          "output_type": "stream",
          "name": "stdout",
          "text": [
            "     name   class  max_speed\n",
            "0  falcon    bird      389.0\n",
            "1  parrot    bird       24.0\n",
            "2    lion  mammal       80.5\n",
            "3  monkey  mammal       12.0\n",
            "\n",
            "\n",
            "0      bird\n",
            "1      bird\n",
            "2    mammal\n",
            "3    mammal\n",
            "Name: class, dtype: object\n",
            "\n",
            "\n",
            "     name  max_speed\n",
            "0  falcon      389.0\n",
            "1  parrot       24.0\n",
            "2    lion       80.5\n",
            "3  monkey       12.0\n"
          ]
        }
      ]
    },
    {
      "cell_type": "code",
      "source": [
        "#3rd function:-xs()\n",
        "\n",
        "d = {'num_legs': [4, 4, 2, 2],\n",
        "     'num_wings': [0, 0, 2, 2],\n",
        "     'class': ['mammal', 'mammal', 'mammal', 'bird'],\n",
        "     'animal': ['cat', 'dog', 'bat', 'penguin'],\n",
        "     'locomotion': ['walks', 'walks', 'flies', 'walks']}\n",
        "df3=pd.DataFrame(data=d)\n",
        "df3 = df3.set_index(['class','animal','locomotion'])\n",
        "print(df3)\n",
        "print(\"\\n\")\n",
        "\n",
        "#get values at specified index\n",
        "print(df3.xs(\"mammal\"))\n",
        "print(\"\\n\")\n",
        "#get values at several indexes\n",
        "print(df3.xs(('mammal','dog')))\n"
      ],
      "metadata": {
        "colab": {
          "base_uri": "https://localhost:8080/"
        },
        "id": "DSYohjBp4hoW",
        "outputId": "5a18ab86-06aa-4461-f532-bd3a153c0513"
      },
      "execution_count": null,
      "outputs": [
        {
          "output_type": "stream",
          "name": "stdout",
          "text": [
            "                           num_legs  num_wings\n",
            "class  animal  locomotion                     \n",
            "mammal cat     walks              4          0\n",
            "       dog     walks              4          0\n",
            "       bat     flies              2          2\n",
            "bird   penguin walks              2          2\n",
            "\n",
            "\n",
            "                   num_legs  num_wings\n",
            "animal locomotion                     \n",
            "cat    walks              4          0\n",
            "dog    walks              4          0\n",
            "bat    flies              2          2\n",
            "\n",
            "\n",
            "            num_legs  num_wings\n",
            "locomotion                     \n",
            "walks              4          0\n"
          ]
        },
        {
          "output_type": "stream",
          "name": "stderr",
          "text": [
            "/usr/local/lib/python3.8/dist-packages/IPython/core/interactiveshell.py:2881: PerformanceWarning: indexing past lexsort depth may impact performance.\n",
            "  return runner(coro)\n"
          ]
        }
      ]
    },
    {
      "cell_type": "code",
      "source": [
        "#4th function:-get()\n",
        "\n",
        "df4 = pd.DataFrame(\n",
        "    [\n",
        "        [24.3, 75.7, \"high\"],\n",
        "        [31, 87.8, \"high\"],\n",
        "        [22, 71.6, \"medium\"],\n",
        "        [35, 95, \"medium\"],\n",
        "    ],\n",
        "    columns=[\"temp_celsius\", \"temp_fahrenheit\", \"windspeed\"],\n",
        "    index=pd.date_range(start=\"2014-02-12\", end=\"2014-02-15\", freq=\"D\"),\n",
        ")\n",
        "print(df4)\n",
        "print(\"\\n\")\n",
        "\n",
        "#get values\n",
        "print(df4.get([\"temp_celsius\", \"windspeed\"]))"
      ],
      "metadata": {
        "colab": {
          "base_uri": "https://localhost:8080/"
        },
        "id": "Kj5-sQSl7FFc",
        "outputId": "0b5c42f8-e489-4521-cb2a-854d6875d3ca"
      },
      "execution_count": null,
      "outputs": [
        {
          "output_type": "stream",
          "name": "stdout",
          "text": [
            "            temp_celsius  temp_fahrenheit windspeed\n",
            "2014-02-12          24.3             75.7      high\n",
            "2014-02-13          31.0             87.8      high\n",
            "2014-02-14          22.0             71.6    medium\n",
            "2014-02-15          35.0             95.0    medium\n",
            "\n",
            "\n",
            "            temp_celsius windspeed\n",
            "2014-02-12          24.3      high\n",
            "2014-02-13          31.0      high\n",
            "2014-02-14          22.0    medium\n",
            "2014-02-15          35.0    medium\n"
          ]
        }
      ]
    },
    {
      "cell_type": "code",
      "source": [
        "#5th function:-isin()\n",
        "\n",
        "df5 = pd.DataFrame({'num_legs': [2, 4], 'num_wings': [2, 0]},\n",
        "                  index=['falcon', 'dog'])\n",
        "print(df5)\n",
        "print(\"\\n\")\n",
        "\n",
        "#isinfunction\n",
        "\n",
        "print(df5.isin([0,2]))"
      ],
      "metadata": {
        "colab": {
          "base_uri": "https://localhost:8080/"
        },
        "id": "lyCiRQk09TYp",
        "outputId": "a73659ec-e6e4-4f6a-f74a-82310a46f0b8"
      },
      "execution_count": null,
      "outputs": [
        {
          "output_type": "stream",
          "name": "stdout",
          "text": [
            "        num_legs  num_wings\n",
            "falcon         2          2\n",
            "dog            4          0\n",
            "\n",
            "\n",
            "        num_legs  num_wings\n",
            "falcon      True       True\n",
            "dog        False       True\n"
          ]
        }
      ]
    },
    {
      "cell_type": "code",
      "source": [
        "#6th functio:-where()\n",
        "import numpy as np\n",
        "df6 = pd.DataFrame(np.arange(10).reshape(-1, 2), columns=['A', 'B'])\n",
        "print(df6)\n",
        "print(\"\\n\")\n",
        "\n",
        "#where\n",
        "\n",
        "print(df6.where(df6 > 7))"
      ],
      "metadata": {
        "colab": {
          "base_uri": "https://localhost:8080/"
        },
        "id": "g1Xz9cgN-HnW",
        "outputId": "d77a7ad7-0a4d-489b-f253-b2709a9546d5"
      },
      "execution_count": null,
      "outputs": [
        {
          "output_type": "stream",
          "name": "stdout",
          "text": [
            "   A  B\n",
            "0  0  1\n",
            "1  2  3\n",
            "2  4  5\n",
            "3  6  7\n",
            "4  8  9\n",
            "\n",
            "\n",
            "     A    B\n",
            "0  NaN  NaN\n",
            "1  NaN  NaN\n",
            "2  NaN  NaN\n",
            "3  NaN  NaN\n",
            "4  8.0  9.0\n"
          ]
        }
      ]
    },
    {
      "cell_type": "code",
      "source": [
        "#7th functio:-mask()\n",
        "import numpy as np\n",
        "df7 = pd.DataFrame(np.arange(10).reshape(-1, 2), columns=['A', 'B'])\n",
        "print(df7)\n",
        "print(\"\\n\")\n",
        "\n",
        "#mask\n",
        "\n",
        "print(df6.mask(df6 > 7))"
      ],
      "metadata": {
        "colab": {
          "base_uri": "https://localhost:8080/"
        },
        "id": "ks-H5GjBBf4b",
        "outputId": "c4be9df4-a071-49d7-e076-0f9512e0215b"
      },
      "execution_count": null,
      "outputs": [
        {
          "output_type": "stream",
          "name": "stdout",
          "text": [
            "   A  B\n",
            "0  0  1\n",
            "1  2  3\n",
            "2  4  5\n",
            "3  6  7\n",
            "4  8  9\n",
            "\n",
            "\n",
            "     A    B\n",
            "0  0.0  1.0\n",
            "1  2.0  3.0\n",
            "2  4.0  5.0\n",
            "3  6.0  7.0\n",
            "4  NaN  NaN\n"
          ]
        }
      ]
    },
    {
      "cell_type": "code",
      "source": [
        "#8th function:-combine()\n",
        "df8_1 = pd.DataFrame({'A': [0, 0], 'B': [4, 4]})\n",
        "print(df8_1)\n",
        "print(\"\\n\")\n",
        "\n",
        "df8_2 = pd.DataFrame({'A': [1, 1], 'B': [3, 3]})\n",
        "print(df8_2)\n",
        "print(\"\\n\")\n",
        "\n",
        "print(df8_1.combine(df8_2, np.minimum))"
      ],
      "metadata": {
        "colab": {
          "base_uri": "https://localhost:8080/"
        },
        "id": "fY69jOr0CXzX",
        "outputId": "1f9f0eb4-97b2-4c51-ce60-c4af56f428fb"
      },
      "execution_count": null,
      "outputs": [
        {
          "output_type": "stream",
          "name": "stdout",
          "text": [
            "   A  B\n",
            "0  0  4\n",
            "1  0  4\n",
            "\n",
            "\n",
            "   A  B\n",
            "0  1  3\n",
            "1  1  3\n",
            "\n",
            "\n",
            "   A  B\n",
            "0  0  3\n",
            "1  0  3\n"
          ]
        }
      ]
    },
    {
      "cell_type": "code",
      "source": [
        "#9th function :- merge()\n",
        "df9_1 = pd.DataFrame({'lkey': ['foo', 'bar', 'baz', 'foo'],\n",
        "                    'value': [1, 2, 3, 5]})\n",
        "print(df9_1)\n",
        "print(\"\\n\")\n",
        "\n",
        "df9_2 = pd.DataFrame({'rkey': ['foo', 'bar', 'baz', 'foo'],\n",
        "                    'value': [5, 6, 7, 8]})\n",
        "print(df9_2)\n",
        "print(\"\\n\")\n",
        "\n",
        "print(df9_1.merge(df9_2, left_on='lkey', right_on='rkey'))"
      ],
      "metadata": {
        "colab": {
          "base_uri": "https://localhost:8080/"
        },
        "id": "3CZijO1xEN1H",
        "outputId": "796c4545-2358-4e5a-d881-793d14af2243"
      },
      "execution_count": null,
      "outputs": [
        {
          "output_type": "stream",
          "name": "stdout",
          "text": [
            "  lkey  value\n",
            "0  foo      1\n",
            "1  bar      2\n",
            "2  baz      3\n",
            "3  foo      5\n",
            "\n",
            "\n",
            "  rkey  value\n",
            "0  foo      5\n",
            "1  bar      6\n",
            "2  baz      7\n",
            "3  foo      8\n",
            "\n",
            "\n",
            "  lkey  value_x rkey  value_y\n",
            "0  foo        1  foo        5\n",
            "1  foo        1  foo        8\n",
            "2  foo        5  foo        5\n",
            "3  foo        5  foo        8\n",
            "4  bar        2  bar        6\n",
            "5  baz        3  baz        7\n"
          ]
        }
      ]
    },
    {
      "cell_type": "code",
      "source": [
        "#10th function :- align()\n",
        "df10 = pd.DataFrame(\n",
        "    [[1, 2, 3, 4], [6, 7, 8, 9]], columns=[\"D\", \"B\", \"E\", \"A\"], index=[1, 2]\n",
        ")\n",
        "print(df10)\n",
        "print(\"\\n\")\n",
        "\n",
        "\n",
        "df10_1 = pd.DataFrame(\n",
        "    [[10, 20, 30, 40], [60, 70, 80, 90], [600, 700, 800, 900]],\n",
        "    columns=[\"A\", \"B\", \"C\", \"D\"],\n",
        "    index=[2, 3, 4],\n",
        ")\n",
        "print(df10_1)\n",
        "print(\"\\n\")\n",
        "\n",
        "left1, right1 = df10.align(df10_1, join=\"outer\", axis=1)\n",
        "print(left1)\n",
        "print(\"\\n\")\n",
        "print(right1)\n",
        "print(\"\\n\")\n",
        "\n",
        "left2, right2 = df10.align(df10_1, join=\"outer\", axis=0)\n",
        "print(left2)\n",
        "print(\"\\n\")\n",
        "print(right2)\n",
        "print(\"\\n\")\n",
        "\n",
        "\n",
        "left3, right3 = df10.align(df10_1, join=\"outer\", axis=None)\n",
        "print(left3)\n",
        "print(\"\\n\")\n",
        "print(right3)\n",
        "print(\"\\n\")\n"
      ],
      "metadata": {
        "id": "ghG9zS_NFPP8",
        "colab": {
          "base_uri": "https://localhost:8080/"
        },
        "outputId": "1ed63f44-30e3-4dbb-dab9-989628bb95c4"
      },
      "execution_count": null,
      "outputs": [
        {
          "output_type": "stream",
          "name": "stdout",
          "text": [
            "   D  B  E  A\n",
            "1  1  2  3  4\n",
            "2  6  7  8  9\n",
            "\n",
            "\n",
            "     A    B    C    D\n",
            "2   10   20   30   40\n",
            "3   60   70   80   90\n",
            "4  600  700  800  900\n",
            "\n",
            "\n",
            "   A  B   C  D  E\n",
            "1  4  2 NaN  1  3\n",
            "2  9  7 NaN  6  8\n",
            "\n",
            "\n",
            "     A    B    C    D   E\n",
            "2   10   20   30   40 NaN\n",
            "3   60   70   80   90 NaN\n",
            "4  600  700  800  900 NaN\n",
            "\n",
            "\n",
            "     D    B    E    A\n",
            "1  1.0  2.0  3.0  4.0\n",
            "2  6.0  7.0  8.0  9.0\n",
            "3  NaN  NaN  NaN  NaN\n",
            "4  NaN  NaN  NaN  NaN\n",
            "\n",
            "\n",
            "       A      B      C      D\n",
            "1    NaN    NaN    NaN    NaN\n",
            "2   10.0   20.0   30.0   40.0\n",
            "3   60.0   70.0   80.0   90.0\n",
            "4  600.0  700.0  800.0  900.0\n",
            "\n",
            "\n",
            "     A    B   C    D    E\n",
            "1  4.0  2.0 NaN  1.0  3.0\n",
            "2  9.0  7.0 NaN  6.0  8.0\n",
            "3  NaN  NaN NaN  NaN  NaN\n",
            "4  NaN  NaN NaN  NaN  NaN\n",
            "\n",
            "\n",
            "       A      B      C      D   E\n",
            "1    NaN    NaN    NaN    NaN NaN\n",
            "2   10.0   20.0   30.0   40.0 NaN\n",
            "3   60.0   70.0   80.0   90.0 NaN\n",
            "4  600.0  700.0  800.0  900.0 NaN\n",
            "\n",
            "\n"
          ]
        }
      ]
    }
  ]
}