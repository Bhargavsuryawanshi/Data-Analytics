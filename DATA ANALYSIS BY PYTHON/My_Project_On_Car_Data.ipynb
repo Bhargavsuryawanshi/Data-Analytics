{
 "cells": [
  {
   "attachments": {},
   "cell_type": "markdown",
   "metadata": {},
   "source": [
    " # My Project On Car Data "
   ]
  },
  {
   "attachments": {},
   "cell_type": "markdown",
   "metadata": {},
   "source": [
    " ## Import the data"
   ]
  },
  {
   "cell_type": "code",
   "execution_count": 81,
   "metadata": {},
   "outputs": [],
   "source": [
    "import pandas as pd"
   ]
  },
  {
   "cell_type": "code",
   "execution_count": 82,
   "metadata": {},
   "outputs": [],
   "source": [
    "car = pd.read_csv(r\"C:\\Users\\DELL\\Downloads\\2. Cars Data1.csv\")"
   ]
  },
  {
   "cell_type": "code",
   "execution_count": 83,
   "metadata": {},
   "outputs": [
    {
     "data": {
      "text/html": [
       "<div>\n",
       "<style scoped>\n",
       "    .dataframe tbody tr th:only-of-type {\n",
       "        vertical-align: middle;\n",
       "    }\n",
       "\n",
       "    .dataframe tbody tr th {\n",
       "        vertical-align: top;\n",
       "    }\n",
       "\n",
       "    .dataframe thead th {\n",
       "        text-align: right;\n",
       "    }\n",
       "</style>\n",
       "<table border=\"1\" class=\"dataframe\">\n",
       "  <thead>\n",
       "    <tr style=\"text-align: right;\">\n",
       "      <th></th>\n",
       "      <th>Make</th>\n",
       "      <th>Model</th>\n",
       "      <th>Type</th>\n",
       "      <th>Origin</th>\n",
       "      <th>DriveTrain</th>\n",
       "      <th>MSRP</th>\n",
       "      <th>Invoice</th>\n",
       "      <th>EngineSize</th>\n",
       "      <th>Cylinders</th>\n",
       "      <th>Horsepower</th>\n",
       "      <th>MPG_City</th>\n",
       "      <th>MPG_Highway</th>\n",
       "      <th>Weight</th>\n",
       "      <th>Wheelbase</th>\n",
       "      <th>Length</th>\n",
       "    </tr>\n",
       "  </thead>\n",
       "  <tbody>\n",
       "    <tr>\n",
       "      <th>0</th>\n",
       "      <td>Acura</td>\n",
       "      <td>MDX</td>\n",
       "      <td>SUV</td>\n",
       "      <td>Asia</td>\n",
       "      <td>All</td>\n",
       "      <td>$36,945</td>\n",
       "      <td>$33,337</td>\n",
       "      <td>3.5</td>\n",
       "      <td>6.0</td>\n",
       "      <td>265</td>\n",
       "      <td>17</td>\n",
       "      <td>23</td>\n",
       "      <td>4451</td>\n",
       "      <td>106</td>\n",
       "      <td>189</td>\n",
       "    </tr>\n",
       "    <tr>\n",
       "      <th>1</th>\n",
       "      <td>Acura</td>\n",
       "      <td>RSX Type S 2dr</td>\n",
       "      <td>Sedan</td>\n",
       "      <td>Asia</td>\n",
       "      <td>Front</td>\n",
       "      <td>$23,820</td>\n",
       "      <td>$21,761</td>\n",
       "      <td>2.0</td>\n",
       "      <td>4.0</td>\n",
       "      <td>200</td>\n",
       "      <td>24</td>\n",
       "      <td>31</td>\n",
       "      <td>2778</td>\n",
       "      <td>101</td>\n",
       "      <td>172</td>\n",
       "    </tr>\n",
       "    <tr>\n",
       "      <th>2</th>\n",
       "      <td>Acura</td>\n",
       "      <td>TSX 4dr</td>\n",
       "      <td>Sedan</td>\n",
       "      <td>Asia</td>\n",
       "      <td>Front</td>\n",
       "      <td>$26,990</td>\n",
       "      <td>$24,647</td>\n",
       "      <td>2.4</td>\n",
       "      <td>4.0</td>\n",
       "      <td>200</td>\n",
       "      <td>22</td>\n",
       "      <td>29</td>\n",
       "      <td>3230</td>\n",
       "      <td>105</td>\n",
       "      <td>183</td>\n",
       "    </tr>\n",
       "    <tr>\n",
       "      <th>3</th>\n",
       "      <td>Acura</td>\n",
       "      <td>TL 4dr</td>\n",
       "      <td>Sedan</td>\n",
       "      <td>Asia</td>\n",
       "      <td>Front</td>\n",
       "      <td>$33,195</td>\n",
       "      <td>$30,299</td>\n",
       "      <td>3.2</td>\n",
       "      <td>6.0</td>\n",
       "      <td>270</td>\n",
       "      <td>20</td>\n",
       "      <td>28</td>\n",
       "      <td>3575</td>\n",
       "      <td>108</td>\n",
       "      <td>186</td>\n",
       "    </tr>\n",
       "    <tr>\n",
       "      <th>4</th>\n",
       "      <td>Acura</td>\n",
       "      <td>3.5 RL 4dr</td>\n",
       "      <td>Sedan</td>\n",
       "      <td>Asia</td>\n",
       "      <td>Front</td>\n",
       "      <td>$43,755</td>\n",
       "      <td>$39,014</td>\n",
       "      <td>3.5</td>\n",
       "      <td>6.0</td>\n",
       "      <td>225</td>\n",
       "      <td>18</td>\n",
       "      <td>24</td>\n",
       "      <td>3880</td>\n",
       "      <td>115</td>\n",
       "      <td>197</td>\n",
       "    </tr>\n",
       "  </tbody>\n",
       "</table>\n",
       "</div>"
      ],
      "text/plain": [
       "    Make           Model   Type Origin DriveTrain      MSRP   Invoice  \\\n",
       "0  Acura             MDX    SUV   Asia        All  $36,945   $33,337    \n",
       "1  Acura  RSX Type S 2dr  Sedan   Asia      Front  $23,820   $21,761    \n",
       "2  Acura         TSX 4dr  Sedan   Asia      Front  $26,990   $24,647    \n",
       "3  Acura          TL 4dr  Sedan   Asia      Front  $33,195   $30,299    \n",
       "4  Acura      3.5 RL 4dr  Sedan   Asia      Front  $43,755   $39,014    \n",
       "\n",
       "   EngineSize  Cylinders  Horsepower  MPG_City  MPG_Highway  Weight  \\\n",
       "0         3.5        6.0         265        17           23    4451   \n",
       "1         2.0        4.0         200        24           31    2778   \n",
       "2         2.4        4.0         200        22           29    3230   \n",
       "3         3.2        6.0         270        20           28    3575   \n",
       "4         3.5        6.0         225        18           24    3880   \n",
       "\n",
       "   Wheelbase  Length  \n",
       "0        106     189  \n",
       "1        101     172  \n",
       "2        105     183  \n",
       "3        108     186  \n",
       "4        115     197  "
      ]
     },
     "execution_count": 83,
     "metadata": {},
     "output_type": "execute_result"
    }
   ],
   "source": [
    "car.head()"
   ]
  },
  {
   "cell_type": "code",
   "execution_count": 84,
   "metadata": {},
   "outputs": [
    {
     "data": {
      "text/plain": [
       "(428, 15)"
      ]
     },
     "execution_count": 84,
     "metadata": {},
     "output_type": "execute_result"
    }
   ],
   "source": [
    "car.shape"
   ]
  },
  {
   "attachments": {},
   "cell_type": "markdown",
   "metadata": {},
   "source": [
    " ## Data Cleaning"
   ]
  },
  {
   "cell_type": "code",
   "execution_count": 85,
   "metadata": {},
   "outputs": [
    {
     "data": {
      "text/plain": [
       "Make           0\n",
       "Model          0\n",
       "Type           0\n",
       "Origin         0\n",
       "DriveTrain     0\n",
       "MSRP           0\n",
       "Invoice        0\n",
       "EngineSize     0\n",
       "Cylinders      2\n",
       "Horsepower     0\n",
       "MPG_City       0\n",
       "MPG_Highway    0\n",
       "Weight         0\n",
       "Wheelbase      0\n",
       "Length         0\n",
       "dtype: int64"
      ]
     },
     "execution_count": 85,
     "metadata": {},
     "output_type": "execute_result"
    }
   ],
   "source": [
    "car.isnull().sum()"
   ]
  },
  {
   "attachments": {},
   "cell_type": "markdown",
   "metadata": {},
   "source": [
    " #### Fill the null values with the mean of that column."
   ]
  },
  {
   "cell_type": "code",
   "execution_count": 86,
   "metadata": {},
   "outputs": [],
   "source": [
    "car[\"Cylinders\"].fillna(car[\"Cylinders\"].mean(),inplace= True )"
   ]
  },
  {
   "cell_type": "code",
   "execution_count": 87,
   "metadata": {},
   "outputs": [
    {
     "data": {
      "text/plain": [
       "Make           0\n",
       "Model          0\n",
       "Type           0\n",
       "Origin         0\n",
       "DriveTrain     0\n",
       "MSRP           0\n",
       "Invoice        0\n",
       "EngineSize     0\n",
       "Cylinders      0\n",
       "Horsepower     0\n",
       "MPG_City       0\n",
       "MPG_Highway    0\n",
       "Weight         0\n",
       "Wheelbase      0\n",
       "Length         0\n",
       "dtype: int64"
      ]
     },
     "execution_count": 87,
     "metadata": {},
     "output_type": "execute_result"
    }
   ],
   "source": [
    "car.isnull().sum()"
   ]
  },
  {
   "attachments": {},
   "cell_type": "markdown",
   "metadata": {},
   "source": [
    " ## Based on Value counts\n",
    " #### check what are the different types of make are there in our dataset and what is the count of each make in the data?"
   ]
  },
  {
   "cell_type": "code",
   "execution_count": 88,
   "metadata": {},
   "outputs": [
    {
     "data": {
      "text/html": [
       "<div>\n",
       "<style scoped>\n",
       "    .dataframe tbody tr th:only-of-type {\n",
       "        vertical-align: middle;\n",
       "    }\n",
       "\n",
       "    .dataframe tbody tr th {\n",
       "        vertical-align: top;\n",
       "    }\n",
       "\n",
       "    .dataframe thead th {\n",
       "        text-align: right;\n",
       "    }\n",
       "</style>\n",
       "<table border=\"1\" class=\"dataframe\">\n",
       "  <thead>\n",
       "    <tr style=\"text-align: right;\">\n",
       "      <th></th>\n",
       "      <th>Make</th>\n",
       "      <th>Model</th>\n",
       "      <th>Type</th>\n",
       "      <th>Origin</th>\n",
       "      <th>DriveTrain</th>\n",
       "      <th>MSRP</th>\n",
       "      <th>Invoice</th>\n",
       "      <th>EngineSize</th>\n",
       "      <th>Cylinders</th>\n",
       "      <th>Horsepower</th>\n",
       "      <th>MPG_City</th>\n",
       "      <th>MPG_Highway</th>\n",
       "      <th>Weight</th>\n",
       "      <th>Wheelbase</th>\n",
       "      <th>Length</th>\n",
       "    </tr>\n",
       "  </thead>\n",
       "  <tbody>\n",
       "    <tr>\n",
       "      <th>0</th>\n",
       "      <td>Acura</td>\n",
       "      <td>MDX</td>\n",
       "      <td>SUV</td>\n",
       "      <td>Asia</td>\n",
       "      <td>All</td>\n",
       "      <td>$36,945</td>\n",
       "      <td>$33,337</td>\n",
       "      <td>3.5</td>\n",
       "      <td>6.0</td>\n",
       "      <td>265</td>\n",
       "      <td>17</td>\n",
       "      <td>23</td>\n",
       "      <td>4451</td>\n",
       "      <td>106</td>\n",
       "      <td>189</td>\n",
       "    </tr>\n",
       "    <tr>\n",
       "      <th>1</th>\n",
       "      <td>Acura</td>\n",
       "      <td>RSX Type S 2dr</td>\n",
       "      <td>Sedan</td>\n",
       "      <td>Asia</td>\n",
       "      <td>Front</td>\n",
       "      <td>$23,820</td>\n",
       "      <td>$21,761</td>\n",
       "      <td>2.0</td>\n",
       "      <td>4.0</td>\n",
       "      <td>200</td>\n",
       "      <td>24</td>\n",
       "      <td>31</td>\n",
       "      <td>2778</td>\n",
       "      <td>101</td>\n",
       "      <td>172</td>\n",
       "    </tr>\n",
       "  </tbody>\n",
       "</table>\n",
       "</div>"
      ],
      "text/plain": [
       "    Make           Model   Type Origin DriveTrain      MSRP   Invoice  \\\n",
       "0  Acura             MDX    SUV   Asia        All  $36,945   $33,337    \n",
       "1  Acura  RSX Type S 2dr  Sedan   Asia      Front  $23,820   $21,761    \n",
       "\n",
       "   EngineSize  Cylinders  Horsepower  MPG_City  MPG_Highway  Weight  \\\n",
       "0         3.5        6.0         265        17           23    4451   \n",
       "1         2.0        4.0         200        24           31    2778   \n",
       "\n",
       "   Wheelbase  Length  \n",
       "0        106     189  \n",
       "1        101     172  "
      ]
     },
     "execution_count": 88,
     "metadata": {},
     "output_type": "execute_result"
    }
   ],
   "source": [
    "car.head(2)"
   ]
  },
  {
   "cell_type": "code",
   "execution_count": 89,
   "metadata": {},
   "outputs": [
    {
     "data": {
      "text/plain": [
       "Toyota           28\n",
       "Chevrolet        27\n",
       "Mercedes-Benz    26\n",
       "Ford             23\n",
       "BMW              20\n",
       "Audi             19\n",
       "Honda            17\n",
       "Nissan           17\n",
       "Volkswagen       15\n",
       "Chrysler         15\n",
       "Dodge            13\n",
       "Mitsubishi       13\n",
       "Volvo            12\n",
       "Jaguar           12\n",
       "Hyundai          12\n",
       "Subaru           11\n",
       "Pontiac          11\n",
       "Mazda            11\n",
       "Lexus            11\n",
       "Kia              11\n",
       "Buick             9\n",
       "Mercury           9\n",
       "Lincoln           9\n",
       "Saturn            8\n",
       "Cadillac          8\n",
       "Suzuki            8\n",
       "Infiniti          8\n",
       "GMC               8\n",
       "Acura             7\n",
       "Porsche           7\n",
       "Saab              7\n",
       "Land Rover        3\n",
       "Oldsmobile        3\n",
       "Jeep              3\n",
       "Scion             2\n",
       "Isuzu             2\n",
       "MINI              2\n",
       "Hummer            1\n",
       "Name: Make, dtype: int64"
      ]
     },
     "execution_count": 89,
     "metadata": {},
     "output_type": "execute_result"
    }
   ],
   "source": [
    "car['Make'].value_counts()"
   ]
  },
  {
   "attachments": {},
   "cell_type": "markdown",
   "metadata": {},
   "source": [
    " ## Data Filtering\n",
    " ### show all the records where origin is asia or europe. "
   ]
  },
  {
   "cell_type": "code",
   "execution_count": 90,
   "metadata": {},
   "outputs": [
    {
     "data": {
      "text/html": [
       "<div>\n",
       "<style scoped>\n",
       "    .dataframe tbody tr th:only-of-type {\n",
       "        vertical-align: middle;\n",
       "    }\n",
       "\n",
       "    .dataframe tbody tr th {\n",
       "        vertical-align: top;\n",
       "    }\n",
       "\n",
       "    .dataframe thead th {\n",
       "        text-align: right;\n",
       "    }\n",
       "</style>\n",
       "<table border=\"1\" class=\"dataframe\">\n",
       "  <thead>\n",
       "    <tr style=\"text-align: right;\">\n",
       "      <th></th>\n",
       "      <th>Make</th>\n",
       "      <th>Model</th>\n",
       "      <th>Type</th>\n",
       "      <th>Origin</th>\n",
       "      <th>DriveTrain</th>\n",
       "      <th>MSRP</th>\n",
       "      <th>Invoice</th>\n",
       "      <th>EngineSize</th>\n",
       "      <th>Cylinders</th>\n",
       "      <th>Horsepower</th>\n",
       "      <th>MPG_City</th>\n",
       "      <th>MPG_Highway</th>\n",
       "      <th>Weight</th>\n",
       "      <th>Wheelbase</th>\n",
       "      <th>Length</th>\n",
       "    </tr>\n",
       "  </thead>\n",
       "  <tbody>\n",
       "    <tr>\n",
       "      <th>0</th>\n",
       "      <td>Acura</td>\n",
       "      <td>MDX</td>\n",
       "      <td>SUV</td>\n",
       "      <td>Asia</td>\n",
       "      <td>All</td>\n",
       "      <td>$36,945</td>\n",
       "      <td>$33,337</td>\n",
       "      <td>3.5</td>\n",
       "      <td>6.0</td>\n",
       "      <td>265</td>\n",
       "      <td>17</td>\n",
       "      <td>23</td>\n",
       "      <td>4451</td>\n",
       "      <td>106</td>\n",
       "      <td>189</td>\n",
       "    </tr>\n",
       "    <tr>\n",
       "      <th>1</th>\n",
       "      <td>Acura</td>\n",
       "      <td>RSX Type S 2dr</td>\n",
       "      <td>Sedan</td>\n",
       "      <td>Asia</td>\n",
       "      <td>Front</td>\n",
       "      <td>$23,820</td>\n",
       "      <td>$21,761</td>\n",
       "      <td>2.0</td>\n",
       "      <td>4.0</td>\n",
       "      <td>200</td>\n",
       "      <td>24</td>\n",
       "      <td>31</td>\n",
       "      <td>2778</td>\n",
       "      <td>101</td>\n",
       "      <td>172</td>\n",
       "    </tr>\n",
       "  </tbody>\n",
       "</table>\n",
       "</div>"
      ],
      "text/plain": [
       "    Make           Model   Type Origin DriveTrain      MSRP   Invoice  \\\n",
       "0  Acura             MDX    SUV   Asia        All  $36,945   $33,337    \n",
       "1  Acura  RSX Type S 2dr  Sedan   Asia      Front  $23,820   $21,761    \n",
       "\n",
       "   EngineSize  Cylinders  Horsepower  MPG_City  MPG_Highway  Weight  \\\n",
       "0         3.5        6.0         265        17           23    4451   \n",
       "1         2.0        4.0         200        24           31    2778   \n",
       "\n",
       "   Wheelbase  Length  \n",
       "0        106     189  \n",
       "1        101     172  "
      ]
     },
     "execution_count": 90,
     "metadata": {},
     "output_type": "execute_result"
    }
   ],
   "source": [
    "car.head(2)"
   ]
  },
  {
   "cell_type": "code",
   "execution_count": 91,
   "metadata": {},
   "outputs": [
    {
     "data": {
      "text/html": [
       "<div>\n",
       "<style scoped>\n",
       "    .dataframe tbody tr th:only-of-type {\n",
       "        vertical-align: middle;\n",
       "    }\n",
       "\n",
       "    .dataframe tbody tr th {\n",
       "        vertical-align: top;\n",
       "    }\n",
       "\n",
       "    .dataframe thead th {\n",
       "        text-align: right;\n",
       "    }\n",
       "</style>\n",
       "<table border=\"1\" class=\"dataframe\">\n",
       "  <thead>\n",
       "    <tr style=\"text-align: right;\">\n",
       "      <th></th>\n",
       "      <th>Make</th>\n",
       "      <th>Model</th>\n",
       "      <th>Type</th>\n",
       "      <th>Origin</th>\n",
       "      <th>DriveTrain</th>\n",
       "      <th>MSRP</th>\n",
       "      <th>Invoice</th>\n",
       "      <th>EngineSize</th>\n",
       "      <th>Cylinders</th>\n",
       "      <th>Horsepower</th>\n",
       "      <th>MPG_City</th>\n",
       "      <th>MPG_Highway</th>\n",
       "      <th>Weight</th>\n",
       "      <th>Wheelbase</th>\n",
       "      <th>Length</th>\n",
       "    </tr>\n",
       "  </thead>\n",
       "  <tbody>\n",
       "    <tr>\n",
       "      <th>0</th>\n",
       "      <td>Acura</td>\n",
       "      <td>MDX</td>\n",
       "      <td>SUV</td>\n",
       "      <td>Asia</td>\n",
       "      <td>All</td>\n",
       "      <td>$36,945</td>\n",
       "      <td>$33,337</td>\n",
       "      <td>3.5</td>\n",
       "      <td>6.0</td>\n",
       "      <td>265</td>\n",
       "      <td>17</td>\n",
       "      <td>23</td>\n",
       "      <td>4451</td>\n",
       "      <td>106</td>\n",
       "      <td>189</td>\n",
       "    </tr>\n",
       "    <tr>\n",
       "      <th>1</th>\n",
       "      <td>Acura</td>\n",
       "      <td>RSX Type S 2dr</td>\n",
       "      <td>Sedan</td>\n",
       "      <td>Asia</td>\n",
       "      <td>Front</td>\n",
       "      <td>$23,820</td>\n",
       "      <td>$21,761</td>\n",
       "      <td>2.0</td>\n",
       "      <td>4.0</td>\n",
       "      <td>200</td>\n",
       "      <td>24</td>\n",
       "      <td>31</td>\n",
       "      <td>2778</td>\n",
       "      <td>101</td>\n",
       "      <td>172</td>\n",
       "    </tr>\n",
       "    <tr>\n",
       "      <th>2</th>\n",
       "      <td>Acura</td>\n",
       "      <td>TSX 4dr</td>\n",
       "      <td>Sedan</td>\n",
       "      <td>Asia</td>\n",
       "      <td>Front</td>\n",
       "      <td>$26,990</td>\n",
       "      <td>$24,647</td>\n",
       "      <td>2.4</td>\n",
       "      <td>4.0</td>\n",
       "      <td>200</td>\n",
       "      <td>22</td>\n",
       "      <td>29</td>\n",
       "      <td>3230</td>\n",
       "      <td>105</td>\n",
       "      <td>183</td>\n",
       "    </tr>\n",
       "    <tr>\n",
       "      <th>3</th>\n",
       "      <td>Acura</td>\n",
       "      <td>TL 4dr</td>\n",
       "      <td>Sedan</td>\n",
       "      <td>Asia</td>\n",
       "      <td>Front</td>\n",
       "      <td>$33,195</td>\n",
       "      <td>$30,299</td>\n",
       "      <td>3.2</td>\n",
       "      <td>6.0</td>\n",
       "      <td>270</td>\n",
       "      <td>20</td>\n",
       "      <td>28</td>\n",
       "      <td>3575</td>\n",
       "      <td>108</td>\n",
       "      <td>186</td>\n",
       "    </tr>\n",
       "    <tr>\n",
       "      <th>4</th>\n",
       "      <td>Acura</td>\n",
       "      <td>3.5 RL 4dr</td>\n",
       "      <td>Sedan</td>\n",
       "      <td>Asia</td>\n",
       "      <td>Front</td>\n",
       "      <td>$43,755</td>\n",
       "      <td>$39,014</td>\n",
       "      <td>3.5</td>\n",
       "      <td>6.0</td>\n",
       "      <td>225</td>\n",
       "      <td>18</td>\n",
       "      <td>24</td>\n",
       "      <td>3880</td>\n",
       "      <td>115</td>\n",
       "      <td>197</td>\n",
       "    </tr>\n",
       "    <tr>\n",
       "      <th>...</th>\n",
       "      <td>...</td>\n",
       "      <td>...</td>\n",
       "      <td>...</td>\n",
       "      <td>...</td>\n",
       "      <td>...</td>\n",
       "      <td>...</td>\n",
       "      <td>...</td>\n",
       "      <td>...</td>\n",
       "      <td>...</td>\n",
       "      <td>...</td>\n",
       "      <td>...</td>\n",
       "      <td>...</td>\n",
       "      <td>...</td>\n",
       "      <td>...</td>\n",
       "      <td>...</td>\n",
       "    </tr>\n",
       "    <tr>\n",
       "      <th>423</th>\n",
       "      <td>Volvo</td>\n",
       "      <td>C70 LPT convertible 2dr</td>\n",
       "      <td>Sedan</td>\n",
       "      <td>Europe</td>\n",
       "      <td>Front</td>\n",
       "      <td>$40,565</td>\n",
       "      <td>$38,203</td>\n",
       "      <td>2.4</td>\n",
       "      <td>5.0</td>\n",
       "      <td>197</td>\n",
       "      <td>21</td>\n",
       "      <td>28</td>\n",
       "      <td>3450</td>\n",
       "      <td>105</td>\n",
       "      <td>186</td>\n",
       "    </tr>\n",
       "    <tr>\n",
       "      <th>424</th>\n",
       "      <td>Volvo</td>\n",
       "      <td>C70 HPT convertible 2dr</td>\n",
       "      <td>Sedan</td>\n",
       "      <td>Europe</td>\n",
       "      <td>Front</td>\n",
       "      <td>$42,565</td>\n",
       "      <td>$40,083</td>\n",
       "      <td>2.3</td>\n",
       "      <td>5.0</td>\n",
       "      <td>242</td>\n",
       "      <td>20</td>\n",
       "      <td>26</td>\n",
       "      <td>3450</td>\n",
       "      <td>105</td>\n",
       "      <td>186</td>\n",
       "    </tr>\n",
       "    <tr>\n",
       "      <th>425</th>\n",
       "      <td>Volvo</td>\n",
       "      <td>S80 T6 4dr</td>\n",
       "      <td>Sedan</td>\n",
       "      <td>Europe</td>\n",
       "      <td>Front</td>\n",
       "      <td>$45,210</td>\n",
       "      <td>$42,573</td>\n",
       "      <td>2.9</td>\n",
       "      <td>6.0</td>\n",
       "      <td>268</td>\n",
       "      <td>19</td>\n",
       "      <td>26</td>\n",
       "      <td>3653</td>\n",
       "      <td>110</td>\n",
       "      <td>190</td>\n",
       "    </tr>\n",
       "    <tr>\n",
       "      <th>426</th>\n",
       "      <td>Volvo</td>\n",
       "      <td>V40</td>\n",
       "      <td>Wagon</td>\n",
       "      <td>Europe</td>\n",
       "      <td>Front</td>\n",
       "      <td>$26,135</td>\n",
       "      <td>$24,641</td>\n",
       "      <td>1.9</td>\n",
       "      <td>4.0</td>\n",
       "      <td>170</td>\n",
       "      <td>22</td>\n",
       "      <td>29</td>\n",
       "      <td>2822</td>\n",
       "      <td>101</td>\n",
       "      <td>180</td>\n",
       "    </tr>\n",
       "    <tr>\n",
       "      <th>427</th>\n",
       "      <td>Volvo</td>\n",
       "      <td>XC70</td>\n",
       "      <td>Wagon</td>\n",
       "      <td>Europe</td>\n",
       "      <td>All</td>\n",
       "      <td>$35,145</td>\n",
       "      <td>$33,112</td>\n",
       "      <td>2.5</td>\n",
       "      <td>5.0</td>\n",
       "      <td>208</td>\n",
       "      <td>20</td>\n",
       "      <td>27</td>\n",
       "      <td>3823</td>\n",
       "      <td>109</td>\n",
       "      <td>186</td>\n",
       "    </tr>\n",
       "  </tbody>\n",
       "</table>\n",
       "<p>281 rows × 15 columns</p>\n",
       "</div>"
      ],
      "text/plain": [
       "      Make                    Model   Type  Origin DriveTrain      MSRP  \\\n",
       "0    Acura                      MDX    SUV    Asia        All  $36,945    \n",
       "1    Acura           RSX Type S 2dr  Sedan    Asia      Front  $23,820    \n",
       "2    Acura                  TSX 4dr  Sedan    Asia      Front  $26,990    \n",
       "3    Acura                   TL 4dr  Sedan    Asia      Front  $33,195    \n",
       "4    Acura               3.5 RL 4dr  Sedan    Asia      Front  $43,755    \n",
       "..     ...                      ...    ...     ...        ...       ...   \n",
       "423  Volvo  C70 LPT convertible 2dr  Sedan  Europe      Front  $40,565    \n",
       "424  Volvo  C70 HPT convertible 2dr  Sedan  Europe      Front  $42,565    \n",
       "425  Volvo               S80 T6 4dr  Sedan  Europe      Front  $45,210    \n",
       "426  Volvo                      V40  Wagon  Europe      Front  $26,135    \n",
       "427  Volvo                     XC70  Wagon  Europe        All  $35,145    \n",
       "\n",
       "      Invoice  EngineSize  Cylinders  Horsepower  MPG_City  MPG_Highway  \\\n",
       "0    $33,337          3.5        6.0         265        17           23   \n",
       "1    $21,761          2.0        4.0         200        24           31   \n",
       "2    $24,647          2.4        4.0         200        22           29   \n",
       "3    $30,299          3.2        6.0         270        20           28   \n",
       "4    $39,014          3.5        6.0         225        18           24   \n",
       "..        ...         ...        ...         ...       ...          ...   \n",
       "423  $38,203          2.4        5.0         197        21           28   \n",
       "424  $40,083          2.3        5.0         242        20           26   \n",
       "425  $42,573          2.9        6.0         268        19           26   \n",
       "426  $24,641          1.9        4.0         170        22           29   \n",
       "427  $33,112          2.5        5.0         208        20           27   \n",
       "\n",
       "     Weight  Wheelbase  Length  \n",
       "0      4451        106     189  \n",
       "1      2778        101     172  \n",
       "2      3230        105     183  \n",
       "3      3575        108     186  \n",
       "4      3880        115     197  \n",
       "..      ...        ...     ...  \n",
       "423    3450        105     186  \n",
       "424    3450        105     186  \n",
       "425    3653        110     190  \n",
       "426    2822        101     180  \n",
       "427    3823        109     186  \n",
       "\n",
       "[281 rows x 15 columns]"
      ]
     },
     "execution_count": 91,
     "metadata": {},
     "output_type": "execute_result"
    }
   ],
   "source": [
    "car[car[\"Origin\"].isin(['Asia','Europe'])]"
   ]
  },
  {
   "attachments": {},
   "cell_type": "markdown",
   "metadata": {},
   "source": [
    " ### Removing all the records where weight is above 4000(Removing unwanted records)"
   ]
  },
  {
   "cell_type": "code",
   "execution_count": 92,
   "metadata": {},
   "outputs": [
    {
     "data": {
      "text/html": [
       "<div>\n",
       "<style scoped>\n",
       "    .dataframe tbody tr th:only-of-type {\n",
       "        vertical-align: middle;\n",
       "    }\n",
       "\n",
       "    .dataframe tbody tr th {\n",
       "        vertical-align: top;\n",
       "    }\n",
       "\n",
       "    .dataframe thead th {\n",
       "        text-align: right;\n",
       "    }\n",
       "</style>\n",
       "<table border=\"1\" class=\"dataframe\">\n",
       "  <thead>\n",
       "    <tr style=\"text-align: right;\">\n",
       "      <th></th>\n",
       "      <th>Make</th>\n",
       "      <th>Model</th>\n",
       "      <th>Type</th>\n",
       "      <th>Origin</th>\n",
       "      <th>DriveTrain</th>\n",
       "      <th>MSRP</th>\n",
       "      <th>Invoice</th>\n",
       "      <th>EngineSize</th>\n",
       "      <th>Cylinders</th>\n",
       "      <th>Horsepower</th>\n",
       "      <th>MPG_City</th>\n",
       "      <th>MPG_Highway</th>\n",
       "      <th>Weight</th>\n",
       "      <th>Wheelbase</th>\n",
       "      <th>Length</th>\n",
       "    </tr>\n",
       "  </thead>\n",
       "  <tbody>\n",
       "    <tr>\n",
       "      <th>0</th>\n",
       "      <td>Acura</td>\n",
       "      <td>MDX</td>\n",
       "      <td>SUV</td>\n",
       "      <td>Asia</td>\n",
       "      <td>All</td>\n",
       "      <td>$36,945</td>\n",
       "      <td>$33,337</td>\n",
       "      <td>3.5</td>\n",
       "      <td>6.0</td>\n",
       "      <td>265</td>\n",
       "      <td>17</td>\n",
       "      <td>23</td>\n",
       "      <td>4451</td>\n",
       "      <td>106</td>\n",
       "      <td>189</td>\n",
       "    </tr>\n",
       "  </tbody>\n",
       "</table>\n",
       "</div>"
      ],
      "text/plain": [
       "    Make Model Type Origin DriveTrain      MSRP   Invoice  EngineSize  \\\n",
       "0  Acura   MDX  SUV   Asia        All  $36,945   $33,337          3.5   \n",
       "\n",
       "   Cylinders  Horsepower  MPG_City  MPG_Highway  Weight  Wheelbase  Length  \n",
       "0        6.0         265        17           23    4451        106     189  "
      ]
     },
     "execution_count": 92,
     "metadata": {},
     "output_type": "execute_result"
    }
   ],
   "source": [
    "car.head(1)"
   ]
  },
  {
   "cell_type": "code",
   "execution_count": 93,
   "metadata": {},
   "outputs": [],
   "source": [
    "#car[~(car[\"weight\"]>4000)]\n",
    "#this method is used for remove all the records where weight is above 4000."
   ]
  },
  {
   "attachments": {},
   "cell_type": "markdown",
   "metadata": {},
   "source": [
    " ### Applying function on a column"
   ]
  },
  {
   "cell_type": "code",
   "execution_count": 94,
   "metadata": {},
   "outputs": [],
   "source": [
    "#car[\"MPG_City\"] = car[\"MPG_City\"].apply(lambda x : x+3)\n",
    "#this function will increase MPG_City by 3."
   ]
  },
  {
   "attachments": {},
   "cell_type": "markdown",
   "metadata": {},
   "source": [
    " ## Removing outliers from Data"
   ]
  },
  {
   "cell_type": "code",
   "execution_count": 95,
   "metadata": {},
   "outputs": [],
   "source": [
    "import plotly.express as px\n"
   ]
  },
  {
   "cell_type": "code",
   "execution_count": 96,
   "metadata": {},
   "outputs": [
    {
     "data": {
      "text/html": [
       "<div>\n",
       "<style scoped>\n",
       "    .dataframe tbody tr th:only-of-type {\n",
       "        vertical-align: middle;\n",
       "    }\n",
       "\n",
       "    .dataframe tbody tr th {\n",
       "        vertical-align: top;\n",
       "    }\n",
       "\n",
       "    .dataframe thead th {\n",
       "        text-align: right;\n",
       "    }\n",
       "</style>\n",
       "<table border=\"1\" class=\"dataframe\">\n",
       "  <thead>\n",
       "    <tr style=\"text-align: right;\">\n",
       "      <th></th>\n",
       "      <th>Make</th>\n",
       "      <th>Model</th>\n",
       "      <th>Type</th>\n",
       "      <th>Origin</th>\n",
       "      <th>DriveTrain</th>\n",
       "      <th>MSRP</th>\n",
       "      <th>Invoice</th>\n",
       "      <th>EngineSize</th>\n",
       "      <th>Cylinders</th>\n",
       "      <th>Horsepower</th>\n",
       "      <th>MPG_City</th>\n",
       "      <th>MPG_Highway</th>\n",
       "      <th>Weight</th>\n",
       "      <th>Wheelbase</th>\n",
       "      <th>Length</th>\n",
       "    </tr>\n",
       "  </thead>\n",
       "  <tbody>\n",
       "    <tr>\n",
       "      <th>0</th>\n",
       "      <td>Acura</td>\n",
       "      <td>MDX</td>\n",
       "      <td>SUV</td>\n",
       "      <td>Asia</td>\n",
       "      <td>All</td>\n",
       "      <td>$36,945</td>\n",
       "      <td>$33,337</td>\n",
       "      <td>3.5</td>\n",
       "      <td>6.0</td>\n",
       "      <td>265</td>\n",
       "      <td>17</td>\n",
       "      <td>23</td>\n",
       "      <td>4451</td>\n",
       "      <td>106</td>\n",
       "      <td>189</td>\n",
       "    </tr>\n",
       "    <tr>\n",
       "      <th>1</th>\n",
       "      <td>Acura</td>\n",
       "      <td>RSX Type S 2dr</td>\n",
       "      <td>Sedan</td>\n",
       "      <td>Asia</td>\n",
       "      <td>Front</td>\n",
       "      <td>$23,820</td>\n",
       "      <td>$21,761</td>\n",
       "      <td>2.0</td>\n",
       "      <td>4.0</td>\n",
       "      <td>200</td>\n",
       "      <td>24</td>\n",
       "      <td>31</td>\n",
       "      <td>2778</td>\n",
       "      <td>101</td>\n",
       "      <td>172</td>\n",
       "    </tr>\n",
       "    <tr>\n",
       "      <th>2</th>\n",
       "      <td>Acura</td>\n",
       "      <td>TSX 4dr</td>\n",
       "      <td>Sedan</td>\n",
       "      <td>Asia</td>\n",
       "      <td>Front</td>\n",
       "      <td>$26,990</td>\n",
       "      <td>$24,647</td>\n",
       "      <td>2.4</td>\n",
       "      <td>4.0</td>\n",
       "      <td>200</td>\n",
       "      <td>22</td>\n",
       "      <td>29</td>\n",
       "      <td>3230</td>\n",
       "      <td>105</td>\n",
       "      <td>183</td>\n",
       "    </tr>\n",
       "  </tbody>\n",
       "</table>\n",
       "</div>"
      ],
      "text/plain": [
       "    Make           Model   Type Origin DriveTrain      MSRP   Invoice  \\\n",
       "0  Acura             MDX    SUV   Asia        All  $36,945   $33,337    \n",
       "1  Acura  RSX Type S 2dr  Sedan   Asia      Front  $23,820   $21,761    \n",
       "2  Acura         TSX 4dr  Sedan   Asia      Front  $26,990   $24,647    \n",
       "\n",
       "   EngineSize  Cylinders  Horsepower  MPG_City  MPG_Highway  Weight  \\\n",
       "0         3.5        6.0         265        17           23    4451   \n",
       "1         2.0        4.0         200        24           31    2778   \n",
       "2         2.4        4.0         200        22           29    3230   \n",
       "\n",
       "   Wheelbase  Length  \n",
       "0        106     189  \n",
       "1        101     172  \n",
       "2        105     183  "
      ]
     },
     "execution_count": 96,
     "metadata": {},
     "output_type": "execute_result"
    }
   ],
   "source": [
    "car.head(3)"
   ]
  },
  {
   "attachments": {},
   "cell_type": "markdown",
   "metadata": {},
   "source": [
    "### Removing Outliers from MSRP column"
   ]
  },
  {
   "cell_type": "code",
   "execution_count": 97,
   "metadata": {},
   "outputs": [
    {
     "data": {
      "application/vnd.plotly.v1+json": {
       "config": {
        "plotlyServerURL": "https://plot.ly"
       },
       "data": [
        {
         "hovertemplate": "variable=MSRP<br>index=%{x}<br>value=%{y}<extra></extra>",
         "legendgroup": "MSRP",
         "marker": {
          "color": "#636efa",
          "symbol": "circle"
         },
         "mode": "markers",
         "name": "MSRP",
         "orientation": "v",
         "showlegend": true,
         "type": "scatter",
         "x": [
          0,
          1,
          2,
          3,
          4,
          5,
          6,
          7,
          8,
          9,
          10,
          11,
          12,
          13,
          14,
          15,
          16,
          17,
          18,
          19,
          20,
          21,
          22,
          23,
          24,
          25,
          26,
          27,
          28,
          29,
          30,
          31,
          32,
          33,
          34,
          35,
          36,
          37,
          38,
          39,
          40,
          41,
          42,
          43,
          44,
          45,
          46,
          47,
          48,
          49,
          50,
          51,
          52,
          53,
          54,
          55,
          56,
          57,
          58,
          59,
          60,
          61,
          62,
          63,
          64,
          65,
          66,
          67,
          68,
          69,
          70,
          71,
          72,
          73,
          74,
          75,
          76,
          77,
          78,
          79,
          80,
          81,
          82,
          83,
          84,
          85,
          86,
          87,
          88,
          89,
          90,
          91,
          92,
          93,
          94,
          95,
          96,
          97,
          98,
          99,
          100,
          101,
          102,
          103,
          104,
          105,
          106,
          107,
          108,
          109,
          110,
          111,
          112,
          113,
          114,
          115,
          116,
          117,
          118,
          119,
          120,
          121,
          122,
          123,
          124,
          125,
          126,
          127,
          128,
          129,
          130,
          131,
          132,
          133,
          134,
          135,
          136,
          137,
          138,
          139,
          140,
          141,
          142,
          143,
          144,
          145,
          146,
          147,
          148,
          149,
          150,
          151,
          152,
          153,
          154,
          155,
          156,
          157,
          158,
          159,
          160,
          161,
          162,
          163,
          164,
          165,
          166,
          167,
          168,
          169,
          170,
          171,
          172,
          173,
          174,
          175,
          176,
          177,
          178,
          179,
          180,
          181,
          182,
          183,
          184,
          185,
          186,
          187,
          188,
          189,
          190,
          191,
          192,
          193,
          194,
          195,
          196,
          197,
          198,
          199,
          200,
          201,
          202,
          203,
          204,
          205,
          206,
          207,
          208,
          209,
          210,
          211,
          212,
          213,
          214,
          215,
          216,
          217,
          218,
          219,
          220,
          221,
          222,
          223,
          224,
          225,
          226,
          227,
          228,
          229,
          230,
          231,
          232,
          233,
          234,
          235,
          236,
          237,
          238,
          239,
          240,
          241,
          242,
          243,
          244,
          245,
          246,
          247,
          248,
          249,
          250,
          251,
          252,
          253,
          254,
          255,
          256,
          257,
          258,
          259,
          260,
          261,
          262,
          263,
          264,
          265,
          266,
          267,
          268,
          269,
          270,
          271,
          272,
          273,
          274,
          275,
          276,
          277,
          278,
          279,
          280,
          281,
          282,
          283,
          284,
          285,
          286,
          287,
          288,
          289,
          290,
          291,
          292,
          293,
          294,
          295,
          296,
          297,
          298,
          299,
          300,
          301,
          302,
          303,
          304,
          305,
          306,
          307,
          308,
          309,
          310,
          311,
          312,
          313,
          314,
          315,
          316,
          317,
          318,
          319,
          320,
          321,
          322,
          323,
          324,
          325,
          326,
          327,
          328,
          329,
          330,
          331,
          332,
          333,
          334,
          335,
          336,
          337,
          338,
          339,
          340,
          341,
          342,
          343,
          344,
          345,
          346,
          347,
          348,
          349,
          350,
          351,
          352,
          353,
          354,
          355,
          356,
          357,
          358,
          359,
          360,
          361,
          362,
          363,
          364,
          365,
          366,
          367,
          368,
          369,
          370,
          371,
          372,
          373,
          374,
          375,
          376,
          377,
          378,
          379,
          380,
          381,
          382,
          383,
          384,
          385,
          386,
          387,
          388,
          389,
          390,
          391,
          392,
          393,
          394,
          395,
          396,
          397,
          398,
          399,
          400,
          401,
          402,
          403,
          404,
          405,
          406,
          407,
          408,
          409,
          410,
          411,
          412,
          413,
          414,
          415,
          416,
          417,
          418,
          419,
          420,
          421,
          422,
          423,
          424,
          425,
          426,
          427
         ],
         "xaxis": "x",
         "y": [
          "$36,945 ",
          "$23,820 ",
          "$26,990 ",
          "$33,195 ",
          "$43,755 ",
          "$46,100 ",
          "$89,765 ",
          "$25,940 ",
          "$35,940 ",
          "$31,840 ",
          "$33,430 ",
          "$34,480 ",
          "$36,640 ",
          "$39,640 ",
          "$42,490 ",
          "$44,240 ",
          "$42,840 ",
          "$49,690 ",
          "$69,190 ",
          "$48,040 ",
          "$84,600 ",
          "$35,940 ",
          "$37,390 ",
          "$40,590 ",
          "$40,840 ",
          "$49,090 ",
          "$37,000 ",
          "$52,195 ",
          "$28,495 ",
          "$30,795 ",
          "$37,995 ",
          "$30,245 ",
          "$35,495 ",
          "$36,995 ",
          "$37,245 ",
          "$39,995 ",
          "$44,295 ",
          "$44,995 ",
          "$54,995 ",
          "$69,195 ",
          "$73,195 ",
          "$48,195 ",
          "$56,595 ",
          "$33,895 ",
          "$41,045 ",
          "$32,845 ",
          "$37,895 ",
          "$26,545 ",
          "$22,180 ",
          "$26,470 ",
          "$24,895 ",
          "$28,345 ",
          "$32,245 ",
          "$35,545 ",
          "$40,720 ",
          "$52,795 ",
          "$46,995 ",
          "$30,835 ",
          "$45,445 ",
          "$50,595 ",
          "$47,955 ",
          "$76,200 ",
          "$52,975 ",
          "$42,735 ",
          "$41,465 ",
          "$30,295 ",
          "$20,255 ",
          "$11,690 ",
          "$12,585 ",
          "$14,610 ",
          "$14,810 ",
          "$16,385 ",
          "$21,900 ",
          "$18,995 ",
          "$20,370 ",
          "$21,825 ",
          "$25,000 ",
          "$27,995 ",
          "$23,495 ",
          "$24,225 ",
          "$26,395 ",
          "$27,020 ",
          "$44,535 ",
          "$51,535 ",
          "$36,100 ",
          "$18,760 ",
          "$20,310 ",
          "$40,340 ",
          "$41,995 ",
          "$22,225 ",
          "$17,985 ",
          "$22,000 ",
          "$19,090 ",
          "$21,840 ",
          "$29,865 ",
          "$24,130 ",
          "$26,860 ",
          "$25,955 ",
          "$25,215 ",
          "$33,295 ",
          "$30,950 ",
          "$27,490 ",
          "$38,380 ",
          "$34,495 ",
          "$31,230 ",
          "$32,235 ",
          "$13,670 ",
          "$15,040 ",
          "$22,035 ",
          "$18,820 ",
          "$20,220 ",
          "$24,885 ",
          "$21,795 ",
          "$32,660 ",
          "$81,795 ",
          "$17,630 ",
          "$20,300 ",
          "$20,215 ",
          "$41,475 ",
          "$34,560 ",
          "$29,670 ",
          "$22,515 ",
          "$13,270 ",
          "$13,730 ",
          "$15,460 ",
          "$15,580 ",
          "$19,135 ",
          "$20,320 ",
          "$22,735 ",
          "$24,345 ",
          "$27,370 ",
          "$30,315 ",
          "$26,930 ",
          "$18,345 ",
          "$29,380 ",
          "$37,530 ",
          "$22,010 ",
          "$33,540 ",
          "$14,385 ",
          "$17,475 ",
          "$22,290 ",
          "$31,890 ",
          "$35,725 ",
          "$46,265 ",
          "$25,640 ",
          "$16,530 ",
          "$25,717 ",
          "$29,322 ",
          "$25,395 ",
          "$20,140 ",
          "$19,110 ",
          "$27,560 ",
          "$19,860 ",
          "$18,690 ",
          "$13,270 ",
          "$14,170 ",
          "$15,850 ",
          "$19,860 ",
          "$22,260 ",
          "$17,750 ",
          "$19,490 ",
          "$23,760 ",
          "$26,960 ",
          "$24,950 ",
          "$27,450 ",
          "$33,260 ",
          "$49,995 ",
          "$21,589 ",
          "$10,539 ",
          "$11,839 ",
          "$11,939 ",
          "$13,839 ",
          "$15,389 ",
          "$15,389 ",
          "$19,339 ",
          "$20,339 ",
          "$24,589 ",
          "$26,189 ",
          "$18,739 ",
          "$28,495 ",
          "$29,795 ",
          "$32,445 ",
          "$31,145 ",
          "$42,845 ",
          "$52,545 ",
          "$34,895 ",
          "$36,395 ",
          "$31,849 ",
          "$20,449 ",
          "$29,995 ",
          "$33,995 ",
          "$43,895 ",
          "$49,995 ",
          "$63,120 ",
          "$68,995 ",
          "$59,995 ",
          "$74,995 ",
          "$69,995 ",
          "$74,995 ",
          "$81,995 ",
          "$86,995 ",
          "$27,905 ",
          "$20,130 ",
          "$25,520 ",
          "$19,635 ",
          "$16,040 ",
          "$10,280 ",
          "$11,155 ",
          "$12,360 ",
          "$13,580 ",
          "$14,630 ",
          "$18,435 ",
          "$26,000 ",
          "$20,615 ",
          "$11,905 ",
          "$72,250 ",
          "$39,250 ",
          "$25,995 ",
          "$45,700 ",
          "$64,800 ",
          "$39,195 ",
          "$32,350 ",
          "$31,045 ",
          "$32,415 ",
          "$41,010 ",
          "$48,450 ",
          "$55,750 ",
          "$63,200 ",
          "$32,455 ",
          "$52,775 ",
          "$42,915 ",
          "$32,495 ",
          "$36,895 ",
          "$40,095 ",
          "$43,495 ",
          "$41,815 ",
          "$44,925 ",
          "$50,470 ",
          "$16,999 ",
          "$19,999 ",
          "$21,087 ",
          "$15,500 ",
          "$17,200 ",
          "$19,270 ",
          "$28,750 ",
          "$22,388 ",
          "$25,193 ",
          "$25,700 ",
          "$27,200 ",
          "$14,840 ",
          "$22,350 ",
          "$76,870 ",
          "$46,470 ",
          "$26,060 ",
          "$28,370 ",
          "$32,280 ",
          "$33,480 ",
          "$35,920 ",
          "$37,630 ",
          "$38,830 ",
          "$52,120 ",
          "$94,820 ",
          "$128,420 ",
          "$45,707 ",
          "$52,800 ",
          "$48,170 ",
          "$57,270 ",
          "$74,320 ",
          "$86,970 ",
          "$90,520 ",
          "$121,770 ",
          "$126,670 ",
          "$40,320 ",
          "$56,170 ",
          "$33,780 ",
          "$50,670 ",
          "$60,670 ",
          "$29,995 ",
          "$21,595 ",
          "$24,695 ",
          "$29,595 ",
          "$23,895 ",
          "$30,895 ",
          "$34,495 ",
          "$33,995 ",
          "$22,595 ",
          "$30,492 ",
          "$33,112 ",
          "$18,892 ",
          "$14,622 ",
          "$16,722 ",
          "$19,312 ",
          "$17,232 ",
          "$29,282 ",
          "$25,700 ",
          "$25,092 ",
          "$26,992 ",
          "$29,562 ",
          "$17,495 ",
          "$33,840 ",
          "$27,339 ",
          "$20,939 ",
          "$12,740 ",
          "$14,740 ",
          "$19,240 ",
          "$17,640 ",
          "$23,290 ",
          "$27,490 ",
          "$29,440 ",
          "$24,780 ",
          "$32,780 ",
          "$26,910 ",
          "$34,390 ",
          "$19,479 ",
          "$26,650 ",
          "$28,739 ",
          "$18,825 ",
          "$23,675 ",
          "$28,790 ",
          "$21,595 ",
          "$15,495 ",
          "$22,450 ",
          "$22,395 ",
          "$17,735 ",
          "$24,295 ",
          "$35,995 ",
          "$23,845 ",
          "$31,370 ",
          "$33,500 ",
          "$17,045 ",
          "$56,665 ",
          "$79,165 ",
          "$84,165 ",
          "$76,765 ",
          "$192,465 ",
          "$43,365 ",
          "$52,365 ",
          "$30,860 ",
          "$33,360 ",
          "$35,105 ",
          "$39,465 ",
          "$40,670 ",
          "$43,175 ",
          "$40,845 ",
          "$20,585 ",
          "$10,995 ",
          "$14,300 ",
          "$15,825 ",
          "$14,850 ",
          "$16,350 ",
          "$21,410 ",
          "$23,560 ",
          "$12,965 ",
          "$14,165 ",
          "$19,945 ",
          "$20,445 ",
          "$25,645 ",
          "$27,145 ",
          "$29,345 ",
          "$31,545 ",
          "$25,045 ",
          "$31,545 ",
          "$24,520 ",
          "$21,445 ",
          "$23,895 ",
          "$23,699 ",
          "$17,163 ",
          "$12,884 ",
          "$14,500 ",
          "$12,269 ",
          "$15,568 ",
          "$17,262 ",
          "$16,497 ",
          "$20,510 ",
          "$35,695 ",
          "$27,710 ",
          "$27,930 ",
          "$54,765 ",
          "$20,290 ",
          "$14,085 ",
          "$15,030 ",
          "$15,295 ",
          "$10,760 ",
          "$11,560 ",
          "$11,290 ",
          "$19,560 ",
          "$22,775 ",
          "$19,635 ",
          "$21,965 ",
          "$26,560 ",
          "$25,920 ",
          "$26,510 ",
          "$30,920 ",
          "$23,495 ",
          "$28,800 ",
          "$22,570 ",
          "$25,130 ",
          "$12,800 ",
          "$16,495 ",
          "$25,935 ",
          "$16,695 ",
          "$35,515 ",
          "$18,715 ",
          "$19,825 ",
          "$21,055 ",
          "$21,055 ",
          "$23,785 ",
          "$23,215 ",
          "$23,955 ",
          "$33,180 ",
          "$39,235 ",
          "$65,000 ",
          "$75,000 ",
          "$19,005 ",
          "$24,955 ",
          "$40,235 ",
          "$41,250 ",
          "$25,135 ",
          "$31,745 ",
          "$34,845 ",
          "$37,560 ",
          "$37,730 ",
          "$37,885 ",
          "$40,565 ",
          "$42,565 ",
          "$45,210 ",
          "$26,135 ",
          "$35,145 "
         ],
         "yaxis": "y"
        }
       ],
       "layout": {
        "legend": {
         "title": {
          "text": "variable"
         },
         "tracegroupgap": 0
        },
        "margin": {
         "t": 60
        },
        "template": {
         "data": {
          "bar": [
           {
            "error_x": {
             "color": "#2a3f5f"
            },
            "error_y": {
             "color": "#2a3f5f"
            },
            "marker": {
             "line": {
              "color": "#E5ECF6",
              "width": 0.5
             },
             "pattern": {
              "fillmode": "overlay",
              "size": 10,
              "solidity": 0.2
             }
            },
            "type": "bar"
           }
          ],
          "barpolar": [
           {
            "marker": {
             "line": {
              "color": "#E5ECF6",
              "width": 0.5
             },
             "pattern": {
              "fillmode": "overlay",
              "size": 10,
              "solidity": 0.2
             }
            },
            "type": "barpolar"
           }
          ],
          "carpet": [
           {
            "aaxis": {
             "endlinecolor": "#2a3f5f",
             "gridcolor": "white",
             "linecolor": "white",
             "minorgridcolor": "white",
             "startlinecolor": "#2a3f5f"
            },
            "baxis": {
             "endlinecolor": "#2a3f5f",
             "gridcolor": "white",
             "linecolor": "white",
             "minorgridcolor": "white",
             "startlinecolor": "#2a3f5f"
            },
            "type": "carpet"
           }
          ],
          "choropleth": [
           {
            "colorbar": {
             "outlinewidth": 0,
             "ticks": ""
            },
            "type": "choropleth"
           }
          ],
          "contour": [
           {
            "colorbar": {
             "outlinewidth": 0,
             "ticks": ""
            },
            "colorscale": [
             [
              0,
              "#0d0887"
             ],
             [
              0.1111111111111111,
              "#46039f"
             ],
             [
              0.2222222222222222,
              "#7201a8"
             ],
             [
              0.3333333333333333,
              "#9c179e"
             ],
             [
              0.4444444444444444,
              "#bd3786"
             ],
             [
              0.5555555555555556,
              "#d8576b"
             ],
             [
              0.6666666666666666,
              "#ed7953"
             ],
             [
              0.7777777777777778,
              "#fb9f3a"
             ],
             [
              0.8888888888888888,
              "#fdca26"
             ],
             [
              1,
              "#f0f921"
             ]
            ],
            "type": "contour"
           }
          ],
          "contourcarpet": [
           {
            "colorbar": {
             "outlinewidth": 0,
             "ticks": ""
            },
            "type": "contourcarpet"
           }
          ],
          "heatmap": [
           {
            "colorbar": {
             "outlinewidth": 0,
             "ticks": ""
            },
            "colorscale": [
             [
              0,
              "#0d0887"
             ],
             [
              0.1111111111111111,
              "#46039f"
             ],
             [
              0.2222222222222222,
              "#7201a8"
             ],
             [
              0.3333333333333333,
              "#9c179e"
             ],
             [
              0.4444444444444444,
              "#bd3786"
             ],
             [
              0.5555555555555556,
              "#d8576b"
             ],
             [
              0.6666666666666666,
              "#ed7953"
             ],
             [
              0.7777777777777778,
              "#fb9f3a"
             ],
             [
              0.8888888888888888,
              "#fdca26"
             ],
             [
              1,
              "#f0f921"
             ]
            ],
            "type": "heatmap"
           }
          ],
          "heatmapgl": [
           {
            "colorbar": {
             "outlinewidth": 0,
             "ticks": ""
            },
            "colorscale": [
             [
              0,
              "#0d0887"
             ],
             [
              0.1111111111111111,
              "#46039f"
             ],
             [
              0.2222222222222222,
              "#7201a8"
             ],
             [
              0.3333333333333333,
              "#9c179e"
             ],
             [
              0.4444444444444444,
              "#bd3786"
             ],
             [
              0.5555555555555556,
              "#d8576b"
             ],
             [
              0.6666666666666666,
              "#ed7953"
             ],
             [
              0.7777777777777778,
              "#fb9f3a"
             ],
             [
              0.8888888888888888,
              "#fdca26"
             ],
             [
              1,
              "#f0f921"
             ]
            ],
            "type": "heatmapgl"
           }
          ],
          "histogram": [
           {
            "marker": {
             "pattern": {
              "fillmode": "overlay",
              "size": 10,
              "solidity": 0.2
             }
            },
            "type": "histogram"
           }
          ],
          "histogram2d": [
           {
            "colorbar": {
             "outlinewidth": 0,
             "ticks": ""
            },
            "colorscale": [
             [
              0,
              "#0d0887"
             ],
             [
              0.1111111111111111,
              "#46039f"
             ],
             [
              0.2222222222222222,
              "#7201a8"
             ],
             [
              0.3333333333333333,
              "#9c179e"
             ],
             [
              0.4444444444444444,
              "#bd3786"
             ],
             [
              0.5555555555555556,
              "#d8576b"
             ],
             [
              0.6666666666666666,
              "#ed7953"
             ],
             [
              0.7777777777777778,
              "#fb9f3a"
             ],
             [
              0.8888888888888888,
              "#fdca26"
             ],
             [
              1,
              "#f0f921"
             ]
            ],
            "type": "histogram2d"
           }
          ],
          "histogram2dcontour": [
           {
            "colorbar": {
             "outlinewidth": 0,
             "ticks": ""
            },
            "colorscale": [
             [
              0,
              "#0d0887"
             ],
             [
              0.1111111111111111,
              "#46039f"
             ],
             [
              0.2222222222222222,
              "#7201a8"
             ],
             [
              0.3333333333333333,
              "#9c179e"
             ],
             [
              0.4444444444444444,
              "#bd3786"
             ],
             [
              0.5555555555555556,
              "#d8576b"
             ],
             [
              0.6666666666666666,
              "#ed7953"
             ],
             [
              0.7777777777777778,
              "#fb9f3a"
             ],
             [
              0.8888888888888888,
              "#fdca26"
             ],
             [
              1,
              "#f0f921"
             ]
            ],
            "type": "histogram2dcontour"
           }
          ],
          "mesh3d": [
           {
            "colorbar": {
             "outlinewidth": 0,
             "ticks": ""
            },
            "type": "mesh3d"
           }
          ],
          "parcoords": [
           {
            "line": {
             "colorbar": {
              "outlinewidth": 0,
              "ticks": ""
             }
            },
            "type": "parcoords"
           }
          ],
          "pie": [
           {
            "automargin": true,
            "type": "pie"
           }
          ],
          "scatter": [
           {
            "fillpattern": {
             "fillmode": "overlay",
             "size": 10,
             "solidity": 0.2
            },
            "type": "scatter"
           }
          ],
          "scatter3d": [
           {
            "line": {
             "colorbar": {
              "outlinewidth": 0,
              "ticks": ""
             }
            },
            "marker": {
             "colorbar": {
              "outlinewidth": 0,
              "ticks": ""
             }
            },
            "type": "scatter3d"
           }
          ],
          "scattercarpet": [
           {
            "marker": {
             "colorbar": {
              "outlinewidth": 0,
              "ticks": ""
             }
            },
            "type": "scattercarpet"
           }
          ],
          "scattergeo": [
           {
            "marker": {
             "colorbar": {
              "outlinewidth": 0,
              "ticks": ""
             }
            },
            "type": "scattergeo"
           }
          ],
          "scattergl": [
           {
            "marker": {
             "colorbar": {
              "outlinewidth": 0,
              "ticks": ""
             }
            },
            "type": "scattergl"
           }
          ],
          "scattermapbox": [
           {
            "marker": {
             "colorbar": {
              "outlinewidth": 0,
              "ticks": ""
             }
            },
            "type": "scattermapbox"
           }
          ],
          "scatterpolar": [
           {
            "marker": {
             "colorbar": {
              "outlinewidth": 0,
              "ticks": ""
             }
            },
            "type": "scatterpolar"
           }
          ],
          "scatterpolargl": [
           {
            "marker": {
             "colorbar": {
              "outlinewidth": 0,
              "ticks": ""
             }
            },
            "type": "scatterpolargl"
           }
          ],
          "scatterternary": [
           {
            "marker": {
             "colorbar": {
              "outlinewidth": 0,
              "ticks": ""
             }
            },
            "type": "scatterternary"
           }
          ],
          "surface": [
           {
            "colorbar": {
             "outlinewidth": 0,
             "ticks": ""
            },
            "colorscale": [
             [
              0,
              "#0d0887"
             ],
             [
              0.1111111111111111,
              "#46039f"
             ],
             [
              0.2222222222222222,
              "#7201a8"
             ],
             [
              0.3333333333333333,
              "#9c179e"
             ],
             [
              0.4444444444444444,
              "#bd3786"
             ],
             [
              0.5555555555555556,
              "#d8576b"
             ],
             [
              0.6666666666666666,
              "#ed7953"
             ],
             [
              0.7777777777777778,
              "#fb9f3a"
             ],
             [
              0.8888888888888888,
              "#fdca26"
             ],
             [
              1,
              "#f0f921"
             ]
            ],
            "type": "surface"
           }
          ],
          "table": [
           {
            "cells": {
             "fill": {
              "color": "#EBF0F8"
             },
             "line": {
              "color": "white"
             }
            },
            "header": {
             "fill": {
              "color": "#C8D4E3"
             },
             "line": {
              "color": "white"
             }
            },
            "type": "table"
           }
          ]
         },
         "layout": {
          "annotationdefaults": {
           "arrowcolor": "#2a3f5f",
           "arrowhead": 0,
           "arrowwidth": 1
          },
          "autotypenumbers": "strict",
          "coloraxis": {
           "colorbar": {
            "outlinewidth": 0,
            "ticks": ""
           }
          },
          "colorscale": {
           "diverging": [
            [
             0,
             "#8e0152"
            ],
            [
             0.1,
             "#c51b7d"
            ],
            [
             0.2,
             "#de77ae"
            ],
            [
             0.3,
             "#f1b6da"
            ],
            [
             0.4,
             "#fde0ef"
            ],
            [
             0.5,
             "#f7f7f7"
            ],
            [
             0.6,
             "#e6f5d0"
            ],
            [
             0.7,
             "#b8e186"
            ],
            [
             0.8,
             "#7fbc41"
            ],
            [
             0.9,
             "#4d9221"
            ],
            [
             1,
             "#276419"
            ]
           ],
           "sequential": [
            [
             0,
             "#0d0887"
            ],
            [
             0.1111111111111111,
             "#46039f"
            ],
            [
             0.2222222222222222,
             "#7201a8"
            ],
            [
             0.3333333333333333,
             "#9c179e"
            ],
            [
             0.4444444444444444,
             "#bd3786"
            ],
            [
             0.5555555555555556,
             "#d8576b"
            ],
            [
             0.6666666666666666,
             "#ed7953"
            ],
            [
             0.7777777777777778,
             "#fb9f3a"
            ],
            [
             0.8888888888888888,
             "#fdca26"
            ],
            [
             1,
             "#f0f921"
            ]
           ],
           "sequentialminus": [
            [
             0,
             "#0d0887"
            ],
            [
             0.1111111111111111,
             "#46039f"
            ],
            [
             0.2222222222222222,
             "#7201a8"
            ],
            [
             0.3333333333333333,
             "#9c179e"
            ],
            [
             0.4444444444444444,
             "#bd3786"
            ],
            [
             0.5555555555555556,
             "#d8576b"
            ],
            [
             0.6666666666666666,
             "#ed7953"
            ],
            [
             0.7777777777777778,
             "#fb9f3a"
            ],
            [
             0.8888888888888888,
             "#fdca26"
            ],
            [
             1,
             "#f0f921"
            ]
           ]
          },
          "colorway": [
           "#636efa",
           "#EF553B",
           "#00cc96",
           "#ab63fa",
           "#FFA15A",
           "#19d3f3",
           "#FF6692",
           "#B6E880",
           "#FF97FF",
           "#FECB52"
          ],
          "font": {
           "color": "#2a3f5f"
          },
          "geo": {
           "bgcolor": "white",
           "lakecolor": "white",
           "landcolor": "#E5ECF6",
           "showlakes": true,
           "showland": true,
           "subunitcolor": "white"
          },
          "hoverlabel": {
           "align": "left"
          },
          "hovermode": "closest",
          "mapbox": {
           "style": "light"
          },
          "paper_bgcolor": "white",
          "plot_bgcolor": "#E5ECF6",
          "polar": {
           "angularaxis": {
            "gridcolor": "white",
            "linecolor": "white",
            "ticks": ""
           },
           "bgcolor": "#E5ECF6",
           "radialaxis": {
            "gridcolor": "white",
            "linecolor": "white",
            "ticks": ""
           }
          },
          "scene": {
           "xaxis": {
            "backgroundcolor": "#E5ECF6",
            "gridcolor": "white",
            "gridwidth": 2,
            "linecolor": "white",
            "showbackground": true,
            "ticks": "",
            "zerolinecolor": "white"
           },
           "yaxis": {
            "backgroundcolor": "#E5ECF6",
            "gridcolor": "white",
            "gridwidth": 2,
            "linecolor": "white",
            "showbackground": true,
            "ticks": "",
            "zerolinecolor": "white"
           },
           "zaxis": {
            "backgroundcolor": "#E5ECF6",
            "gridcolor": "white",
            "gridwidth": 2,
            "linecolor": "white",
            "showbackground": true,
            "ticks": "",
            "zerolinecolor": "white"
           }
          },
          "shapedefaults": {
           "line": {
            "color": "#2a3f5f"
           }
          },
          "ternary": {
           "aaxis": {
            "gridcolor": "white",
            "linecolor": "white",
            "ticks": ""
           },
           "baxis": {
            "gridcolor": "white",
            "linecolor": "white",
            "ticks": ""
           },
           "bgcolor": "#E5ECF6",
           "caxis": {
            "gridcolor": "white",
            "linecolor": "white",
            "ticks": ""
           }
          },
          "title": {
           "x": 0.05
          },
          "xaxis": {
           "automargin": true,
           "gridcolor": "white",
           "linecolor": "white",
           "ticks": "",
           "title": {
            "standoff": 15
           },
           "zerolinecolor": "white",
           "zerolinewidth": 2
          },
          "yaxis": {
           "automargin": true,
           "gridcolor": "white",
           "linecolor": "white",
           "ticks": "",
           "title": {
            "standoff": 15
           },
           "zerolinecolor": "white",
           "zerolinewidth": 2
          }
         }
        },
        "xaxis": {
         "anchor": "y",
         "domain": [
          0,
          1
         ],
         "title": {
          "text": "index"
         }
        },
        "yaxis": {
         "anchor": "x",
         "domain": [
          0,
          1
         ],
         "title": {
          "text": "value"
         }
        }
       }
      }
     },
     "metadata": {},
     "output_type": "display_data"
    }
   ],
   "source": [
    "px.scatter(car[\"MSRP\"])"
   ]
  },
  {
   "cell_type": "code",
   "execution_count": 122,
   "metadata": {},
   "outputs": [
    {
     "data": {
      "text/html": [
       "<div>\n",
       "<style scoped>\n",
       "    .dataframe tbody tr th:only-of-type {\n",
       "        vertical-align: middle;\n",
       "    }\n",
       "\n",
       "    .dataframe tbody tr th {\n",
       "        vertical-align: top;\n",
       "    }\n",
       "\n",
       "    .dataframe thead th {\n",
       "        text-align: right;\n",
       "    }\n",
       "</style>\n",
       "<table border=\"1\" class=\"dataframe\">\n",
       "  <thead>\n",
       "    <tr style=\"text-align: right;\">\n",
       "      <th></th>\n",
       "      <th>Make</th>\n",
       "      <th>Model</th>\n",
       "      <th>Type</th>\n",
       "      <th>Origin</th>\n",
       "      <th>DriveTrain</th>\n",
       "      <th>MSRP</th>\n",
       "      <th>Invoice</th>\n",
       "      <th>EngineSize</th>\n",
       "      <th>Cylinders</th>\n",
       "      <th>Horsepower</th>\n",
       "      <th>MPG_City</th>\n",
       "      <th>MPG_Highway</th>\n",
       "      <th>Weight</th>\n",
       "      <th>Wheelbase</th>\n",
       "      <th>Length</th>\n",
       "    </tr>\n",
       "  </thead>\n",
       "  <tbody>\n",
       "    <tr>\n",
       "      <th>0</th>\n",
       "      <td>Acura</td>\n",
       "      <td>MDX</td>\n",
       "      <td>SUV</td>\n",
       "      <td>Asia</td>\n",
       "      <td>All</td>\n",
       "      <td>36945</td>\n",
       "      <td>$33,337</td>\n",
       "      <td>3.5</td>\n",
       "      <td>6.0</td>\n",
       "      <td>265</td>\n",
       "      <td>17.0</td>\n",
       "      <td>23.0</td>\n",
       "      <td>4451</td>\n",
       "      <td>106</td>\n",
       "      <td>189</td>\n",
       "    </tr>\n",
       "    <tr>\n",
       "      <th>1</th>\n",
       "      <td>Acura</td>\n",
       "      <td>RSX Type S 2dr</td>\n",
       "      <td>Sedan</td>\n",
       "      <td>Asia</td>\n",
       "      <td>Front</td>\n",
       "      <td>23820</td>\n",
       "      <td>$21,761</td>\n",
       "      <td>2.0</td>\n",
       "      <td>4.0</td>\n",
       "      <td>200</td>\n",
       "      <td>24.0</td>\n",
       "      <td>31.0</td>\n",
       "      <td>2778</td>\n",
       "      <td>101</td>\n",
       "      <td>172</td>\n",
       "    </tr>\n",
       "  </tbody>\n",
       "</table>\n",
       "</div>"
      ],
      "text/plain": [
       "    Make           Model   Type Origin DriveTrain   MSRP   Invoice  \\\n",
       "0  Acura             MDX    SUV   Asia        All  36945  $33,337    \n",
       "1  Acura  RSX Type S 2dr  Sedan   Asia      Front  23820  $21,761    \n",
       "\n",
       "   EngineSize  Cylinders  Horsepower  MPG_City  MPG_Highway  Weight  \\\n",
       "0         3.5        6.0         265      17.0         23.0    4451   \n",
       "1         2.0        4.0         200      24.0         31.0    2778   \n",
       "\n",
       "   Wheelbase  Length  \n",
       "0        106     189  \n",
       "1        101     172  "
      ]
     },
     "execution_count": 122,
     "metadata": {},
     "output_type": "execute_result"
    }
   ],
   "source": [
    "#removing $ string from MSRP column\n",
    "#car[\"MSRP\"] = car[\"MSRP\"].str.replace(r\"$\",\"\")\n",
    "#car[\"MSRP\"] = car[\"MSRP\"].str.replace(r\",\",\"\")\n",
    "#car[\"MSRP\"] = car[\"MSRP\"].astype(int)\n",
    "car.head(2)"
   ]
  },
  {
   "cell_type": "code",
   "execution_count": 123,
   "metadata": {},
   "outputs": [],
   "source": [
    "#Removing outliers from MSRP column\n",
    "def remove_outliers_MSRP(car):\n",
    "    IQR = car[\"MSRP\"].quantile(0.75) - car[\"MSRP\"].quantile(0.25)\n",
    "\n",
    "    lower_range = car[\"MSRP\"].quantile(0.25) - (1.5 * IQR)\n",
    "    upper_range = car[\"MSRP\"].quantile(0.75) + (1.5 * IQR)\n",
    "\n",
    "    car.loc[car[\"MSRP\"] <= lower_range, \"MSRP\" ] = lower_range\n",
    "    car.loc[car[\"MSRP\"] >= upper_range, \"MSRP\" ] = upper_range"
   ]
  },
  {
   "cell_type": "code",
   "execution_count": 124,
   "metadata": {},
   "outputs": [],
   "source": [
    "remove_outliers_MSRP(car)"
   ]
  },
  {
   "cell_type": "code",
   "execution_count": 126,
   "metadata": {},
   "outputs": [
    {
     "data": {
      "application/vnd.plotly.v1+json": {
       "config": {
        "plotlyServerURL": "https://plot.ly"
       },
       "data": [
        {
         "alignmentgroup": "True",
         "hovertemplate": "variable=%{x}<br>value=%{y}<extra></extra>",
         "legendgroup": "",
         "marker": {
          "color": "#636efa"
         },
         "name": "",
         "notched": false,
         "offsetgroup": "",
         "orientation": "v",
         "showlegend": false,
         "type": "box",
         "x": [
          "MSRP",
          "MSRP",
          "MSRP",
          "MSRP",
          "MSRP",
          "MSRP",
          "MSRP",
          "MSRP",
          "MSRP",
          "MSRP",
          "MSRP",
          "MSRP",
          "MSRP",
          "MSRP",
          "MSRP",
          "MSRP",
          "MSRP",
          "MSRP",
          "MSRP",
          "MSRP",
          "MSRP",
          "MSRP",
          "MSRP",
          "MSRP",
          "MSRP",
          "MSRP",
          "MSRP",
          "MSRP",
          "MSRP",
          "MSRP",
          "MSRP",
          "MSRP",
          "MSRP",
          "MSRP",
          "MSRP",
          "MSRP",
          "MSRP",
          "MSRP",
          "MSRP",
          "MSRP",
          "MSRP",
          "MSRP",
          "MSRP",
          "MSRP",
          "MSRP",
          "MSRP",
          "MSRP",
          "MSRP",
          "MSRP",
          "MSRP",
          "MSRP",
          "MSRP",
          "MSRP",
          "MSRP",
          "MSRP",
          "MSRP",
          "MSRP",
          "MSRP",
          "MSRP",
          "MSRP",
          "MSRP",
          "MSRP",
          "MSRP",
          "MSRP",
          "MSRP",
          "MSRP",
          "MSRP",
          "MSRP",
          "MSRP",
          "MSRP",
          "MSRP",
          "MSRP",
          "MSRP",
          "MSRP",
          "MSRP",
          "MSRP",
          "MSRP",
          "MSRP",
          "MSRP",
          "MSRP",
          "MSRP",
          "MSRP",
          "MSRP",
          "MSRP",
          "MSRP",
          "MSRP",
          "MSRP",
          "MSRP",
          "MSRP",
          "MSRP",
          "MSRP",
          "MSRP",
          "MSRP",
          "MSRP",
          "MSRP",
          "MSRP",
          "MSRP",
          "MSRP",
          "MSRP",
          "MSRP",
          "MSRP",
          "MSRP",
          "MSRP",
          "MSRP",
          "MSRP",
          "MSRP",
          "MSRP",
          "MSRP",
          "MSRP",
          "MSRP",
          "MSRP",
          "MSRP",
          "MSRP",
          "MSRP",
          "MSRP",
          "MSRP",
          "MSRP",
          "MSRP",
          "MSRP",
          "MSRP",
          "MSRP",
          "MSRP",
          "MSRP",
          "MSRP",
          "MSRP",
          "MSRP",
          "MSRP",
          "MSRP",
          "MSRP",
          "MSRP",
          "MSRP",
          "MSRP",
          "MSRP",
          "MSRP",
          "MSRP",
          "MSRP",
          "MSRP",
          "MSRP",
          "MSRP",
          "MSRP",
          "MSRP",
          "MSRP",
          "MSRP",
          "MSRP",
          "MSRP",
          "MSRP",
          "MSRP",
          "MSRP",
          "MSRP",
          "MSRP",
          "MSRP",
          "MSRP",
          "MSRP",
          "MSRP",
          "MSRP",
          "MSRP",
          "MSRP",
          "MSRP",
          "MSRP",
          "MSRP",
          "MSRP",
          "MSRP",
          "MSRP",
          "MSRP",
          "MSRP",
          "MSRP",
          "MSRP",
          "MSRP",
          "MSRP",
          "MSRP",
          "MSRP",
          "MSRP",
          "MSRP",
          "MSRP",
          "MSRP",
          "MSRP",
          "MSRP",
          "MSRP",
          "MSRP",
          "MSRP",
          "MSRP",
          "MSRP",
          "MSRP",
          "MSRP",
          "MSRP",
          "MSRP",
          "MSRP",
          "MSRP",
          "MSRP",
          "MSRP",
          "MSRP",
          "MSRP",
          "MSRP",
          "MSRP",
          "MSRP",
          "MSRP",
          "MSRP",
          "MSRP",
          "MSRP",
          "MSRP",
          "MSRP",
          "MSRP",
          "MSRP",
          "MSRP",
          "MSRP",
          "MSRP",
          "MSRP",
          "MSRP",
          "MSRP",
          "MSRP",
          "MSRP",
          "MSRP",
          "MSRP",
          "MSRP",
          "MSRP",
          "MSRP",
          "MSRP",
          "MSRP",
          "MSRP",
          "MSRP",
          "MSRP",
          "MSRP",
          "MSRP",
          "MSRP",
          "MSRP",
          "MSRP",
          "MSRP",
          "MSRP",
          "MSRP",
          "MSRP",
          "MSRP",
          "MSRP",
          "MSRP",
          "MSRP",
          "MSRP",
          "MSRP",
          "MSRP",
          "MSRP",
          "MSRP",
          "MSRP",
          "MSRP",
          "MSRP",
          "MSRP",
          "MSRP",
          "MSRP",
          "MSRP",
          "MSRP",
          "MSRP",
          "MSRP",
          "MSRP",
          "MSRP",
          "MSRP",
          "MSRP",
          "MSRP",
          "MSRP",
          "MSRP",
          "MSRP",
          "MSRP",
          "MSRP",
          "MSRP",
          "MSRP",
          "MSRP",
          "MSRP",
          "MSRP",
          "MSRP",
          "MSRP",
          "MSRP",
          "MSRP",
          "MSRP",
          "MSRP",
          "MSRP",
          "MSRP",
          "MSRP",
          "MSRP",
          "MSRP",
          "MSRP",
          "MSRP",
          "MSRP",
          "MSRP",
          "MSRP",
          "MSRP",
          "MSRP",
          "MSRP",
          "MSRP",
          "MSRP",
          "MSRP",
          "MSRP",
          "MSRP",
          "MSRP",
          "MSRP",
          "MSRP",
          "MSRP",
          "MSRP",
          "MSRP",
          "MSRP",
          "MSRP",
          "MSRP",
          "MSRP",
          "MSRP",
          "MSRP",
          "MSRP",
          "MSRP",
          "MSRP",
          "MSRP",
          "MSRP",
          "MSRP",
          "MSRP",
          "MSRP",
          "MSRP",
          "MSRP",
          "MSRP",
          "MSRP",
          "MSRP",
          "MSRP",
          "MSRP",
          "MSRP",
          "MSRP",
          "MSRP",
          "MSRP",
          "MSRP",
          "MSRP",
          "MSRP",
          "MSRP",
          "MSRP",
          "MSRP",
          "MSRP",
          "MSRP",
          "MSRP",
          "MSRP",
          "MSRP",
          "MSRP",
          "MSRP",
          "MSRP",
          "MSRP",
          "MSRP",
          "MSRP",
          "MSRP",
          "MSRP",
          "MSRP",
          "MSRP",
          "MSRP",
          "MSRP",
          "MSRP",
          "MSRP",
          "MSRP",
          "MSRP",
          "MSRP",
          "MSRP",
          "MSRP",
          "MSRP",
          "MSRP",
          "MSRP",
          "MSRP",
          "MSRP",
          "MSRP",
          "MSRP",
          "MSRP",
          "MSRP",
          "MSRP",
          "MSRP",
          "MSRP",
          "MSRP",
          "MSRP",
          "MSRP",
          "MSRP",
          "MSRP",
          "MSRP",
          "MSRP",
          "MSRP",
          "MSRP",
          "MSRP",
          "MSRP",
          "MSRP",
          "MSRP",
          "MSRP",
          "MSRP",
          "MSRP",
          "MSRP",
          "MSRP",
          "MSRP",
          "MSRP",
          "MSRP",
          "MSRP",
          "MSRP",
          "MSRP",
          "MSRP",
          "MSRP",
          "MSRP",
          "MSRP",
          "MSRP",
          "MSRP",
          "MSRP",
          "MSRP",
          "MSRP",
          "MSRP",
          "MSRP",
          "MSRP",
          "MSRP",
          "MSRP",
          "MSRP",
          "MSRP",
          "MSRP",
          "MSRP",
          "MSRP",
          "MSRP",
          "MSRP",
          "MSRP",
          "MSRP",
          "MSRP",
          "MSRP",
          "MSRP",
          "MSRP",
          "MSRP",
          "MSRP",
          "MSRP",
          "MSRP",
          "MSRP",
          "MSRP",
          "MSRP",
          "MSRP",
          "MSRP",
          "MSRP",
          "MSRP",
          "MSRP",
          "MSRP",
          "MSRP",
          "MSRP",
          "MSRP"
         ],
         "x0": " ",
         "xaxis": "x",
         "y": [
          36945,
          23820,
          26990,
          33195,
          43755,
          46100,
          67511.125,
          25940,
          35940,
          31840,
          33430,
          34480,
          36640,
          39640,
          42490,
          44240,
          42840,
          49690,
          67511.125,
          48040,
          67511.125,
          35940,
          37390,
          40590,
          40840,
          49090,
          37000,
          52195,
          28495,
          30795,
          37995,
          30245,
          35495,
          36995,
          37245,
          39995,
          44295,
          44995,
          54995,
          67511.125,
          67511.125,
          48195,
          56595,
          33895,
          41045,
          32845,
          37895,
          26545,
          22180,
          26470,
          24895,
          28345,
          32245,
          35545,
          40720,
          52795,
          46995,
          30835,
          45445,
          50595,
          47955,
          67511.125,
          52975,
          42735,
          41465,
          30295,
          20255,
          11690,
          12585,
          14610,
          14810,
          16385,
          21900,
          18995,
          20370,
          21825,
          25000,
          27995,
          23495,
          24225,
          26395,
          27020,
          44535,
          51535,
          36100,
          18760,
          20310,
          40340,
          41995,
          22225,
          17985,
          22000,
          19090,
          21840,
          29865,
          24130,
          26860,
          25955,
          25215,
          33295,
          30950,
          27490,
          38380,
          34495,
          31230,
          32235,
          13670,
          15040,
          22035,
          18820,
          20220,
          24885,
          21795,
          32660,
          67511.125,
          17630,
          20300,
          20215,
          41475,
          34560,
          29670,
          22515,
          13270,
          13730,
          15460,
          15580,
          19135,
          20320,
          22735,
          24345,
          27370,
          30315,
          26930,
          18345,
          29380,
          37530,
          22010,
          33540,
          14385,
          17475,
          22290,
          31890,
          35725,
          46265,
          25640,
          16530,
          25717,
          29322,
          25395,
          20140,
          19110,
          27560,
          19860,
          18690,
          13270,
          14170,
          15850,
          19860,
          22260,
          17750,
          19490,
          23760,
          26960,
          24950,
          27450,
          33260,
          49995,
          21589,
          10539,
          11839,
          11939,
          13839,
          15389,
          15389,
          19339,
          20339,
          24589,
          26189,
          18739,
          28495,
          29795,
          32445,
          31145,
          42845,
          52545,
          34895,
          36395,
          31849,
          20449,
          29995,
          33995,
          43895,
          49995,
          63120,
          67511.125,
          59995,
          67511.125,
          67511.125,
          67511.125,
          67511.125,
          67511.125,
          27905,
          20130,
          25520,
          19635,
          16040,
          10280,
          11155,
          12360,
          13580,
          14630,
          18435,
          26000,
          20615,
          11905,
          67511.125,
          39250,
          25995,
          45700,
          64800,
          39195,
          32350,
          31045,
          32415,
          41010,
          48450,
          55750,
          63200,
          32455,
          52775,
          42915,
          32495,
          36895,
          40095,
          43495,
          41815,
          44925,
          50470,
          16999,
          19999,
          21087,
          15500,
          17200,
          19270,
          28750,
          22388,
          25193,
          25700,
          27200,
          14840,
          22350,
          67511.125,
          46470,
          26060,
          28370,
          32280,
          33480,
          35920,
          37630,
          38830,
          52120,
          67511.125,
          67511.125,
          45707,
          52800,
          48170,
          57270,
          67511.125,
          67511.125,
          67511.125,
          67511.125,
          67511.125,
          40320,
          56170,
          33780,
          50670,
          60670,
          29995,
          21595,
          24695,
          29595,
          23895,
          30895,
          34495,
          33995,
          22595,
          30492,
          33112,
          18892,
          14622,
          16722,
          19312,
          17232,
          29282,
          25700,
          25092,
          26992,
          29562,
          17495,
          33840,
          27339,
          20939,
          12740,
          14740,
          19240,
          17640,
          23290,
          27490,
          29440,
          24780,
          32780,
          26910,
          34390,
          19479,
          26650,
          28739,
          18825,
          23675,
          28790,
          21595,
          15495,
          22450,
          22395,
          17735,
          24295,
          35995,
          23845,
          31370,
          33500,
          17045,
          56665,
          67511.125,
          67511.125,
          67511.125,
          67511.125,
          43365,
          52365,
          30860,
          33360,
          35105,
          39465,
          40670,
          43175,
          40845,
          20585,
          10995,
          14300,
          15825,
          14850,
          16350,
          21410,
          23560,
          12965,
          14165,
          19945,
          20445,
          25645,
          27145,
          29345,
          31545,
          25045,
          31545,
          24520,
          21445,
          23895,
          23699,
          17163,
          12884,
          14500,
          12269,
          15568,
          17262,
          16497,
          20510,
          35695,
          27710,
          27930,
          54765,
          20290,
          14085,
          15030,
          15295,
          10760,
          11560,
          11290,
          19560,
          22775,
          19635,
          21965,
          26560,
          25920,
          26510,
          30920,
          23495,
          28800,
          22570,
          25130,
          12800,
          16495,
          25935,
          16695,
          35515,
          18715,
          19825,
          21055,
          21055,
          23785,
          23215,
          23955,
          33180,
          39235,
          65000,
          67511.125,
          19005,
          24955,
          40235,
          41250,
          25135,
          31745,
          34845,
          37560,
          37730,
          37885,
          40565,
          42565,
          45210,
          26135,
          35145
         ],
         "y0": " ",
         "yaxis": "y"
        }
       ],
       "layout": {
        "boxmode": "group",
        "legend": {
         "tracegroupgap": 0
        },
        "margin": {
         "t": 60
        },
        "template": {
         "data": {
          "bar": [
           {
            "error_x": {
             "color": "#2a3f5f"
            },
            "error_y": {
             "color": "#2a3f5f"
            },
            "marker": {
             "line": {
              "color": "#E5ECF6",
              "width": 0.5
             },
             "pattern": {
              "fillmode": "overlay",
              "size": 10,
              "solidity": 0.2
             }
            },
            "type": "bar"
           }
          ],
          "barpolar": [
           {
            "marker": {
             "line": {
              "color": "#E5ECF6",
              "width": 0.5
             },
             "pattern": {
              "fillmode": "overlay",
              "size": 10,
              "solidity": 0.2
             }
            },
            "type": "barpolar"
           }
          ],
          "carpet": [
           {
            "aaxis": {
             "endlinecolor": "#2a3f5f",
             "gridcolor": "white",
             "linecolor": "white",
             "minorgridcolor": "white",
             "startlinecolor": "#2a3f5f"
            },
            "baxis": {
             "endlinecolor": "#2a3f5f",
             "gridcolor": "white",
             "linecolor": "white",
             "minorgridcolor": "white",
             "startlinecolor": "#2a3f5f"
            },
            "type": "carpet"
           }
          ],
          "choropleth": [
           {
            "colorbar": {
             "outlinewidth": 0,
             "ticks": ""
            },
            "type": "choropleth"
           }
          ],
          "contour": [
           {
            "colorbar": {
             "outlinewidth": 0,
             "ticks": ""
            },
            "colorscale": [
             [
              0,
              "#0d0887"
             ],
             [
              0.1111111111111111,
              "#46039f"
             ],
             [
              0.2222222222222222,
              "#7201a8"
             ],
             [
              0.3333333333333333,
              "#9c179e"
             ],
             [
              0.4444444444444444,
              "#bd3786"
             ],
             [
              0.5555555555555556,
              "#d8576b"
             ],
             [
              0.6666666666666666,
              "#ed7953"
             ],
             [
              0.7777777777777778,
              "#fb9f3a"
             ],
             [
              0.8888888888888888,
              "#fdca26"
             ],
             [
              1,
              "#f0f921"
             ]
            ],
            "type": "contour"
           }
          ],
          "contourcarpet": [
           {
            "colorbar": {
             "outlinewidth": 0,
             "ticks": ""
            },
            "type": "contourcarpet"
           }
          ],
          "heatmap": [
           {
            "colorbar": {
             "outlinewidth": 0,
             "ticks": ""
            },
            "colorscale": [
             [
              0,
              "#0d0887"
             ],
             [
              0.1111111111111111,
              "#46039f"
             ],
             [
              0.2222222222222222,
              "#7201a8"
             ],
             [
              0.3333333333333333,
              "#9c179e"
             ],
             [
              0.4444444444444444,
              "#bd3786"
             ],
             [
              0.5555555555555556,
              "#d8576b"
             ],
             [
              0.6666666666666666,
              "#ed7953"
             ],
             [
              0.7777777777777778,
              "#fb9f3a"
             ],
             [
              0.8888888888888888,
              "#fdca26"
             ],
             [
              1,
              "#f0f921"
             ]
            ],
            "type": "heatmap"
           }
          ],
          "heatmapgl": [
           {
            "colorbar": {
             "outlinewidth": 0,
             "ticks": ""
            },
            "colorscale": [
             [
              0,
              "#0d0887"
             ],
             [
              0.1111111111111111,
              "#46039f"
             ],
             [
              0.2222222222222222,
              "#7201a8"
             ],
             [
              0.3333333333333333,
              "#9c179e"
             ],
             [
              0.4444444444444444,
              "#bd3786"
             ],
             [
              0.5555555555555556,
              "#d8576b"
             ],
             [
              0.6666666666666666,
              "#ed7953"
             ],
             [
              0.7777777777777778,
              "#fb9f3a"
             ],
             [
              0.8888888888888888,
              "#fdca26"
             ],
             [
              1,
              "#f0f921"
             ]
            ],
            "type": "heatmapgl"
           }
          ],
          "histogram": [
           {
            "marker": {
             "pattern": {
              "fillmode": "overlay",
              "size": 10,
              "solidity": 0.2
             }
            },
            "type": "histogram"
           }
          ],
          "histogram2d": [
           {
            "colorbar": {
             "outlinewidth": 0,
             "ticks": ""
            },
            "colorscale": [
             [
              0,
              "#0d0887"
             ],
             [
              0.1111111111111111,
              "#46039f"
             ],
             [
              0.2222222222222222,
              "#7201a8"
             ],
             [
              0.3333333333333333,
              "#9c179e"
             ],
             [
              0.4444444444444444,
              "#bd3786"
             ],
             [
              0.5555555555555556,
              "#d8576b"
             ],
             [
              0.6666666666666666,
              "#ed7953"
             ],
             [
              0.7777777777777778,
              "#fb9f3a"
             ],
             [
              0.8888888888888888,
              "#fdca26"
             ],
             [
              1,
              "#f0f921"
             ]
            ],
            "type": "histogram2d"
           }
          ],
          "histogram2dcontour": [
           {
            "colorbar": {
             "outlinewidth": 0,
             "ticks": ""
            },
            "colorscale": [
             [
              0,
              "#0d0887"
             ],
             [
              0.1111111111111111,
              "#46039f"
             ],
             [
              0.2222222222222222,
              "#7201a8"
             ],
             [
              0.3333333333333333,
              "#9c179e"
             ],
             [
              0.4444444444444444,
              "#bd3786"
             ],
             [
              0.5555555555555556,
              "#d8576b"
             ],
             [
              0.6666666666666666,
              "#ed7953"
             ],
             [
              0.7777777777777778,
              "#fb9f3a"
             ],
             [
              0.8888888888888888,
              "#fdca26"
             ],
             [
              1,
              "#f0f921"
             ]
            ],
            "type": "histogram2dcontour"
           }
          ],
          "mesh3d": [
           {
            "colorbar": {
             "outlinewidth": 0,
             "ticks": ""
            },
            "type": "mesh3d"
           }
          ],
          "parcoords": [
           {
            "line": {
             "colorbar": {
              "outlinewidth": 0,
              "ticks": ""
             }
            },
            "type": "parcoords"
           }
          ],
          "pie": [
           {
            "automargin": true,
            "type": "pie"
           }
          ],
          "scatter": [
           {
            "fillpattern": {
             "fillmode": "overlay",
             "size": 10,
             "solidity": 0.2
            },
            "type": "scatter"
           }
          ],
          "scatter3d": [
           {
            "line": {
             "colorbar": {
              "outlinewidth": 0,
              "ticks": ""
             }
            },
            "marker": {
             "colorbar": {
              "outlinewidth": 0,
              "ticks": ""
             }
            },
            "type": "scatter3d"
           }
          ],
          "scattercarpet": [
           {
            "marker": {
             "colorbar": {
              "outlinewidth": 0,
              "ticks": ""
             }
            },
            "type": "scattercarpet"
           }
          ],
          "scattergeo": [
           {
            "marker": {
             "colorbar": {
              "outlinewidth": 0,
              "ticks": ""
             }
            },
            "type": "scattergeo"
           }
          ],
          "scattergl": [
           {
            "marker": {
             "colorbar": {
              "outlinewidth": 0,
              "ticks": ""
             }
            },
            "type": "scattergl"
           }
          ],
          "scattermapbox": [
           {
            "marker": {
             "colorbar": {
              "outlinewidth": 0,
              "ticks": ""
             }
            },
            "type": "scattermapbox"
           }
          ],
          "scatterpolar": [
           {
            "marker": {
             "colorbar": {
              "outlinewidth": 0,
              "ticks": ""
             }
            },
            "type": "scatterpolar"
           }
          ],
          "scatterpolargl": [
           {
            "marker": {
             "colorbar": {
              "outlinewidth": 0,
              "ticks": ""
             }
            },
            "type": "scatterpolargl"
           }
          ],
          "scatterternary": [
           {
            "marker": {
             "colorbar": {
              "outlinewidth": 0,
              "ticks": ""
             }
            },
            "type": "scatterternary"
           }
          ],
          "surface": [
           {
            "colorbar": {
             "outlinewidth": 0,
             "ticks": ""
            },
            "colorscale": [
             [
              0,
              "#0d0887"
             ],
             [
              0.1111111111111111,
              "#46039f"
             ],
             [
              0.2222222222222222,
              "#7201a8"
             ],
             [
              0.3333333333333333,
              "#9c179e"
             ],
             [
              0.4444444444444444,
              "#bd3786"
             ],
             [
              0.5555555555555556,
              "#d8576b"
             ],
             [
              0.6666666666666666,
              "#ed7953"
             ],
             [
              0.7777777777777778,
              "#fb9f3a"
             ],
             [
              0.8888888888888888,
              "#fdca26"
             ],
             [
              1,
              "#f0f921"
             ]
            ],
            "type": "surface"
           }
          ],
          "table": [
           {
            "cells": {
             "fill": {
              "color": "#EBF0F8"
             },
             "line": {
              "color": "white"
             }
            },
            "header": {
             "fill": {
              "color": "#C8D4E3"
             },
             "line": {
              "color": "white"
             }
            },
            "type": "table"
           }
          ]
         },
         "layout": {
          "annotationdefaults": {
           "arrowcolor": "#2a3f5f",
           "arrowhead": 0,
           "arrowwidth": 1
          },
          "autotypenumbers": "strict",
          "coloraxis": {
           "colorbar": {
            "outlinewidth": 0,
            "ticks": ""
           }
          },
          "colorscale": {
           "diverging": [
            [
             0,
             "#8e0152"
            ],
            [
             0.1,
             "#c51b7d"
            ],
            [
             0.2,
             "#de77ae"
            ],
            [
             0.3,
             "#f1b6da"
            ],
            [
             0.4,
             "#fde0ef"
            ],
            [
             0.5,
             "#f7f7f7"
            ],
            [
             0.6,
             "#e6f5d0"
            ],
            [
             0.7,
             "#b8e186"
            ],
            [
             0.8,
             "#7fbc41"
            ],
            [
             0.9,
             "#4d9221"
            ],
            [
             1,
             "#276419"
            ]
           ],
           "sequential": [
            [
             0,
             "#0d0887"
            ],
            [
             0.1111111111111111,
             "#46039f"
            ],
            [
             0.2222222222222222,
             "#7201a8"
            ],
            [
             0.3333333333333333,
             "#9c179e"
            ],
            [
             0.4444444444444444,
             "#bd3786"
            ],
            [
             0.5555555555555556,
             "#d8576b"
            ],
            [
             0.6666666666666666,
             "#ed7953"
            ],
            [
             0.7777777777777778,
             "#fb9f3a"
            ],
            [
             0.8888888888888888,
             "#fdca26"
            ],
            [
             1,
             "#f0f921"
            ]
           ],
           "sequentialminus": [
            [
             0,
             "#0d0887"
            ],
            [
             0.1111111111111111,
             "#46039f"
            ],
            [
             0.2222222222222222,
             "#7201a8"
            ],
            [
             0.3333333333333333,
             "#9c179e"
            ],
            [
             0.4444444444444444,
             "#bd3786"
            ],
            [
             0.5555555555555556,
             "#d8576b"
            ],
            [
             0.6666666666666666,
             "#ed7953"
            ],
            [
             0.7777777777777778,
             "#fb9f3a"
            ],
            [
             0.8888888888888888,
             "#fdca26"
            ],
            [
             1,
             "#f0f921"
            ]
           ]
          },
          "colorway": [
           "#636efa",
           "#EF553B",
           "#00cc96",
           "#ab63fa",
           "#FFA15A",
           "#19d3f3",
           "#FF6692",
           "#B6E880",
           "#FF97FF",
           "#FECB52"
          ],
          "font": {
           "color": "#2a3f5f"
          },
          "geo": {
           "bgcolor": "white",
           "lakecolor": "white",
           "landcolor": "#E5ECF6",
           "showlakes": true,
           "showland": true,
           "subunitcolor": "white"
          },
          "hoverlabel": {
           "align": "left"
          },
          "hovermode": "closest",
          "mapbox": {
           "style": "light"
          },
          "paper_bgcolor": "white",
          "plot_bgcolor": "#E5ECF6",
          "polar": {
           "angularaxis": {
            "gridcolor": "white",
            "linecolor": "white",
            "ticks": ""
           },
           "bgcolor": "#E5ECF6",
           "radialaxis": {
            "gridcolor": "white",
            "linecolor": "white",
            "ticks": ""
           }
          },
          "scene": {
           "xaxis": {
            "backgroundcolor": "#E5ECF6",
            "gridcolor": "white",
            "gridwidth": 2,
            "linecolor": "white",
            "showbackground": true,
            "ticks": "",
            "zerolinecolor": "white"
           },
           "yaxis": {
            "backgroundcolor": "#E5ECF6",
            "gridcolor": "white",
            "gridwidth": 2,
            "linecolor": "white",
            "showbackground": true,
            "ticks": "",
            "zerolinecolor": "white"
           },
           "zaxis": {
            "backgroundcolor": "#E5ECF6",
            "gridcolor": "white",
            "gridwidth": 2,
            "linecolor": "white",
            "showbackground": true,
            "ticks": "",
            "zerolinecolor": "white"
           }
          },
          "shapedefaults": {
           "line": {
            "color": "#2a3f5f"
           }
          },
          "ternary": {
           "aaxis": {
            "gridcolor": "white",
            "linecolor": "white",
            "ticks": ""
           },
           "baxis": {
            "gridcolor": "white",
            "linecolor": "white",
            "ticks": ""
           },
           "bgcolor": "#E5ECF6",
           "caxis": {
            "gridcolor": "white",
            "linecolor": "white",
            "ticks": ""
           }
          },
          "title": {
           "x": 0.05
          },
          "xaxis": {
           "automargin": true,
           "gridcolor": "white",
           "linecolor": "white",
           "ticks": "",
           "title": {
            "standoff": 15
           },
           "zerolinecolor": "white",
           "zerolinewidth": 2
          },
          "yaxis": {
           "automargin": true,
           "gridcolor": "white",
           "linecolor": "white",
           "ticks": "",
           "title": {
            "standoff": 15
           },
           "zerolinecolor": "white",
           "zerolinewidth": 2
          }
         }
        },
        "xaxis": {
         "anchor": "y",
         "domain": [
          0,
          1
         ],
         "title": {
          "text": "variable"
         }
        },
        "yaxis": {
         "anchor": "x",
         "domain": [
          0,
          1
         ],
         "title": {
          "text": "value"
         }
        }
       }
      }
     },
     "metadata": {},
     "output_type": "display_data"
    }
   ],
   "source": [
    "px.box(car[\"MSRP\"])"
   ]
  },
  {
   "attachments": {},
   "cell_type": "markdown",
   "metadata": {},
   "source": [
    "### Removing outliers from INVOICE column\n",
    "there is no outliers in INVOICE column"
   ]
  },
  {
   "cell_type": "code",
   "execution_count": null,
   "metadata": {},
   "outputs": [
    {
     "data": {
      "application/vnd.plotly.v1+json": {
       "config": {
        "plotlyServerURL": "https://plot.ly"
       },
       "data": [
        {
         "hovertemplate": "variable=Invoice<br>index=%{x}<br>value=%{y}<extra></extra>",
         "legendgroup": "Invoice",
         "marker": {
          "color": "#636efa",
          "symbol": "circle"
         },
         "mode": "markers",
         "name": "Invoice",
         "orientation": "v",
         "showlegend": true,
         "type": "scatter",
         "x": [
          0,
          1,
          2,
          3,
          4,
          5,
          6,
          7,
          8,
          9,
          10,
          11,
          12,
          13,
          14,
          15,
          16,
          17,
          18,
          19,
          20,
          21,
          22,
          23,
          24,
          25,
          26,
          27,
          28,
          29,
          30,
          31,
          32,
          33,
          34,
          35,
          36,
          37,
          38,
          39,
          40,
          41,
          42,
          43,
          44,
          45,
          46,
          47,
          48,
          49,
          50,
          51,
          52,
          53,
          54,
          55,
          56,
          57,
          58,
          59,
          60,
          61,
          62,
          63,
          64,
          65,
          66,
          67,
          68,
          69,
          70,
          71,
          72,
          73,
          74,
          75,
          76,
          77,
          78,
          79,
          80,
          81,
          82,
          83,
          84,
          85,
          86,
          87,
          88,
          89,
          90,
          91,
          92,
          93,
          94,
          95,
          96,
          97,
          98,
          99,
          100,
          101,
          102,
          103,
          104,
          105,
          106,
          107,
          108,
          109,
          110,
          111,
          112,
          113,
          114,
          115,
          116,
          117,
          118,
          119,
          120,
          121,
          122,
          123,
          124,
          125,
          126,
          127,
          128,
          129,
          130,
          131,
          132,
          133,
          134,
          135,
          136,
          137,
          138,
          139,
          140,
          141,
          142,
          143,
          144,
          145,
          146,
          147,
          148,
          149,
          150,
          151,
          152,
          153,
          154,
          155,
          156,
          157,
          158,
          159,
          160,
          161,
          162,
          163,
          164,
          165,
          166,
          167,
          168,
          169,
          170,
          171,
          172,
          173,
          174,
          175,
          176,
          177,
          178,
          179,
          180,
          181,
          182,
          183,
          184,
          185,
          186,
          187,
          188,
          189,
          190,
          191,
          192,
          193,
          194,
          195,
          196,
          197,
          198,
          199,
          200,
          201,
          202,
          203,
          204,
          205,
          206,
          207,
          208,
          209,
          210,
          211,
          212,
          213,
          214,
          215,
          216,
          217,
          218,
          219,
          220,
          221,
          222,
          223,
          224,
          225,
          226,
          227,
          228,
          229,
          230,
          231,
          232,
          233,
          234,
          235,
          236,
          237,
          238,
          239,
          240,
          241,
          242,
          243,
          244,
          245,
          246,
          247,
          248,
          249,
          250,
          251,
          252,
          253,
          254,
          255,
          256,
          257,
          258,
          259,
          260,
          261,
          262,
          263,
          264,
          265,
          266,
          267,
          268,
          269,
          270,
          271,
          272,
          273,
          274,
          275,
          276,
          277,
          278,
          279,
          280,
          281,
          282,
          283,
          284,
          285,
          286,
          287,
          288,
          289,
          290,
          291,
          292,
          293,
          294,
          295,
          296,
          297,
          298,
          299,
          300,
          301,
          302,
          303,
          304,
          305,
          306,
          307,
          308,
          309,
          310,
          311,
          312,
          313,
          314,
          315,
          316,
          317,
          318,
          319,
          320,
          321,
          322,
          323,
          324,
          325,
          326,
          327,
          328,
          329,
          330,
          331,
          332,
          333,
          334,
          335,
          336,
          337,
          338,
          339,
          340,
          341,
          342,
          343,
          344,
          345,
          346,
          347,
          348,
          349,
          350,
          351,
          352,
          353,
          354,
          355,
          356,
          357,
          358,
          359,
          360,
          361,
          362,
          363,
          364,
          365,
          366,
          367,
          368,
          369,
          370,
          371,
          372,
          373,
          374,
          375,
          376,
          377,
          378,
          379,
          380,
          381,
          382,
          383,
          384,
          385,
          386,
          387,
          388,
          389,
          390,
          391,
          392,
          393,
          394,
          395,
          396,
          397,
          398,
          399,
          400,
          401,
          402,
          403,
          404,
          405,
          406,
          407,
          408,
          409,
          410,
          411,
          412,
          413,
          414,
          415,
          416,
          417,
          418,
          419,
          420,
          421,
          422,
          423,
          424,
          425,
          426,
          427
         ],
         "xaxis": "x",
         "y": [
          "$33,337 ",
          "$21,761 ",
          "$24,647 ",
          "$30,299 ",
          "$39,014 ",
          "$41,100 ",
          "$79,978 ",
          "$23,508 ",
          "$32,506 ",
          "$28,846 ",
          "$30,366 ",
          "$31,388 ",
          "$33,129 ",
          "$35,992 ",
          "$38,325 ",
          "$40,075 ",
          "$38,840 ",
          "$44,936 ",
          "$64,740 ",
          "$43,556 ",
          "$76,417 ",
          "$32,512 ",
          "$33,891 ",
          "$36,739 ",
          "$37,060 ",
          "$44,446 ",
          "$33,873 ",
          "$47,720 ",
          "$26,155 ",
          "$28,245 ",
          "$34,800 ",
          "$27,745 ",
          "$32,525 ",
          "$33,890 ",
          "$34,115 ",
          "$36,620 ",
          "$40,530 ",
          "$41,170 ",
          "$50,270 ",
          "$63,190 ",
          "$66,830 ",
          "$44,170 ",
          "$51,815 ",
          "$31,065 ",
          "$37,575 ",
          "$30,110 ",
          "$34,357 ",
          "$24,085 ",
          "$20,351 ",
          "$24,282 ",
          "$22,835 ",
          "$26,047 ",
          "$29,566 ",
          "$32,244 ",
          "$36,927 ",
          "$48,377 ",
          "$43,523 ",
          "$28,575 ",
          "$41,650 ",
          "$46,362 ",
          "$43,841 ",
          "$70,546 ",
          "$48,541 ",
          "$37,422 ",
          "$36,287 ",
          "$27,479 ",
          "$19,108 ",
          "$10,965 ",
          "$11,802 ",
          "$13,697 ",
          "$13,884 ",
          "$15,357 ",
          "$20,095 ",
          "$17,434 ",
          "$18,639 ",
          "$20,026 ",
          "$22,931 ",
          "$25,672 ",
          "$21,551 ",
          "$22,222 ",
          "$23,954 ",
          "$24,518 ",
          "$39,068 ",
          "$45,193 ",
          "$31,689 ",
          "$17,070 ",
          "$18,480 ",
          "$35,399 ",
          "$39,306 ",
          "$20,394 ",
          "$16,919 ",
          "$20,573 ",
          "$17,805 ",
          "$20,284 ",
          "$27,797 ",
          "$22,452 ",
          "$24,909 ",
          "$24,172 ",
          "$23,451 ",
          "$30,884 ",
          "$28,613 ",
          "$25,371 ",
          "$35,063 ",
          "$32,033 ",
          "$28,725 ",
          "$29,472 ",
          "$12,849 ",
          "$14,086 ",
          "$20,502 ",
          "$17,512 ",
          "$18,821 ",
          "$23,058 ",
          "$20,508 ",
          "$29,812 ",
          "$74,451 ",
          "$16,264 ",
          "$18,670 ",
          "$18,076 ",
          "$36,494 ",
          "$30,468 ",
          "$26,983 ",
          "$20,907 ",
          "$12,482 ",
          "$12,906 ",
          "$14,496 ",
          "$14,607 ",
          "$17,878 ",
          "$18,881 ",
          "$20,857 ",
          "$22,856 ",
          "$25,105 ",
          "$27,756 ",
          "$24,498 ",
          "$16,943 ",
          "$26,875 ",
          "$34,483 ",
          "$19,490 ",
          "$29,405 ",
          "$13,717 ",
          "$16,375 ",
          "$20,457 ",
          "$28,922 ",
          "$31,361 ",
          "$40,534 ",
          "$23,215 ",
          "$14,877 ",
          "$22,604 ",
          "$25,759 ",
          "$23,043 ",
          "$18,451 ",
          "$17,911 ",
          "$24,843 ",
          "$18,419 ",
          "$17,334 ",
          "$12,175 ",
          "$12,996 ",
          "$14,531 ",
          "$17,924 ",
          "$20,080 ",
          "$16,265 ",
          "$17,849 ",
          "$21,428 ",
          "$24,304 ",
          "$22,498 ",
          "$24,744 ",
          "$29,965 ",
          "$45,815 ",
          "$20,201 ",
          "$10,107 ",
          "$11,116 ",
          "$11,209 ",
          "$12,781 ",
          "$14,207 ",
          "$14,207 ",
          "$17,574 ",
          "$18,380 ",
          "$22,055 ",
          "$23,486 ",
          "$17,101 ",
          "$26,157 ",
          "$27,536 ",
          "$29,783 ",
          "$28,320 ",
          "$38,792 ",
          "$47,575 ",
          "$31,756 ",
          "$33,121 ",
          "$29,977 ",
          "$19,261 ",
          "$27,355 ",
          "$30,995 ",
          "$40,004 ",
          "$45,556 ",
          "$57,499 ",
          "$62,846 ",
          "$54,656 ",
          "$68,306 ",
          "$63,756 ",
          "$68,306 ",
          "$74,676 ",
          "$79,226 ",
          "$25,686 ",
          "$18,973 ",
          "$23,275 ",
          "$18,630 ",
          "$14,910 ",
          "$9,875 ",
          "$10,705 ",
          "$11,630 ",
          "$12,830 ",
          "$13,790 ",
          "$16,850 ",
          "$23,764 ",
          "$19,400 ",
          "$11,410 ",
          "$65,807 ",
          "$35,777 ",
          "$23,969 ",
          "$39,838 ",
          "$56,455 ",
          "$34,576 ",
          "$28,755 ",
          "$27,404 ",
          "$28,611 ",
          "$36,196 ",
          "$42,232 ",
          "$48,583 ",
          "$55,063 ",
          "$28,647 ",
          "$46,360 ",
          "$39,443 ",
          "$29,969 ",
          "$33,929 ",
          "$36,809 ",
          "$39,869 ",
          "$38,418 ",
          "$41,217 ",
          "$46,208 ",
          "$15,437 ",
          "$18,137 ",
          "$19,742 ",
          "$14,525 ",
          "$15,922 ",
          "$17,817 ",
          "$26,600 ",
          "$20,701 ",
          "$23,285 ",
          "$23,794 ",
          "$25,179 ",
          "$14,070 ",
          "$20,482 ",
          "$71,540 ",
          "$43,268 ",
          "$24,249 ",
          "$26,435 ",
          "$30,071 ",
          "$31,187 ",
          "$33,456 ",
          "$35,046 ",
          "$36,162 ",
          "$48,522 ",
          "$88,324 ",
          "$119,600 ",
          "$41,966 ",
          "$49,104 ",
          "$44,849 ",
          "$53,382 ",
          "$69,168 ",
          "$80,939 ",
          "$84,325 ",
          "$113,388 ",
          "$117,854 ",
          "$37,548 ",
          "$52,289 ",
          "$31,466 ",
          "$47,174 ",
          "$56,474 ",
          "$27,317 ",
          "$19,848 ",
          "$23,217 ",
          "$27,148 ",
          "$21,918 ",
          "$28,318 ",
          "$31,558 ",
          "$30,846 ",
          "$20,748 ",
          "$28,330 ",
          "$30,763 ",
          "$17,569 ",
          "$13,751 ",
          "$15,718 ",
          "$17,957 ",
          "$16,196 ",
          "$27,250 ",
          "$23,883 ",
          "$23,456 ",
          "$25,218 ",
          "$27,466 ",
          "$16,295 ",
          "$30,815 ",
          "$25,972 ",
          "$19,512 ",
          "$12,205 ",
          "$13,747 ",
          "$18,030 ",
          "$16,444 ",
          "$21,580 ",
          "$25,182 ",
          "$26,966 ",
          "$22,958 ",
          "$30,019 ",
          "$25,203 ",
          "$31,845 ",
          "$18,253 ",
          "$24,926 ",
          "$27,300 ",
          "$17,642 ",
          "$21,485 ",
          "$26,120 ",
          "$19,810 ",
          "$14,375 ",
          "$20,595 ",
          "$20,545 ",
          "$16,369 ",
          "$22,284 ",
          "$32,997 ",
          "$21,644 ",
          "$28,454 ",
          "$30,710 ",
          "$15,973 ",
          "$49,865 ",
          "$69,229 ",
          "$72,206 ",
          "$67,128 ",
          "$173,560 ",
          "$37,886 ",
          "$45,766 ",
          "$29,269 ",
          "$31,562 ",
          "$33,011 ",
          "$37,721 ",
          "$38,520 ",
          "$40,883 ",
          "$38,376 ",
          "$19,238 ",
          "$10,319 ",
          "$13,393 ",
          "$14,811 ",
          "$13,904 ",
          "$15,299 ",
          "$19,801 ",
          "$21,779 ",
          "$12,340 ",
          "$13,480 ",
          "$18,399 ",
          "$18,713 ",
          "$23,336 ",
          "$24,687 ",
          "$26,660 ",
          "$28,603 ",
          "$23,022 ",
          "$29,130 ",
          "$22,304 ",
          "$19,646 ",
          "$21,773 ",
          "$22,307 ",
          "$16,949 ",
          "$12,719 ",
          "$14,317 ",
          "$12,116 ",
          "$15,378 ",
          "$17,053 ",
          "$16,291 ",
          "$18,926 ",
          "$31,827 ",
          "$24,801 ",
          "$24,915 ",
          "$47,986 ",
          "$18,553 ",
          "$13,065 ",
          "$13,650 ",
          "$13,889 ",
          "$10,144 ",
          "$10,896 ",
          "$10,642 ",
          "$17,558 ",
          "$20,325 ",
          "$17,722 ",
          "$19,819 ",
          "$23,693 ",
          "$23,125 ",
          "$23,908 ",
          "$27,271 ",
          "$21,198 ",
          "$25,690 ",
          "$20,363 ",
          "$22,787 ",
          "$11,879 ",
          "$14,978 ",
          "$23,520 ",
          "$15,156 ",
          "$32,243 ",
          "$17,478 ",
          "$18,109 ",
          "$19,638 ",
          "$19,638 ",
          "$21,686 ",
          "$21,689 ",
          "$21,898 ",
          "$30,583 ",
          "$36,052 ",
          "$59,912 ",
          "$69,130 ",
          "$17,427 ",
          "$22,801 ",
          "$36,956 ",
          "$38,851 ",
          "$23,701 ",
          "$29,916 ",
          "$32,902 ",
          "$35,382 ",
          "$35,542 ",
          "$35,688 ",
          "$38,203 ",
          "$40,083 ",
          "$42,573 ",
          "$24,641 ",
          "$33,112 "
         ],
         "yaxis": "y"
        }
       ],
       "layout": {
        "legend": {
         "title": {
          "text": "variable"
         },
         "tracegroupgap": 0
        },
        "margin": {
         "t": 60
        },
        "template": {
         "data": {
          "bar": [
           {
            "error_x": {
             "color": "#2a3f5f"
            },
            "error_y": {
             "color": "#2a3f5f"
            },
            "marker": {
             "line": {
              "color": "#E5ECF6",
              "width": 0.5
             },
             "pattern": {
              "fillmode": "overlay",
              "size": 10,
              "solidity": 0.2
             }
            },
            "type": "bar"
           }
          ],
          "barpolar": [
           {
            "marker": {
             "line": {
              "color": "#E5ECF6",
              "width": 0.5
             },
             "pattern": {
              "fillmode": "overlay",
              "size": 10,
              "solidity": 0.2
             }
            },
            "type": "barpolar"
           }
          ],
          "carpet": [
           {
            "aaxis": {
             "endlinecolor": "#2a3f5f",
             "gridcolor": "white",
             "linecolor": "white",
             "minorgridcolor": "white",
             "startlinecolor": "#2a3f5f"
            },
            "baxis": {
             "endlinecolor": "#2a3f5f",
             "gridcolor": "white",
             "linecolor": "white",
             "minorgridcolor": "white",
             "startlinecolor": "#2a3f5f"
            },
            "type": "carpet"
           }
          ],
          "choropleth": [
           {
            "colorbar": {
             "outlinewidth": 0,
             "ticks": ""
            },
            "type": "choropleth"
           }
          ],
          "contour": [
           {
            "colorbar": {
             "outlinewidth": 0,
             "ticks": ""
            },
            "colorscale": [
             [
              0,
              "#0d0887"
             ],
             [
              0.1111111111111111,
              "#46039f"
             ],
             [
              0.2222222222222222,
              "#7201a8"
             ],
             [
              0.3333333333333333,
              "#9c179e"
             ],
             [
              0.4444444444444444,
              "#bd3786"
             ],
             [
              0.5555555555555556,
              "#d8576b"
             ],
             [
              0.6666666666666666,
              "#ed7953"
             ],
             [
              0.7777777777777778,
              "#fb9f3a"
             ],
             [
              0.8888888888888888,
              "#fdca26"
             ],
             [
              1,
              "#f0f921"
             ]
            ],
            "type": "contour"
           }
          ],
          "contourcarpet": [
           {
            "colorbar": {
             "outlinewidth": 0,
             "ticks": ""
            },
            "type": "contourcarpet"
           }
          ],
          "heatmap": [
           {
            "colorbar": {
             "outlinewidth": 0,
             "ticks": ""
            },
            "colorscale": [
             [
              0,
              "#0d0887"
             ],
             [
              0.1111111111111111,
              "#46039f"
             ],
             [
              0.2222222222222222,
              "#7201a8"
             ],
             [
              0.3333333333333333,
              "#9c179e"
             ],
             [
              0.4444444444444444,
              "#bd3786"
             ],
             [
              0.5555555555555556,
              "#d8576b"
             ],
             [
              0.6666666666666666,
              "#ed7953"
             ],
             [
              0.7777777777777778,
              "#fb9f3a"
             ],
             [
              0.8888888888888888,
              "#fdca26"
             ],
             [
              1,
              "#f0f921"
             ]
            ],
            "type": "heatmap"
           }
          ],
          "heatmapgl": [
           {
            "colorbar": {
             "outlinewidth": 0,
             "ticks": ""
            },
            "colorscale": [
             [
              0,
              "#0d0887"
             ],
             [
              0.1111111111111111,
              "#46039f"
             ],
             [
              0.2222222222222222,
              "#7201a8"
             ],
             [
              0.3333333333333333,
              "#9c179e"
             ],
             [
              0.4444444444444444,
              "#bd3786"
             ],
             [
              0.5555555555555556,
              "#d8576b"
             ],
             [
              0.6666666666666666,
              "#ed7953"
             ],
             [
              0.7777777777777778,
              "#fb9f3a"
             ],
             [
              0.8888888888888888,
              "#fdca26"
             ],
             [
              1,
              "#f0f921"
             ]
            ],
            "type": "heatmapgl"
           }
          ],
          "histogram": [
           {
            "marker": {
             "pattern": {
              "fillmode": "overlay",
              "size": 10,
              "solidity": 0.2
             }
            },
            "type": "histogram"
           }
          ],
          "histogram2d": [
           {
            "colorbar": {
             "outlinewidth": 0,
             "ticks": ""
            },
            "colorscale": [
             [
              0,
              "#0d0887"
             ],
             [
              0.1111111111111111,
              "#46039f"
             ],
             [
              0.2222222222222222,
              "#7201a8"
             ],
             [
              0.3333333333333333,
              "#9c179e"
             ],
             [
              0.4444444444444444,
              "#bd3786"
             ],
             [
              0.5555555555555556,
              "#d8576b"
             ],
             [
              0.6666666666666666,
              "#ed7953"
             ],
             [
              0.7777777777777778,
              "#fb9f3a"
             ],
             [
              0.8888888888888888,
              "#fdca26"
             ],
             [
              1,
              "#f0f921"
             ]
            ],
            "type": "histogram2d"
           }
          ],
          "histogram2dcontour": [
           {
            "colorbar": {
             "outlinewidth": 0,
             "ticks": ""
            },
            "colorscale": [
             [
              0,
              "#0d0887"
             ],
             [
              0.1111111111111111,
              "#46039f"
             ],
             [
              0.2222222222222222,
              "#7201a8"
             ],
             [
              0.3333333333333333,
              "#9c179e"
             ],
             [
              0.4444444444444444,
              "#bd3786"
             ],
             [
              0.5555555555555556,
              "#d8576b"
             ],
             [
              0.6666666666666666,
              "#ed7953"
             ],
             [
              0.7777777777777778,
              "#fb9f3a"
             ],
             [
              0.8888888888888888,
              "#fdca26"
             ],
             [
              1,
              "#f0f921"
             ]
            ],
            "type": "histogram2dcontour"
           }
          ],
          "mesh3d": [
           {
            "colorbar": {
             "outlinewidth": 0,
             "ticks": ""
            },
            "type": "mesh3d"
           }
          ],
          "parcoords": [
           {
            "line": {
             "colorbar": {
              "outlinewidth": 0,
              "ticks": ""
             }
            },
            "type": "parcoords"
           }
          ],
          "pie": [
           {
            "automargin": true,
            "type": "pie"
           }
          ],
          "scatter": [
           {
            "fillpattern": {
             "fillmode": "overlay",
             "size": 10,
             "solidity": 0.2
            },
            "type": "scatter"
           }
          ],
          "scatter3d": [
           {
            "line": {
             "colorbar": {
              "outlinewidth": 0,
              "ticks": ""
             }
            },
            "marker": {
             "colorbar": {
              "outlinewidth": 0,
              "ticks": ""
             }
            },
            "type": "scatter3d"
           }
          ],
          "scattercarpet": [
           {
            "marker": {
             "colorbar": {
              "outlinewidth": 0,
              "ticks": ""
             }
            },
            "type": "scattercarpet"
           }
          ],
          "scattergeo": [
           {
            "marker": {
             "colorbar": {
              "outlinewidth": 0,
              "ticks": ""
             }
            },
            "type": "scattergeo"
           }
          ],
          "scattergl": [
           {
            "marker": {
             "colorbar": {
              "outlinewidth": 0,
              "ticks": ""
             }
            },
            "type": "scattergl"
           }
          ],
          "scattermapbox": [
           {
            "marker": {
             "colorbar": {
              "outlinewidth": 0,
              "ticks": ""
             }
            },
            "type": "scattermapbox"
           }
          ],
          "scatterpolar": [
           {
            "marker": {
             "colorbar": {
              "outlinewidth": 0,
              "ticks": ""
             }
            },
            "type": "scatterpolar"
           }
          ],
          "scatterpolargl": [
           {
            "marker": {
             "colorbar": {
              "outlinewidth": 0,
              "ticks": ""
             }
            },
            "type": "scatterpolargl"
           }
          ],
          "scatterternary": [
           {
            "marker": {
             "colorbar": {
              "outlinewidth": 0,
              "ticks": ""
             }
            },
            "type": "scatterternary"
           }
          ],
          "surface": [
           {
            "colorbar": {
             "outlinewidth": 0,
             "ticks": ""
            },
            "colorscale": [
             [
              0,
              "#0d0887"
             ],
             [
              0.1111111111111111,
              "#46039f"
             ],
             [
              0.2222222222222222,
              "#7201a8"
             ],
             [
              0.3333333333333333,
              "#9c179e"
             ],
             [
              0.4444444444444444,
              "#bd3786"
             ],
             [
              0.5555555555555556,
              "#d8576b"
             ],
             [
              0.6666666666666666,
              "#ed7953"
             ],
             [
              0.7777777777777778,
              "#fb9f3a"
             ],
             [
              0.8888888888888888,
              "#fdca26"
             ],
             [
              1,
              "#f0f921"
             ]
            ],
            "type": "surface"
           }
          ],
          "table": [
           {
            "cells": {
             "fill": {
              "color": "#EBF0F8"
             },
             "line": {
              "color": "white"
             }
            },
            "header": {
             "fill": {
              "color": "#C8D4E3"
             },
             "line": {
              "color": "white"
             }
            },
            "type": "table"
           }
          ]
         },
         "layout": {
          "annotationdefaults": {
           "arrowcolor": "#2a3f5f",
           "arrowhead": 0,
           "arrowwidth": 1
          },
          "autotypenumbers": "strict",
          "coloraxis": {
           "colorbar": {
            "outlinewidth": 0,
            "ticks": ""
           }
          },
          "colorscale": {
           "diverging": [
            [
             0,
             "#8e0152"
            ],
            [
             0.1,
             "#c51b7d"
            ],
            [
             0.2,
             "#de77ae"
            ],
            [
             0.3,
             "#f1b6da"
            ],
            [
             0.4,
             "#fde0ef"
            ],
            [
             0.5,
             "#f7f7f7"
            ],
            [
             0.6,
             "#e6f5d0"
            ],
            [
             0.7,
             "#b8e186"
            ],
            [
             0.8,
             "#7fbc41"
            ],
            [
             0.9,
             "#4d9221"
            ],
            [
             1,
             "#276419"
            ]
           ],
           "sequential": [
            [
             0,
             "#0d0887"
            ],
            [
             0.1111111111111111,
             "#46039f"
            ],
            [
             0.2222222222222222,
             "#7201a8"
            ],
            [
             0.3333333333333333,
             "#9c179e"
            ],
            [
             0.4444444444444444,
             "#bd3786"
            ],
            [
             0.5555555555555556,
             "#d8576b"
            ],
            [
             0.6666666666666666,
             "#ed7953"
            ],
            [
             0.7777777777777778,
             "#fb9f3a"
            ],
            [
             0.8888888888888888,
             "#fdca26"
            ],
            [
             1,
             "#f0f921"
            ]
           ],
           "sequentialminus": [
            [
             0,
             "#0d0887"
            ],
            [
             0.1111111111111111,
             "#46039f"
            ],
            [
             0.2222222222222222,
             "#7201a8"
            ],
            [
             0.3333333333333333,
             "#9c179e"
            ],
            [
             0.4444444444444444,
             "#bd3786"
            ],
            [
             0.5555555555555556,
             "#d8576b"
            ],
            [
             0.6666666666666666,
             "#ed7953"
            ],
            [
             0.7777777777777778,
             "#fb9f3a"
            ],
            [
             0.8888888888888888,
             "#fdca26"
            ],
            [
             1,
             "#f0f921"
            ]
           ]
          },
          "colorway": [
           "#636efa",
           "#EF553B",
           "#00cc96",
           "#ab63fa",
           "#FFA15A",
           "#19d3f3",
           "#FF6692",
           "#B6E880",
           "#FF97FF",
           "#FECB52"
          ],
          "font": {
           "color": "#2a3f5f"
          },
          "geo": {
           "bgcolor": "white",
           "lakecolor": "white",
           "landcolor": "#E5ECF6",
           "showlakes": true,
           "showland": true,
           "subunitcolor": "white"
          },
          "hoverlabel": {
           "align": "left"
          },
          "hovermode": "closest",
          "mapbox": {
           "style": "light"
          },
          "paper_bgcolor": "white",
          "plot_bgcolor": "#E5ECF6",
          "polar": {
           "angularaxis": {
            "gridcolor": "white",
            "linecolor": "white",
            "ticks": ""
           },
           "bgcolor": "#E5ECF6",
           "radialaxis": {
            "gridcolor": "white",
            "linecolor": "white",
            "ticks": ""
           }
          },
          "scene": {
           "xaxis": {
            "backgroundcolor": "#E5ECF6",
            "gridcolor": "white",
            "gridwidth": 2,
            "linecolor": "white",
            "showbackground": true,
            "ticks": "",
            "zerolinecolor": "white"
           },
           "yaxis": {
            "backgroundcolor": "#E5ECF6",
            "gridcolor": "white",
            "gridwidth": 2,
            "linecolor": "white",
            "showbackground": true,
            "ticks": "",
            "zerolinecolor": "white"
           },
           "zaxis": {
            "backgroundcolor": "#E5ECF6",
            "gridcolor": "white",
            "gridwidth": 2,
            "linecolor": "white",
            "showbackground": true,
            "ticks": "",
            "zerolinecolor": "white"
           }
          },
          "shapedefaults": {
           "line": {
            "color": "#2a3f5f"
           }
          },
          "ternary": {
           "aaxis": {
            "gridcolor": "white",
            "linecolor": "white",
            "ticks": ""
           },
           "baxis": {
            "gridcolor": "white",
            "linecolor": "white",
            "ticks": ""
           },
           "bgcolor": "#E5ECF6",
           "caxis": {
            "gridcolor": "white",
            "linecolor": "white",
            "ticks": ""
           }
          },
          "title": {
           "x": 0.05
          },
          "xaxis": {
           "automargin": true,
           "gridcolor": "white",
           "linecolor": "white",
           "ticks": "",
           "title": {
            "standoff": 15
           },
           "zerolinecolor": "white",
           "zerolinewidth": 2
          },
          "yaxis": {
           "automargin": true,
           "gridcolor": "white",
           "linecolor": "white",
           "ticks": "",
           "title": {
            "standoff": 15
           },
           "zerolinecolor": "white",
           "zerolinewidth": 2
          }
         }
        },
        "xaxis": {
         "anchor": "y",
         "domain": [
          0,
          1
         ],
         "title": {
          "text": "index"
         }
        },
        "yaxis": {
         "anchor": "x",
         "domain": [
          0,
          1
         ],
         "title": {
          "text": "value"
         }
        }
       }
      }
     },
     "metadata": {},
     "output_type": "display_data"
    }
   ],
   "source": [
    "px.scatter(car[\"Invoice\"])\n",
    "#there is no outliers in invoice column"
   ]
  },
  {
   "attachments": {},
   "cell_type": "markdown",
   "metadata": {},
   "source": [
    "### Removing Outliers from MPG_City Column"
   ]
  },
  {
   "cell_type": "code",
   "execution_count": null,
   "metadata": {},
   "outputs": [
    {
     "data": {
      "application/vnd.plotly.v1+json": {
       "config": {
        "plotlyServerURL": "https://plot.ly"
       },
       "data": [
        {
         "alignmentgroup": "True",
         "hovertemplate": "variable=%{x}<br>value=%{y}<extra></extra>",
         "legendgroup": "",
         "marker": {
          "color": "#636efa"
         },
         "name": "",
         "notched": false,
         "offsetgroup": "",
         "orientation": "v",
         "showlegend": false,
         "type": "box",
         "x": [
          "MPG_City",
          "MPG_City",
          "MPG_City",
          "MPG_City",
          "MPG_City",
          "MPG_City",
          "MPG_City",
          "MPG_City",
          "MPG_City",
          "MPG_City",
          "MPG_City",
          "MPG_City",
          "MPG_City",
          "MPG_City",
          "MPG_City",
          "MPG_City",
          "MPG_City",
          "MPG_City",
          "MPG_City",
          "MPG_City",
          "MPG_City",
          "MPG_City",
          "MPG_City",
          "MPG_City",
          "MPG_City",
          "MPG_City",
          "MPG_City",
          "MPG_City",
          "MPG_City",
          "MPG_City",
          "MPG_City",
          "MPG_City",
          "MPG_City",
          "MPG_City",
          "MPG_City",
          "MPG_City",
          "MPG_City",
          "MPG_City",
          "MPG_City",
          "MPG_City",
          "MPG_City",
          "MPG_City",
          "MPG_City",
          "MPG_City",
          "MPG_City",
          "MPG_City",
          "MPG_City",
          "MPG_City",
          "MPG_City",
          "MPG_City",
          "MPG_City",
          "MPG_City",
          "MPG_City",
          "MPG_City",
          "MPG_City",
          "MPG_City",
          "MPG_City",
          "MPG_City",
          "MPG_City",
          "MPG_City",
          "MPG_City",
          "MPG_City",
          "MPG_City",
          "MPG_City",
          "MPG_City",
          "MPG_City",
          "MPG_City",
          "MPG_City",
          "MPG_City",
          "MPG_City",
          "MPG_City",
          "MPG_City",
          "MPG_City",
          "MPG_City",
          "MPG_City",
          "MPG_City",
          "MPG_City",
          "MPG_City",
          "MPG_City",
          "MPG_City",
          "MPG_City",
          "MPG_City",
          "MPG_City",
          "MPG_City",
          "MPG_City",
          "MPG_City",
          "MPG_City",
          "MPG_City",
          "MPG_City",
          "MPG_City",
          "MPG_City",
          "MPG_City",
          "MPG_City",
          "MPG_City",
          "MPG_City",
          "MPG_City",
          "MPG_City",
          "MPG_City",
          "MPG_City",
          "MPG_City",
          "MPG_City",
          "MPG_City",
          "MPG_City",
          "MPG_City",
          "MPG_City",
          "MPG_City",
          "MPG_City",
          "MPG_City",
          "MPG_City",
          "MPG_City",
          "MPG_City",
          "MPG_City",
          "MPG_City",
          "MPG_City",
          "MPG_City",
          "MPG_City",
          "MPG_City",
          "MPG_City",
          "MPG_City",
          "MPG_City",
          "MPG_City",
          "MPG_City",
          "MPG_City",
          "MPG_City",
          "MPG_City",
          "MPG_City",
          "MPG_City",
          "MPG_City",
          "MPG_City",
          "MPG_City",
          "MPG_City",
          "MPG_City",
          "MPG_City",
          "MPG_City",
          "MPG_City",
          "MPG_City",
          "MPG_City",
          "MPG_City",
          "MPG_City",
          "MPG_City",
          "MPG_City",
          "MPG_City",
          "MPG_City",
          "MPG_City",
          "MPG_City",
          "MPG_City",
          "MPG_City",
          "MPG_City",
          "MPG_City",
          "MPG_City",
          "MPG_City",
          "MPG_City",
          "MPG_City",
          "MPG_City",
          "MPG_City",
          "MPG_City",
          "MPG_City",
          "MPG_City",
          "MPG_City",
          "MPG_City",
          "MPG_City",
          "MPG_City",
          "MPG_City",
          "MPG_City",
          "MPG_City",
          "MPG_City",
          "MPG_City",
          "MPG_City",
          "MPG_City",
          "MPG_City",
          "MPG_City",
          "MPG_City",
          "MPG_City",
          "MPG_City",
          "MPG_City",
          "MPG_City",
          "MPG_City",
          "MPG_City",
          "MPG_City",
          "MPG_City",
          "MPG_City",
          "MPG_City",
          "MPG_City",
          "MPG_City",
          "MPG_City",
          "MPG_City",
          "MPG_City",
          "MPG_City",
          "MPG_City",
          "MPG_City",
          "MPG_City",
          "MPG_City",
          "MPG_City",
          "MPG_City",
          "MPG_City",
          "MPG_City",
          "MPG_City",
          "MPG_City",
          "MPG_City",
          "MPG_City",
          "MPG_City",
          "MPG_City",
          "MPG_City",
          "MPG_City",
          "MPG_City",
          "MPG_City",
          "MPG_City",
          "MPG_City",
          "MPG_City",
          "MPG_City",
          "MPG_City",
          "MPG_City",
          "MPG_City",
          "MPG_City",
          "MPG_City",
          "MPG_City",
          "MPG_City",
          "MPG_City",
          "MPG_City",
          "MPG_City",
          "MPG_City",
          "MPG_City",
          "MPG_City",
          "MPG_City",
          "MPG_City",
          "MPG_City",
          "MPG_City",
          "MPG_City",
          "MPG_City",
          "MPG_City",
          "MPG_City",
          "MPG_City",
          "MPG_City",
          "MPG_City",
          "MPG_City",
          "MPG_City",
          "MPG_City",
          "MPG_City",
          "MPG_City",
          "MPG_City",
          "MPG_City",
          "MPG_City",
          "MPG_City",
          "MPG_City",
          "MPG_City",
          "MPG_City",
          "MPG_City",
          "MPG_City",
          "MPG_City",
          "MPG_City",
          "MPG_City",
          "MPG_City",
          "MPG_City",
          "MPG_City",
          "MPG_City",
          "MPG_City",
          "MPG_City",
          "MPG_City",
          "MPG_City",
          "MPG_City",
          "MPG_City",
          "MPG_City",
          "MPG_City",
          "MPG_City",
          "MPG_City",
          "MPG_City",
          "MPG_City",
          "MPG_City",
          "MPG_City",
          "MPG_City",
          "MPG_City",
          "MPG_City",
          "MPG_City",
          "MPG_City",
          "MPG_City",
          "MPG_City",
          "MPG_City",
          "MPG_City",
          "MPG_City",
          "MPG_City",
          "MPG_City",
          "MPG_City",
          "MPG_City",
          "MPG_City",
          "MPG_City",
          "MPG_City",
          "MPG_City",
          "MPG_City",
          "MPG_City",
          "MPG_City",
          "MPG_City",
          "MPG_City",
          "MPG_City",
          "MPG_City",
          "MPG_City",
          "MPG_City",
          "MPG_City",
          "MPG_City",
          "MPG_City",
          "MPG_City",
          "MPG_City",
          "MPG_City",
          "MPG_City",
          "MPG_City",
          "MPG_City",
          "MPG_City",
          "MPG_City",
          "MPG_City",
          "MPG_City",
          "MPG_City",
          "MPG_City",
          "MPG_City",
          "MPG_City",
          "MPG_City",
          "MPG_City",
          "MPG_City",
          "MPG_City",
          "MPG_City",
          "MPG_City",
          "MPG_City",
          "MPG_City",
          "MPG_City",
          "MPG_City",
          "MPG_City",
          "MPG_City",
          "MPG_City",
          "MPG_City",
          "MPG_City",
          "MPG_City",
          "MPG_City",
          "MPG_City",
          "MPG_City",
          "MPG_City",
          "MPG_City",
          "MPG_City",
          "MPG_City",
          "MPG_City",
          "MPG_City",
          "MPG_City",
          "MPG_City",
          "MPG_City",
          "MPG_City",
          "MPG_City",
          "MPG_City",
          "MPG_City",
          "MPG_City",
          "MPG_City",
          "MPG_City",
          "MPG_City",
          "MPG_City",
          "MPG_City",
          "MPG_City",
          "MPG_City",
          "MPG_City",
          "MPG_City",
          "MPG_City",
          "MPG_City",
          "MPG_City",
          "MPG_City",
          "MPG_City",
          "MPG_City",
          "MPG_City",
          "MPG_City",
          "MPG_City",
          "MPG_City",
          "MPG_City",
          "MPG_City",
          "MPG_City",
          "MPG_City",
          "MPG_City",
          "MPG_City",
          "MPG_City",
          "MPG_City",
          "MPG_City",
          "MPG_City",
          "MPG_City",
          "MPG_City",
          "MPG_City",
          "MPG_City",
          "MPG_City",
          "MPG_City",
          "MPG_City",
          "MPG_City",
          "MPG_City",
          "MPG_City",
          "MPG_City",
          "MPG_City",
          "MPG_City",
          "MPG_City",
          "MPG_City",
          "MPG_City",
          "MPG_City",
          "MPG_City",
          "MPG_City",
          "MPG_City",
          "MPG_City",
          "MPG_City",
          "MPG_City",
          "MPG_City",
          "MPG_City",
          "MPG_City",
          "MPG_City",
          "MPG_City",
          "MPG_City",
          "MPG_City",
          "MPG_City",
          "MPG_City",
          "MPG_City",
          "MPG_City",
          "MPG_City",
          "MPG_City",
          "MPG_City",
          "MPG_City",
          "MPG_City",
          "MPG_City",
          "MPG_City",
          "MPG_City",
          "MPG_City",
          "MPG_City",
          "MPG_City",
          "MPG_City",
          "MPG_City",
          "MPG_City",
          "MPG_City",
          "MPG_City",
          "MPG_City",
          "MPG_City",
          "MPG_City"
         ],
         "x0": " ",
         "xaxis": "x",
         "y": [
          17,
          24,
          22,
          20,
          18,
          18,
          17,
          22,
          23,
          20,
          17,
          18,
          20,
          18,
          20,
          18,
          18,
          17,
          17,
          14,
          15,
          20,
          20,
          21,
          18,
          15,
          16,
          16,
          20,
          20,
          19,
          19,
          20,
          20,
          20,
          19,
          19,
          20,
          18,
          18,
          18,
          16,
          16,
          20,
          21,
          19,
          15,
          19,
          20,
          20,
          20,
          18,
          20,
          20,
          18,
          14,
          16,
          18,
          18,
          18,
          18,
          17,
          13,
          14,
          14,
          16,
          19,
          28,
          28,
          26,
          26,
          26,
          21,
          24,
          22,
          21,
          20,
          18,
          23,
          18,
          14,
          19,
          18,
          18,
          14,
          18,
          15,
          13,
          16,
          22,
          22,
          22,
          22,
          21,
          18,
          21,
          19,
          21,
          22,
          18,
          21,
          19,
          18,
          17,
          17,
          15,
          29,
          29,
          21,
          21,
          21,
          18,
          20,
          18,
          12,
          16,
          16,
          16,
          10,
          15,
          15,
          18,
          26,
          27,
          26,
          26,
          21,
          20,
          19,
          17,
          17,
          17,
          17,
          20,
          17,
          17,
          15,
          14,
          24,
          26,
          19,
          15,
          16,
          13,
          16,
          18,
          17,
          13,
          15,
          46,
          60,
          17,
          21,
          21,
          32,
          36,
          32,
          26,
          26,
          32,
          26,
          21,
          21,
          18,
          18,
          20,
          10,
          20,
          29,
          29,
          29,
          26,
          26,
          26,
          19,
          19,
          17,
          17,
          19,
          18,
          18,
          18,
          19,
          17,
          17,
          16,
          15,
          15,
          17,
          18,
          18,
          18,
          18,
          17,
          18,
          18,
          17,
          18,
          18,
          16,
          16,
          16,
          20,
          16,
          16,
          23,
          26,
          25,
          24,
          24,
          24,
          20,
          17,
          16,
          26,
          12,
          12,
          18,
          15,
          13,
          18,
          20,
          18,
          18,
          18,
          18,
          18,
          18,
          18,
          13,
          13,
          20,
          20,
          17,
          17,
          17,
          17,
          17,
          28,
          25,
          22,
          26,
          25,
          24,
          18,
          23,
          23,
          18,
          18,
          24,
          15,
          13,
          14,
          22,
          19,
          20,
          19,
          19,
          20,
          19,
          16,
          16,
          13,
          20,
          17,
          19,
          16,
          18,
          16,
          16,
          14,
          13,
          21,
          17,
          19,
          19,
          16,
          16,
          20,
          17,
          17,
          19,
          17,
          17,
          16,
          19,
          17,
          15,
          21,
          25,
          25,
          23,
          25,
          18,
          18,
          21,
          21,
          18,
          25,
          13,
          16,
          17,
          28,
          28,
          21,
          23,
          21,
          20,
          20,
          19,
          18,
          20,
          20,
          17,
          14,
          20,
          24,
          20,
          19,
          19,
          24,
          20,
          20,
          24,
          20,
          17,
          19,
          18,
          16,
          29,
          14,
          18,
          17,
          18,
          17,
          20,
          18,
          20,
          20,
          21,
          21,
          21,
          21,
          19,
          21,
          26,
          26,
          26,
          26,
          26,
          20,
          24,
          32,
          31,
          22,
          21,
          21,
          20,
          19,
          19,
          20,
          18,
          21,
          21,
          21,
          18,
          19,
          25,
          25,
          24,
          22,
          20,
          24,
          59,
          14,
          18,
          18,
          13,
          22,
          32,
          32,
          32,
          35,
          33,
          35,
          24,
          21,
          24,
          20,
          21,
          21,
          20,
          21,
          19,
          19,
          24,
          26,
          22,
          16,
          14,
          29,
          15,
          24,
          24,
          38,
          24,
          21,
          24,
          22,
          19,
          18,
          16,
          12,
          24,
          22,
          18,
          15,
          22,
          20,
          20,
          18,
          20,
          20,
          21,
          20,
          19,
          22,
          20
         ],
         "y0": " ",
         "yaxis": "y"
        }
       ],
       "layout": {
        "boxmode": "group",
        "legend": {
         "tracegroupgap": 0
        },
        "margin": {
         "t": 60
        },
        "template": {
         "data": {
          "bar": [
           {
            "error_x": {
             "color": "#2a3f5f"
            },
            "error_y": {
             "color": "#2a3f5f"
            },
            "marker": {
             "line": {
              "color": "#E5ECF6",
              "width": 0.5
             },
             "pattern": {
              "fillmode": "overlay",
              "size": 10,
              "solidity": 0.2
             }
            },
            "type": "bar"
           }
          ],
          "barpolar": [
           {
            "marker": {
             "line": {
              "color": "#E5ECF6",
              "width": 0.5
             },
             "pattern": {
              "fillmode": "overlay",
              "size": 10,
              "solidity": 0.2
             }
            },
            "type": "barpolar"
           }
          ],
          "carpet": [
           {
            "aaxis": {
             "endlinecolor": "#2a3f5f",
             "gridcolor": "white",
             "linecolor": "white",
             "minorgridcolor": "white",
             "startlinecolor": "#2a3f5f"
            },
            "baxis": {
             "endlinecolor": "#2a3f5f",
             "gridcolor": "white",
             "linecolor": "white",
             "minorgridcolor": "white",
             "startlinecolor": "#2a3f5f"
            },
            "type": "carpet"
           }
          ],
          "choropleth": [
           {
            "colorbar": {
             "outlinewidth": 0,
             "ticks": ""
            },
            "type": "choropleth"
           }
          ],
          "contour": [
           {
            "colorbar": {
             "outlinewidth": 0,
             "ticks": ""
            },
            "colorscale": [
             [
              0,
              "#0d0887"
             ],
             [
              0.1111111111111111,
              "#46039f"
             ],
             [
              0.2222222222222222,
              "#7201a8"
             ],
             [
              0.3333333333333333,
              "#9c179e"
             ],
             [
              0.4444444444444444,
              "#bd3786"
             ],
             [
              0.5555555555555556,
              "#d8576b"
             ],
             [
              0.6666666666666666,
              "#ed7953"
             ],
             [
              0.7777777777777778,
              "#fb9f3a"
             ],
             [
              0.8888888888888888,
              "#fdca26"
             ],
             [
              1,
              "#f0f921"
             ]
            ],
            "type": "contour"
           }
          ],
          "contourcarpet": [
           {
            "colorbar": {
             "outlinewidth": 0,
             "ticks": ""
            },
            "type": "contourcarpet"
           }
          ],
          "heatmap": [
           {
            "colorbar": {
             "outlinewidth": 0,
             "ticks": ""
            },
            "colorscale": [
             [
              0,
              "#0d0887"
             ],
             [
              0.1111111111111111,
              "#46039f"
             ],
             [
              0.2222222222222222,
              "#7201a8"
             ],
             [
              0.3333333333333333,
              "#9c179e"
             ],
             [
              0.4444444444444444,
              "#bd3786"
             ],
             [
              0.5555555555555556,
              "#d8576b"
             ],
             [
              0.6666666666666666,
              "#ed7953"
             ],
             [
              0.7777777777777778,
              "#fb9f3a"
             ],
             [
              0.8888888888888888,
              "#fdca26"
             ],
             [
              1,
              "#f0f921"
             ]
            ],
            "type": "heatmap"
           }
          ],
          "heatmapgl": [
           {
            "colorbar": {
             "outlinewidth": 0,
             "ticks": ""
            },
            "colorscale": [
             [
              0,
              "#0d0887"
             ],
             [
              0.1111111111111111,
              "#46039f"
             ],
             [
              0.2222222222222222,
              "#7201a8"
             ],
             [
              0.3333333333333333,
              "#9c179e"
             ],
             [
              0.4444444444444444,
              "#bd3786"
             ],
             [
              0.5555555555555556,
              "#d8576b"
             ],
             [
              0.6666666666666666,
              "#ed7953"
             ],
             [
              0.7777777777777778,
              "#fb9f3a"
             ],
             [
              0.8888888888888888,
              "#fdca26"
             ],
             [
              1,
              "#f0f921"
             ]
            ],
            "type": "heatmapgl"
           }
          ],
          "histogram": [
           {
            "marker": {
             "pattern": {
              "fillmode": "overlay",
              "size": 10,
              "solidity": 0.2
             }
            },
            "type": "histogram"
           }
          ],
          "histogram2d": [
           {
            "colorbar": {
             "outlinewidth": 0,
             "ticks": ""
            },
            "colorscale": [
             [
              0,
              "#0d0887"
             ],
             [
              0.1111111111111111,
              "#46039f"
             ],
             [
              0.2222222222222222,
              "#7201a8"
             ],
             [
              0.3333333333333333,
              "#9c179e"
             ],
             [
              0.4444444444444444,
              "#bd3786"
             ],
             [
              0.5555555555555556,
              "#d8576b"
             ],
             [
              0.6666666666666666,
              "#ed7953"
             ],
             [
              0.7777777777777778,
              "#fb9f3a"
             ],
             [
              0.8888888888888888,
              "#fdca26"
             ],
             [
              1,
              "#f0f921"
             ]
            ],
            "type": "histogram2d"
           }
          ],
          "histogram2dcontour": [
           {
            "colorbar": {
             "outlinewidth": 0,
             "ticks": ""
            },
            "colorscale": [
             [
              0,
              "#0d0887"
             ],
             [
              0.1111111111111111,
              "#46039f"
             ],
             [
              0.2222222222222222,
              "#7201a8"
             ],
             [
              0.3333333333333333,
              "#9c179e"
             ],
             [
              0.4444444444444444,
              "#bd3786"
             ],
             [
              0.5555555555555556,
              "#d8576b"
             ],
             [
              0.6666666666666666,
              "#ed7953"
             ],
             [
              0.7777777777777778,
              "#fb9f3a"
             ],
             [
              0.8888888888888888,
              "#fdca26"
             ],
             [
              1,
              "#f0f921"
             ]
            ],
            "type": "histogram2dcontour"
           }
          ],
          "mesh3d": [
           {
            "colorbar": {
             "outlinewidth": 0,
             "ticks": ""
            },
            "type": "mesh3d"
           }
          ],
          "parcoords": [
           {
            "line": {
             "colorbar": {
              "outlinewidth": 0,
              "ticks": ""
             }
            },
            "type": "parcoords"
           }
          ],
          "pie": [
           {
            "automargin": true,
            "type": "pie"
           }
          ],
          "scatter": [
           {
            "fillpattern": {
             "fillmode": "overlay",
             "size": 10,
             "solidity": 0.2
            },
            "type": "scatter"
           }
          ],
          "scatter3d": [
           {
            "line": {
             "colorbar": {
              "outlinewidth": 0,
              "ticks": ""
             }
            },
            "marker": {
             "colorbar": {
              "outlinewidth": 0,
              "ticks": ""
             }
            },
            "type": "scatter3d"
           }
          ],
          "scattercarpet": [
           {
            "marker": {
             "colorbar": {
              "outlinewidth": 0,
              "ticks": ""
             }
            },
            "type": "scattercarpet"
           }
          ],
          "scattergeo": [
           {
            "marker": {
             "colorbar": {
              "outlinewidth": 0,
              "ticks": ""
             }
            },
            "type": "scattergeo"
           }
          ],
          "scattergl": [
           {
            "marker": {
             "colorbar": {
              "outlinewidth": 0,
              "ticks": ""
             }
            },
            "type": "scattergl"
           }
          ],
          "scattermapbox": [
           {
            "marker": {
             "colorbar": {
              "outlinewidth": 0,
              "ticks": ""
             }
            },
            "type": "scattermapbox"
           }
          ],
          "scatterpolar": [
           {
            "marker": {
             "colorbar": {
              "outlinewidth": 0,
              "ticks": ""
             }
            },
            "type": "scatterpolar"
           }
          ],
          "scatterpolargl": [
           {
            "marker": {
             "colorbar": {
              "outlinewidth": 0,
              "ticks": ""
             }
            },
            "type": "scatterpolargl"
           }
          ],
          "scatterternary": [
           {
            "marker": {
             "colorbar": {
              "outlinewidth": 0,
              "ticks": ""
             }
            },
            "type": "scatterternary"
           }
          ],
          "surface": [
           {
            "colorbar": {
             "outlinewidth": 0,
             "ticks": ""
            },
            "colorscale": [
             [
              0,
              "#0d0887"
             ],
             [
              0.1111111111111111,
              "#46039f"
             ],
             [
              0.2222222222222222,
              "#7201a8"
             ],
             [
              0.3333333333333333,
              "#9c179e"
             ],
             [
              0.4444444444444444,
              "#bd3786"
             ],
             [
              0.5555555555555556,
              "#d8576b"
             ],
             [
              0.6666666666666666,
              "#ed7953"
             ],
             [
              0.7777777777777778,
              "#fb9f3a"
             ],
             [
              0.8888888888888888,
              "#fdca26"
             ],
             [
              1,
              "#f0f921"
             ]
            ],
            "type": "surface"
           }
          ],
          "table": [
           {
            "cells": {
             "fill": {
              "color": "#EBF0F8"
             },
             "line": {
              "color": "white"
             }
            },
            "header": {
             "fill": {
              "color": "#C8D4E3"
             },
             "line": {
              "color": "white"
             }
            },
            "type": "table"
           }
          ]
         },
         "layout": {
          "annotationdefaults": {
           "arrowcolor": "#2a3f5f",
           "arrowhead": 0,
           "arrowwidth": 1
          },
          "autotypenumbers": "strict",
          "coloraxis": {
           "colorbar": {
            "outlinewidth": 0,
            "ticks": ""
           }
          },
          "colorscale": {
           "diverging": [
            [
             0,
             "#8e0152"
            ],
            [
             0.1,
             "#c51b7d"
            ],
            [
             0.2,
             "#de77ae"
            ],
            [
             0.3,
             "#f1b6da"
            ],
            [
             0.4,
             "#fde0ef"
            ],
            [
             0.5,
             "#f7f7f7"
            ],
            [
             0.6,
             "#e6f5d0"
            ],
            [
             0.7,
             "#b8e186"
            ],
            [
             0.8,
             "#7fbc41"
            ],
            [
             0.9,
             "#4d9221"
            ],
            [
             1,
             "#276419"
            ]
           ],
           "sequential": [
            [
             0,
             "#0d0887"
            ],
            [
             0.1111111111111111,
             "#46039f"
            ],
            [
             0.2222222222222222,
             "#7201a8"
            ],
            [
             0.3333333333333333,
             "#9c179e"
            ],
            [
             0.4444444444444444,
             "#bd3786"
            ],
            [
             0.5555555555555556,
             "#d8576b"
            ],
            [
             0.6666666666666666,
             "#ed7953"
            ],
            [
             0.7777777777777778,
             "#fb9f3a"
            ],
            [
             0.8888888888888888,
             "#fdca26"
            ],
            [
             1,
             "#f0f921"
            ]
           ],
           "sequentialminus": [
            [
             0,
             "#0d0887"
            ],
            [
             0.1111111111111111,
             "#46039f"
            ],
            [
             0.2222222222222222,
             "#7201a8"
            ],
            [
             0.3333333333333333,
             "#9c179e"
            ],
            [
             0.4444444444444444,
             "#bd3786"
            ],
            [
             0.5555555555555556,
             "#d8576b"
            ],
            [
             0.6666666666666666,
             "#ed7953"
            ],
            [
             0.7777777777777778,
             "#fb9f3a"
            ],
            [
             0.8888888888888888,
             "#fdca26"
            ],
            [
             1,
             "#f0f921"
            ]
           ]
          },
          "colorway": [
           "#636efa",
           "#EF553B",
           "#00cc96",
           "#ab63fa",
           "#FFA15A",
           "#19d3f3",
           "#FF6692",
           "#B6E880",
           "#FF97FF",
           "#FECB52"
          ],
          "font": {
           "color": "#2a3f5f"
          },
          "geo": {
           "bgcolor": "white",
           "lakecolor": "white",
           "landcolor": "#E5ECF6",
           "showlakes": true,
           "showland": true,
           "subunitcolor": "white"
          },
          "hoverlabel": {
           "align": "left"
          },
          "hovermode": "closest",
          "mapbox": {
           "style": "light"
          },
          "paper_bgcolor": "white",
          "plot_bgcolor": "#E5ECF6",
          "polar": {
           "angularaxis": {
            "gridcolor": "white",
            "linecolor": "white",
            "ticks": ""
           },
           "bgcolor": "#E5ECF6",
           "radialaxis": {
            "gridcolor": "white",
            "linecolor": "white",
            "ticks": ""
           }
          },
          "scene": {
           "xaxis": {
            "backgroundcolor": "#E5ECF6",
            "gridcolor": "white",
            "gridwidth": 2,
            "linecolor": "white",
            "showbackground": true,
            "ticks": "",
            "zerolinecolor": "white"
           },
           "yaxis": {
            "backgroundcolor": "#E5ECF6",
            "gridcolor": "white",
            "gridwidth": 2,
            "linecolor": "white",
            "showbackground": true,
            "ticks": "",
            "zerolinecolor": "white"
           },
           "zaxis": {
            "backgroundcolor": "#E5ECF6",
            "gridcolor": "white",
            "gridwidth": 2,
            "linecolor": "white",
            "showbackground": true,
            "ticks": "",
            "zerolinecolor": "white"
           }
          },
          "shapedefaults": {
           "line": {
            "color": "#2a3f5f"
           }
          },
          "ternary": {
           "aaxis": {
            "gridcolor": "white",
            "linecolor": "white",
            "ticks": ""
           },
           "baxis": {
            "gridcolor": "white",
            "linecolor": "white",
            "ticks": ""
           },
           "bgcolor": "#E5ECF6",
           "caxis": {
            "gridcolor": "white",
            "linecolor": "white",
            "ticks": ""
           }
          },
          "title": {
           "x": 0.05
          },
          "xaxis": {
           "automargin": true,
           "gridcolor": "white",
           "linecolor": "white",
           "ticks": "",
           "title": {
            "standoff": 15
           },
           "zerolinecolor": "white",
           "zerolinewidth": 2
          },
          "yaxis": {
           "automargin": true,
           "gridcolor": "white",
           "linecolor": "white",
           "ticks": "",
           "title": {
            "standoff": 15
           },
           "zerolinecolor": "white",
           "zerolinewidth": 2
          }
         }
        },
        "xaxis": {
         "anchor": "y",
         "domain": [
          0,
          1
         ],
         "title": {
          "text": "variable"
         }
        },
        "yaxis": {
         "anchor": "x",
         "domain": [
          0,
          1
         ],
         "title": {
          "text": "value"
         }
        }
       }
      }
     },
     "metadata": {},
     "output_type": "display_data"
    }
   ],
   "source": [
    "px.box(car[\"MPG_City\"])"
   ]
  },
  {
   "cell_type": "code",
   "execution_count": 104,
   "metadata": {},
   "outputs": [],
   "source": [
    "#Removing outliers from MPG_City column\n",
    "def remove_outliers_MPG_City(car):\n",
    "    IQR = car[\"MPG_City\"].quantile(0.75) - car[\"MPG_City\"].quantile(0.25)\n",
    "\n",
    "    lower_range = car[\"MPG_City\"].quantile(0.25) - (1.5 * IQR)\n",
    "    upper_range = car[\"MPG_City\"].quantile(0.75) + (1.5 * IQR)\n",
    "\n",
    "    car.loc[car[\"MPG_City\"] <= lower_range, \"MPG_City\" ] = lower_range\n",
    "    car.loc[car[\"MPG_City\"] >= upper_range, \"MPG_City\" ] = upper_range"
   ]
  },
  {
   "cell_type": "code",
   "execution_count": 105,
   "metadata": {},
   "outputs": [],
   "source": [
    "remove_outliers_MPG_City(car)"
   ]
  },
  {
   "cell_type": "code",
   "execution_count": 107,
   "metadata": {},
   "outputs": [
    {
     "data": {
      "application/vnd.plotly.v1+json": {
       "config": {
        "plotlyServerURL": "https://plot.ly"
       },
       "data": [
        {
         "alignmentgroup": "True",
         "hovertemplate": "variable=%{x}<br>value=%{y}<extra></extra>",
         "legendgroup": "",
         "marker": {
          "color": "#636efa"
         },
         "name": "",
         "notched": false,
         "offsetgroup": "",
         "orientation": "v",
         "showlegend": false,
         "type": "box",
         "x": [
          "MPG_City",
          "MPG_City",
          "MPG_City",
          "MPG_City",
          "MPG_City",
          "MPG_City",
          "MPG_City",
          "MPG_City",
          "MPG_City",
          "MPG_City",
          "MPG_City",
          "MPG_City",
          "MPG_City",
          "MPG_City",
          "MPG_City",
          "MPG_City",
          "MPG_City",
          "MPG_City",
          "MPG_City",
          "MPG_City",
          "MPG_City",
          "MPG_City",
          "MPG_City",
          "MPG_City",
          "MPG_City",
          "MPG_City",
          "MPG_City",
          "MPG_City",
          "MPG_City",
          "MPG_City",
          "MPG_City",
          "MPG_City",
          "MPG_City",
          "MPG_City",
          "MPG_City",
          "MPG_City",
          "MPG_City",
          "MPG_City",
          "MPG_City",
          "MPG_City",
          "MPG_City",
          "MPG_City",
          "MPG_City",
          "MPG_City",
          "MPG_City",
          "MPG_City",
          "MPG_City",
          "MPG_City",
          "MPG_City",
          "MPG_City",
          "MPG_City",
          "MPG_City",
          "MPG_City",
          "MPG_City",
          "MPG_City",
          "MPG_City",
          "MPG_City",
          "MPG_City",
          "MPG_City",
          "MPG_City",
          "MPG_City",
          "MPG_City",
          "MPG_City",
          "MPG_City",
          "MPG_City",
          "MPG_City",
          "MPG_City",
          "MPG_City",
          "MPG_City",
          "MPG_City",
          "MPG_City",
          "MPG_City",
          "MPG_City",
          "MPG_City",
          "MPG_City",
          "MPG_City",
          "MPG_City",
          "MPG_City",
          "MPG_City",
          "MPG_City",
          "MPG_City",
          "MPG_City",
          "MPG_City",
          "MPG_City",
          "MPG_City",
          "MPG_City",
          "MPG_City",
          "MPG_City",
          "MPG_City",
          "MPG_City",
          "MPG_City",
          "MPG_City",
          "MPG_City",
          "MPG_City",
          "MPG_City",
          "MPG_City",
          "MPG_City",
          "MPG_City",
          "MPG_City",
          "MPG_City",
          "MPG_City",
          "MPG_City",
          "MPG_City",
          "MPG_City",
          "MPG_City",
          "MPG_City",
          "MPG_City",
          "MPG_City",
          "MPG_City",
          "MPG_City",
          "MPG_City",
          "MPG_City",
          "MPG_City",
          "MPG_City",
          "MPG_City",
          "MPG_City",
          "MPG_City",
          "MPG_City",
          "MPG_City",
          "MPG_City",
          "MPG_City",
          "MPG_City",
          "MPG_City",
          "MPG_City",
          "MPG_City",
          "MPG_City",
          "MPG_City",
          "MPG_City",
          "MPG_City",
          "MPG_City",
          "MPG_City",
          "MPG_City",
          "MPG_City",
          "MPG_City",
          "MPG_City",
          "MPG_City",
          "MPG_City",
          "MPG_City",
          "MPG_City",
          "MPG_City",
          "MPG_City",
          "MPG_City",
          "MPG_City",
          "MPG_City",
          "MPG_City",
          "MPG_City",
          "MPG_City",
          "MPG_City",
          "MPG_City",
          "MPG_City",
          "MPG_City",
          "MPG_City",
          "MPG_City",
          "MPG_City",
          "MPG_City",
          "MPG_City",
          "MPG_City",
          "MPG_City",
          "MPG_City",
          "MPG_City",
          "MPG_City",
          "MPG_City",
          "MPG_City",
          "MPG_City",
          "MPG_City",
          "MPG_City",
          "MPG_City",
          "MPG_City",
          "MPG_City",
          "MPG_City",
          "MPG_City",
          "MPG_City",
          "MPG_City",
          "MPG_City",
          "MPG_City",
          "MPG_City",
          "MPG_City",
          "MPG_City",
          "MPG_City",
          "MPG_City",
          "MPG_City",
          "MPG_City",
          "MPG_City",
          "MPG_City",
          "MPG_City",
          "MPG_City",
          "MPG_City",
          "MPG_City",
          "MPG_City",
          "MPG_City",
          "MPG_City",
          "MPG_City",
          "MPG_City",
          "MPG_City",
          "MPG_City",
          "MPG_City",
          "MPG_City",
          "MPG_City",
          "MPG_City",
          "MPG_City",
          "MPG_City",
          "MPG_City",
          "MPG_City",
          "MPG_City",
          "MPG_City",
          "MPG_City",
          "MPG_City",
          "MPG_City",
          "MPG_City",
          "MPG_City",
          "MPG_City",
          "MPG_City",
          "MPG_City",
          "MPG_City",
          "MPG_City",
          "MPG_City",
          "MPG_City",
          "MPG_City",
          "MPG_City",
          "MPG_City",
          "MPG_City",
          "MPG_City",
          "MPG_City",
          "MPG_City",
          "MPG_City",
          "MPG_City",
          "MPG_City",
          "MPG_City",
          "MPG_City",
          "MPG_City",
          "MPG_City",
          "MPG_City",
          "MPG_City",
          "MPG_City",
          "MPG_City",
          "MPG_City",
          "MPG_City",
          "MPG_City",
          "MPG_City",
          "MPG_City",
          "MPG_City",
          "MPG_City",
          "MPG_City",
          "MPG_City",
          "MPG_City",
          "MPG_City",
          "MPG_City",
          "MPG_City",
          "MPG_City",
          "MPG_City",
          "MPG_City",
          "MPG_City",
          "MPG_City",
          "MPG_City",
          "MPG_City",
          "MPG_City",
          "MPG_City",
          "MPG_City",
          "MPG_City",
          "MPG_City",
          "MPG_City",
          "MPG_City",
          "MPG_City",
          "MPG_City",
          "MPG_City",
          "MPG_City",
          "MPG_City",
          "MPG_City",
          "MPG_City",
          "MPG_City",
          "MPG_City",
          "MPG_City",
          "MPG_City",
          "MPG_City",
          "MPG_City",
          "MPG_City",
          "MPG_City",
          "MPG_City",
          "MPG_City",
          "MPG_City",
          "MPG_City",
          "MPG_City",
          "MPG_City",
          "MPG_City",
          "MPG_City",
          "MPG_City",
          "MPG_City",
          "MPG_City",
          "MPG_City",
          "MPG_City",
          "MPG_City",
          "MPG_City",
          "MPG_City",
          "MPG_City",
          "MPG_City",
          "MPG_City",
          "MPG_City",
          "MPG_City",
          "MPG_City",
          "MPG_City",
          "MPG_City",
          "MPG_City",
          "MPG_City",
          "MPG_City",
          "MPG_City",
          "MPG_City",
          "MPG_City",
          "MPG_City",
          "MPG_City",
          "MPG_City",
          "MPG_City",
          "MPG_City",
          "MPG_City",
          "MPG_City",
          "MPG_City",
          "MPG_City",
          "MPG_City",
          "MPG_City",
          "MPG_City",
          "MPG_City",
          "MPG_City",
          "MPG_City",
          "MPG_City",
          "MPG_City",
          "MPG_City",
          "MPG_City",
          "MPG_City",
          "MPG_City",
          "MPG_City",
          "MPG_City",
          "MPG_City",
          "MPG_City",
          "MPG_City",
          "MPG_City",
          "MPG_City",
          "MPG_City",
          "MPG_City",
          "MPG_City",
          "MPG_City",
          "MPG_City",
          "MPG_City",
          "MPG_City",
          "MPG_City",
          "MPG_City",
          "MPG_City",
          "MPG_City",
          "MPG_City",
          "MPG_City",
          "MPG_City",
          "MPG_City",
          "MPG_City",
          "MPG_City",
          "MPG_City",
          "MPG_City",
          "MPG_City",
          "MPG_City",
          "MPG_City",
          "MPG_City",
          "MPG_City",
          "MPG_City",
          "MPG_City",
          "MPG_City",
          "MPG_City",
          "MPG_City",
          "MPG_City",
          "MPG_City",
          "MPG_City",
          "MPG_City",
          "MPG_City",
          "MPG_City",
          "MPG_City",
          "MPG_City",
          "MPG_City",
          "MPG_City",
          "MPG_City",
          "MPG_City",
          "MPG_City",
          "MPG_City",
          "MPG_City",
          "MPG_City",
          "MPG_City",
          "MPG_City",
          "MPG_City",
          "MPG_City",
          "MPG_City",
          "MPG_City",
          "MPG_City",
          "MPG_City",
          "MPG_City",
          "MPG_City",
          "MPG_City",
          "MPG_City",
          "MPG_City",
          "MPG_City",
          "MPG_City",
          "MPG_City",
          "MPG_City",
          "MPG_City",
          "MPG_City",
          "MPG_City",
          "MPG_City",
          "MPG_City",
          "MPG_City",
          "MPG_City",
          "MPG_City",
          "MPG_City",
          "MPG_City",
          "MPG_City",
          "MPG_City",
          "MPG_City",
          "MPG_City",
          "MPG_City",
          "MPG_City",
          "MPG_City",
          "MPG_City",
          "MPG_City",
          "MPG_City",
          "MPG_City",
          "MPG_City",
          "MPG_City",
          "MPG_City",
          "MPG_City",
          "MPG_City",
          "MPG_City",
          "MPG_City",
          "MPG_City",
          "MPG_City",
          "MPG_City"
         ],
         "x0": " ",
         "xaxis": "x",
         "y": [
          17,
          24,
          22,
          20,
          18,
          18,
          17,
          22,
          23,
          20,
          17,
          18,
          20,
          18,
          20,
          18,
          18,
          17,
          17,
          14,
          15,
          20,
          20,
          21,
          18,
          15,
          16,
          16,
          20,
          20,
          19,
          19,
          20,
          20,
          20,
          19,
          19,
          20,
          18,
          18,
          18,
          16,
          16,
          20,
          21,
          19,
          15,
          19,
          20,
          20,
          20,
          18,
          20,
          20,
          18,
          14,
          16,
          18,
          18,
          18,
          18,
          17,
          13,
          14,
          14,
          16,
          19,
          27.625,
          27.625,
          26,
          26,
          26,
          21,
          24,
          22,
          21,
          20,
          18,
          23,
          18,
          14,
          19,
          18,
          18,
          14,
          18,
          15,
          13,
          16,
          22,
          22,
          22,
          22,
          21,
          18,
          21,
          19,
          21,
          22,
          18,
          21,
          19,
          18,
          17,
          17,
          15,
          27.625,
          27.625,
          21,
          21,
          21,
          18,
          20,
          18,
          12,
          16,
          16,
          16,
          10.625,
          15,
          15,
          18,
          26,
          27,
          26,
          26,
          21,
          20,
          19,
          17,
          17,
          17,
          17,
          20,
          17,
          17,
          15,
          14,
          24,
          26,
          19,
          15,
          16,
          13,
          16,
          18,
          17,
          13,
          15,
          27.625,
          27.625,
          17,
          21,
          21,
          27.625,
          27.625,
          27.625,
          26,
          26,
          27.625,
          26,
          21,
          21,
          18,
          18,
          20,
          10.625,
          20,
          27.625,
          27.625,
          27.625,
          26,
          26,
          26,
          19,
          19,
          17,
          17,
          19,
          18,
          18,
          18,
          19,
          17,
          17,
          16,
          15,
          15,
          17,
          18,
          18,
          18,
          18,
          17,
          18,
          18,
          17,
          18,
          18,
          16,
          16,
          16,
          20,
          16,
          16,
          23,
          26,
          25,
          24,
          24,
          24,
          20,
          17,
          16,
          26,
          12,
          12,
          18,
          15,
          13,
          18,
          20,
          18,
          18,
          18,
          18,
          18,
          18,
          18,
          13,
          13,
          20,
          20,
          17,
          17,
          17,
          17,
          17,
          27.625,
          25,
          22,
          26,
          25,
          24,
          18,
          23,
          23,
          18,
          18,
          24,
          15,
          13,
          14,
          22,
          19,
          20,
          19,
          19,
          20,
          19,
          16,
          16,
          13,
          20,
          17,
          19,
          16,
          18,
          16,
          16,
          14,
          13,
          21,
          17,
          19,
          19,
          16,
          16,
          20,
          17,
          17,
          19,
          17,
          17,
          16,
          19,
          17,
          15,
          21,
          25,
          25,
          23,
          25,
          18,
          18,
          21,
          21,
          18,
          25,
          13,
          16,
          17,
          27.625,
          27.625,
          21,
          23,
          21,
          20,
          20,
          19,
          18,
          20,
          20,
          17,
          14,
          20,
          24,
          20,
          19,
          19,
          24,
          20,
          20,
          24,
          20,
          17,
          19,
          18,
          16,
          27.625,
          14,
          18,
          17,
          18,
          17,
          20,
          18,
          20,
          20,
          21,
          21,
          21,
          21,
          19,
          21,
          26,
          26,
          26,
          26,
          26,
          20,
          24,
          27.625,
          27.625,
          22,
          21,
          21,
          20,
          19,
          19,
          20,
          18,
          21,
          21,
          21,
          18,
          19,
          25,
          25,
          24,
          22,
          20,
          24,
          27.625,
          14,
          18,
          18,
          13,
          22,
          27.625,
          27.625,
          27.625,
          27.625,
          27.625,
          27.625,
          24,
          21,
          24,
          20,
          21,
          21,
          20,
          21,
          19,
          19,
          24,
          26,
          22,
          16,
          14,
          27.625,
          15,
          24,
          24,
          27.625,
          24,
          21,
          24,
          22,
          19,
          18,
          16,
          12,
          24,
          22,
          18,
          15,
          22,
          20,
          20,
          18,
          20,
          20,
          21,
          20,
          19,
          22,
          20
         ],
         "y0": " ",
         "yaxis": "y"
        }
       ],
       "layout": {
        "boxmode": "group",
        "legend": {
         "tracegroupgap": 0
        },
        "margin": {
         "t": 60
        },
        "template": {
         "data": {
          "bar": [
           {
            "error_x": {
             "color": "#2a3f5f"
            },
            "error_y": {
             "color": "#2a3f5f"
            },
            "marker": {
             "line": {
              "color": "#E5ECF6",
              "width": 0.5
             },
             "pattern": {
              "fillmode": "overlay",
              "size": 10,
              "solidity": 0.2
             }
            },
            "type": "bar"
           }
          ],
          "barpolar": [
           {
            "marker": {
             "line": {
              "color": "#E5ECF6",
              "width": 0.5
             },
             "pattern": {
              "fillmode": "overlay",
              "size": 10,
              "solidity": 0.2
             }
            },
            "type": "barpolar"
           }
          ],
          "carpet": [
           {
            "aaxis": {
             "endlinecolor": "#2a3f5f",
             "gridcolor": "white",
             "linecolor": "white",
             "minorgridcolor": "white",
             "startlinecolor": "#2a3f5f"
            },
            "baxis": {
             "endlinecolor": "#2a3f5f",
             "gridcolor": "white",
             "linecolor": "white",
             "minorgridcolor": "white",
             "startlinecolor": "#2a3f5f"
            },
            "type": "carpet"
           }
          ],
          "choropleth": [
           {
            "colorbar": {
             "outlinewidth": 0,
             "ticks": ""
            },
            "type": "choropleth"
           }
          ],
          "contour": [
           {
            "colorbar": {
             "outlinewidth": 0,
             "ticks": ""
            },
            "colorscale": [
             [
              0,
              "#0d0887"
             ],
             [
              0.1111111111111111,
              "#46039f"
             ],
             [
              0.2222222222222222,
              "#7201a8"
             ],
             [
              0.3333333333333333,
              "#9c179e"
             ],
             [
              0.4444444444444444,
              "#bd3786"
             ],
             [
              0.5555555555555556,
              "#d8576b"
             ],
             [
              0.6666666666666666,
              "#ed7953"
             ],
             [
              0.7777777777777778,
              "#fb9f3a"
             ],
             [
              0.8888888888888888,
              "#fdca26"
             ],
             [
              1,
              "#f0f921"
             ]
            ],
            "type": "contour"
           }
          ],
          "contourcarpet": [
           {
            "colorbar": {
             "outlinewidth": 0,
             "ticks": ""
            },
            "type": "contourcarpet"
           }
          ],
          "heatmap": [
           {
            "colorbar": {
             "outlinewidth": 0,
             "ticks": ""
            },
            "colorscale": [
             [
              0,
              "#0d0887"
             ],
             [
              0.1111111111111111,
              "#46039f"
             ],
             [
              0.2222222222222222,
              "#7201a8"
             ],
             [
              0.3333333333333333,
              "#9c179e"
             ],
             [
              0.4444444444444444,
              "#bd3786"
             ],
             [
              0.5555555555555556,
              "#d8576b"
             ],
             [
              0.6666666666666666,
              "#ed7953"
             ],
             [
              0.7777777777777778,
              "#fb9f3a"
             ],
             [
              0.8888888888888888,
              "#fdca26"
             ],
             [
              1,
              "#f0f921"
             ]
            ],
            "type": "heatmap"
           }
          ],
          "heatmapgl": [
           {
            "colorbar": {
             "outlinewidth": 0,
             "ticks": ""
            },
            "colorscale": [
             [
              0,
              "#0d0887"
             ],
             [
              0.1111111111111111,
              "#46039f"
             ],
             [
              0.2222222222222222,
              "#7201a8"
             ],
             [
              0.3333333333333333,
              "#9c179e"
             ],
             [
              0.4444444444444444,
              "#bd3786"
             ],
             [
              0.5555555555555556,
              "#d8576b"
             ],
             [
              0.6666666666666666,
              "#ed7953"
             ],
             [
              0.7777777777777778,
              "#fb9f3a"
             ],
             [
              0.8888888888888888,
              "#fdca26"
             ],
             [
              1,
              "#f0f921"
             ]
            ],
            "type": "heatmapgl"
           }
          ],
          "histogram": [
           {
            "marker": {
             "pattern": {
              "fillmode": "overlay",
              "size": 10,
              "solidity": 0.2
             }
            },
            "type": "histogram"
           }
          ],
          "histogram2d": [
           {
            "colorbar": {
             "outlinewidth": 0,
             "ticks": ""
            },
            "colorscale": [
             [
              0,
              "#0d0887"
             ],
             [
              0.1111111111111111,
              "#46039f"
             ],
             [
              0.2222222222222222,
              "#7201a8"
             ],
             [
              0.3333333333333333,
              "#9c179e"
             ],
             [
              0.4444444444444444,
              "#bd3786"
             ],
             [
              0.5555555555555556,
              "#d8576b"
             ],
             [
              0.6666666666666666,
              "#ed7953"
             ],
             [
              0.7777777777777778,
              "#fb9f3a"
             ],
             [
              0.8888888888888888,
              "#fdca26"
             ],
             [
              1,
              "#f0f921"
             ]
            ],
            "type": "histogram2d"
           }
          ],
          "histogram2dcontour": [
           {
            "colorbar": {
             "outlinewidth": 0,
             "ticks": ""
            },
            "colorscale": [
             [
              0,
              "#0d0887"
             ],
             [
              0.1111111111111111,
              "#46039f"
             ],
             [
              0.2222222222222222,
              "#7201a8"
             ],
             [
              0.3333333333333333,
              "#9c179e"
             ],
             [
              0.4444444444444444,
              "#bd3786"
             ],
             [
              0.5555555555555556,
              "#d8576b"
             ],
             [
              0.6666666666666666,
              "#ed7953"
             ],
             [
              0.7777777777777778,
              "#fb9f3a"
             ],
             [
              0.8888888888888888,
              "#fdca26"
             ],
             [
              1,
              "#f0f921"
             ]
            ],
            "type": "histogram2dcontour"
           }
          ],
          "mesh3d": [
           {
            "colorbar": {
             "outlinewidth": 0,
             "ticks": ""
            },
            "type": "mesh3d"
           }
          ],
          "parcoords": [
           {
            "line": {
             "colorbar": {
              "outlinewidth": 0,
              "ticks": ""
             }
            },
            "type": "parcoords"
           }
          ],
          "pie": [
           {
            "automargin": true,
            "type": "pie"
           }
          ],
          "scatter": [
           {
            "fillpattern": {
             "fillmode": "overlay",
             "size": 10,
             "solidity": 0.2
            },
            "type": "scatter"
           }
          ],
          "scatter3d": [
           {
            "line": {
             "colorbar": {
              "outlinewidth": 0,
              "ticks": ""
             }
            },
            "marker": {
             "colorbar": {
              "outlinewidth": 0,
              "ticks": ""
             }
            },
            "type": "scatter3d"
           }
          ],
          "scattercarpet": [
           {
            "marker": {
             "colorbar": {
              "outlinewidth": 0,
              "ticks": ""
             }
            },
            "type": "scattercarpet"
           }
          ],
          "scattergeo": [
           {
            "marker": {
             "colorbar": {
              "outlinewidth": 0,
              "ticks": ""
             }
            },
            "type": "scattergeo"
           }
          ],
          "scattergl": [
           {
            "marker": {
             "colorbar": {
              "outlinewidth": 0,
              "ticks": ""
             }
            },
            "type": "scattergl"
           }
          ],
          "scattermapbox": [
           {
            "marker": {
             "colorbar": {
              "outlinewidth": 0,
              "ticks": ""
             }
            },
            "type": "scattermapbox"
           }
          ],
          "scatterpolar": [
           {
            "marker": {
             "colorbar": {
              "outlinewidth": 0,
              "ticks": ""
             }
            },
            "type": "scatterpolar"
           }
          ],
          "scatterpolargl": [
           {
            "marker": {
             "colorbar": {
              "outlinewidth": 0,
              "ticks": ""
             }
            },
            "type": "scatterpolargl"
           }
          ],
          "scatterternary": [
           {
            "marker": {
             "colorbar": {
              "outlinewidth": 0,
              "ticks": ""
             }
            },
            "type": "scatterternary"
           }
          ],
          "surface": [
           {
            "colorbar": {
             "outlinewidth": 0,
             "ticks": ""
            },
            "colorscale": [
             [
              0,
              "#0d0887"
             ],
             [
              0.1111111111111111,
              "#46039f"
             ],
             [
              0.2222222222222222,
              "#7201a8"
             ],
             [
              0.3333333333333333,
              "#9c179e"
             ],
             [
              0.4444444444444444,
              "#bd3786"
             ],
             [
              0.5555555555555556,
              "#d8576b"
             ],
             [
              0.6666666666666666,
              "#ed7953"
             ],
             [
              0.7777777777777778,
              "#fb9f3a"
             ],
             [
              0.8888888888888888,
              "#fdca26"
             ],
             [
              1,
              "#f0f921"
             ]
            ],
            "type": "surface"
           }
          ],
          "table": [
           {
            "cells": {
             "fill": {
              "color": "#EBF0F8"
             },
             "line": {
              "color": "white"
             }
            },
            "header": {
             "fill": {
              "color": "#C8D4E3"
             },
             "line": {
              "color": "white"
             }
            },
            "type": "table"
           }
          ]
         },
         "layout": {
          "annotationdefaults": {
           "arrowcolor": "#2a3f5f",
           "arrowhead": 0,
           "arrowwidth": 1
          },
          "autotypenumbers": "strict",
          "coloraxis": {
           "colorbar": {
            "outlinewidth": 0,
            "ticks": ""
           }
          },
          "colorscale": {
           "diverging": [
            [
             0,
             "#8e0152"
            ],
            [
             0.1,
             "#c51b7d"
            ],
            [
             0.2,
             "#de77ae"
            ],
            [
             0.3,
             "#f1b6da"
            ],
            [
             0.4,
             "#fde0ef"
            ],
            [
             0.5,
             "#f7f7f7"
            ],
            [
             0.6,
             "#e6f5d0"
            ],
            [
             0.7,
             "#b8e186"
            ],
            [
             0.8,
             "#7fbc41"
            ],
            [
             0.9,
             "#4d9221"
            ],
            [
             1,
             "#276419"
            ]
           ],
           "sequential": [
            [
             0,
             "#0d0887"
            ],
            [
             0.1111111111111111,
             "#46039f"
            ],
            [
             0.2222222222222222,
             "#7201a8"
            ],
            [
             0.3333333333333333,
             "#9c179e"
            ],
            [
             0.4444444444444444,
             "#bd3786"
            ],
            [
             0.5555555555555556,
             "#d8576b"
            ],
            [
             0.6666666666666666,
             "#ed7953"
            ],
            [
             0.7777777777777778,
             "#fb9f3a"
            ],
            [
             0.8888888888888888,
             "#fdca26"
            ],
            [
             1,
             "#f0f921"
            ]
           ],
           "sequentialminus": [
            [
             0,
             "#0d0887"
            ],
            [
             0.1111111111111111,
             "#46039f"
            ],
            [
             0.2222222222222222,
             "#7201a8"
            ],
            [
             0.3333333333333333,
             "#9c179e"
            ],
            [
             0.4444444444444444,
             "#bd3786"
            ],
            [
             0.5555555555555556,
             "#d8576b"
            ],
            [
             0.6666666666666666,
             "#ed7953"
            ],
            [
             0.7777777777777778,
             "#fb9f3a"
            ],
            [
             0.8888888888888888,
             "#fdca26"
            ],
            [
             1,
             "#f0f921"
            ]
           ]
          },
          "colorway": [
           "#636efa",
           "#EF553B",
           "#00cc96",
           "#ab63fa",
           "#FFA15A",
           "#19d3f3",
           "#FF6692",
           "#B6E880",
           "#FF97FF",
           "#FECB52"
          ],
          "font": {
           "color": "#2a3f5f"
          },
          "geo": {
           "bgcolor": "white",
           "lakecolor": "white",
           "landcolor": "#E5ECF6",
           "showlakes": true,
           "showland": true,
           "subunitcolor": "white"
          },
          "hoverlabel": {
           "align": "left"
          },
          "hovermode": "closest",
          "mapbox": {
           "style": "light"
          },
          "paper_bgcolor": "white",
          "plot_bgcolor": "#E5ECF6",
          "polar": {
           "angularaxis": {
            "gridcolor": "white",
            "linecolor": "white",
            "ticks": ""
           },
           "bgcolor": "#E5ECF6",
           "radialaxis": {
            "gridcolor": "white",
            "linecolor": "white",
            "ticks": ""
           }
          },
          "scene": {
           "xaxis": {
            "backgroundcolor": "#E5ECF6",
            "gridcolor": "white",
            "gridwidth": 2,
            "linecolor": "white",
            "showbackground": true,
            "ticks": "",
            "zerolinecolor": "white"
           },
           "yaxis": {
            "backgroundcolor": "#E5ECF6",
            "gridcolor": "white",
            "gridwidth": 2,
            "linecolor": "white",
            "showbackground": true,
            "ticks": "",
            "zerolinecolor": "white"
           },
           "zaxis": {
            "backgroundcolor": "#E5ECF6",
            "gridcolor": "white",
            "gridwidth": 2,
            "linecolor": "white",
            "showbackground": true,
            "ticks": "",
            "zerolinecolor": "white"
           }
          },
          "shapedefaults": {
           "line": {
            "color": "#2a3f5f"
           }
          },
          "ternary": {
           "aaxis": {
            "gridcolor": "white",
            "linecolor": "white",
            "ticks": ""
           },
           "baxis": {
            "gridcolor": "white",
            "linecolor": "white",
            "ticks": ""
           },
           "bgcolor": "#E5ECF6",
           "caxis": {
            "gridcolor": "white",
            "linecolor": "white",
            "ticks": ""
           }
          },
          "title": {
           "x": 0.05
          },
          "xaxis": {
           "automargin": true,
           "gridcolor": "white",
           "linecolor": "white",
           "ticks": "",
           "title": {
            "standoff": 15
           },
           "zerolinecolor": "white",
           "zerolinewidth": 2
          },
          "yaxis": {
           "automargin": true,
           "gridcolor": "white",
           "linecolor": "white",
           "ticks": "",
           "title": {
            "standoff": 15
           },
           "zerolinecolor": "white",
           "zerolinewidth": 2
          }
         }
        },
        "xaxis": {
         "anchor": "y",
         "domain": [
          0,
          1
         ],
         "title": {
          "text": "variable"
         }
        },
        "yaxis": {
         "anchor": "x",
         "domain": [
          0,
          1
         ],
         "title": {
          "text": "value"
         }
        }
       }
      }
     },
     "metadata": {},
     "output_type": "display_data"
    }
   ],
   "source": [
    "px.box(car[\"MPG_City\"])"
   ]
  },
  {
   "attachments": {},
   "cell_type": "markdown",
   "metadata": {},
   "source": [
    "### Removing outliers from MPG_Highway column"
   ]
  },
  {
   "cell_type": "code",
   "execution_count": null,
   "metadata": {},
   "outputs": [
    {
     "data": {
      "application/vnd.plotly.v1+json": {
       "config": {
        "plotlyServerURL": "https://plot.ly"
       },
       "data": [
        {
         "alignmentgroup": "True",
         "hovertemplate": "variable=%{x}<br>value=%{y}<extra></extra>",
         "legendgroup": "",
         "marker": {
          "color": "#636efa"
         },
         "name": "",
         "notched": false,
         "offsetgroup": "",
         "orientation": "v",
         "showlegend": false,
         "type": "box",
         "x": [
          "MPG_Highway",
          "MPG_Highway",
          "MPG_Highway",
          "MPG_Highway",
          "MPG_Highway",
          "MPG_Highway",
          "MPG_Highway",
          "MPG_Highway",
          "MPG_Highway",
          "MPG_Highway",
          "MPG_Highway",
          "MPG_Highway",
          "MPG_Highway",
          "MPG_Highway",
          "MPG_Highway",
          "MPG_Highway",
          "MPG_Highway",
          "MPG_Highway",
          "MPG_Highway",
          "MPG_Highway",
          "MPG_Highway",
          "MPG_Highway",
          "MPG_Highway",
          "MPG_Highway",
          "MPG_Highway",
          "MPG_Highway",
          "MPG_Highway",
          "MPG_Highway",
          "MPG_Highway",
          "MPG_Highway",
          "MPG_Highway",
          "MPG_Highway",
          "MPG_Highway",
          "MPG_Highway",
          "MPG_Highway",
          "MPG_Highway",
          "MPG_Highway",
          "MPG_Highway",
          "MPG_Highway",
          "MPG_Highway",
          "MPG_Highway",
          "MPG_Highway",
          "MPG_Highway",
          "MPG_Highway",
          "MPG_Highway",
          "MPG_Highway",
          "MPG_Highway",
          "MPG_Highway",
          "MPG_Highway",
          "MPG_Highway",
          "MPG_Highway",
          "MPG_Highway",
          "MPG_Highway",
          "MPG_Highway",
          "MPG_Highway",
          "MPG_Highway",
          "MPG_Highway",
          "MPG_Highway",
          "MPG_Highway",
          "MPG_Highway",
          "MPG_Highway",
          "MPG_Highway",
          "MPG_Highway",
          "MPG_Highway",
          "MPG_Highway",
          "MPG_Highway",
          "MPG_Highway",
          "MPG_Highway",
          "MPG_Highway",
          "MPG_Highway",
          "MPG_Highway",
          "MPG_Highway",
          "MPG_Highway",
          "MPG_Highway",
          "MPG_Highway",
          "MPG_Highway",
          "MPG_Highway",
          "MPG_Highway",
          "MPG_Highway",
          "MPG_Highway",
          "MPG_Highway",
          "MPG_Highway",
          "MPG_Highway",
          "MPG_Highway",
          "MPG_Highway",
          "MPG_Highway",
          "MPG_Highway",
          "MPG_Highway",
          "MPG_Highway",
          "MPG_Highway",
          "MPG_Highway",
          "MPG_Highway",
          "MPG_Highway",
          "MPG_Highway",
          "MPG_Highway",
          "MPG_Highway",
          "MPG_Highway",
          "MPG_Highway",
          "MPG_Highway",
          "MPG_Highway",
          "MPG_Highway",
          "MPG_Highway",
          "MPG_Highway",
          "MPG_Highway",
          "MPG_Highway",
          "MPG_Highway",
          "MPG_Highway",
          "MPG_Highway",
          "MPG_Highway",
          "MPG_Highway",
          "MPG_Highway",
          "MPG_Highway",
          "MPG_Highway",
          "MPG_Highway",
          "MPG_Highway",
          "MPG_Highway",
          "MPG_Highway",
          "MPG_Highway",
          "MPG_Highway",
          "MPG_Highway",
          "MPG_Highway",
          "MPG_Highway",
          "MPG_Highway",
          "MPG_Highway",
          "MPG_Highway",
          "MPG_Highway",
          "MPG_Highway",
          "MPG_Highway",
          "MPG_Highway",
          "MPG_Highway",
          "MPG_Highway",
          "MPG_Highway",
          "MPG_Highway",
          "MPG_Highway",
          "MPG_Highway",
          "MPG_Highway",
          "MPG_Highway",
          "MPG_Highway",
          "MPG_Highway",
          "MPG_Highway",
          "MPG_Highway",
          "MPG_Highway",
          "MPG_Highway",
          "MPG_Highway",
          "MPG_Highway",
          "MPG_Highway",
          "MPG_Highway",
          "MPG_Highway",
          "MPG_Highway",
          "MPG_Highway",
          "MPG_Highway",
          "MPG_Highway",
          "MPG_Highway",
          "MPG_Highway",
          "MPG_Highway",
          "MPG_Highway",
          "MPG_Highway",
          "MPG_Highway",
          "MPG_Highway",
          "MPG_Highway",
          "MPG_Highway",
          "MPG_Highway",
          "MPG_Highway",
          "MPG_Highway",
          "MPG_Highway",
          "MPG_Highway",
          "MPG_Highway",
          "MPG_Highway",
          "MPG_Highway",
          "MPG_Highway",
          "MPG_Highway",
          "MPG_Highway",
          "MPG_Highway",
          "MPG_Highway",
          "MPG_Highway",
          "MPG_Highway",
          "MPG_Highway",
          "MPG_Highway",
          "MPG_Highway",
          "MPG_Highway",
          "MPG_Highway",
          "MPG_Highway",
          "MPG_Highway",
          "MPG_Highway",
          "MPG_Highway",
          "MPG_Highway",
          "MPG_Highway",
          "MPG_Highway",
          "MPG_Highway",
          "MPG_Highway",
          "MPG_Highway",
          "MPG_Highway",
          "MPG_Highway",
          "MPG_Highway",
          "MPG_Highway",
          "MPG_Highway",
          "MPG_Highway",
          "MPG_Highway",
          "MPG_Highway",
          "MPG_Highway",
          "MPG_Highway",
          "MPG_Highway",
          "MPG_Highway",
          "MPG_Highway",
          "MPG_Highway",
          "MPG_Highway",
          "MPG_Highway",
          "MPG_Highway",
          "MPG_Highway",
          "MPG_Highway",
          "MPG_Highway",
          "MPG_Highway",
          "MPG_Highway",
          "MPG_Highway",
          "MPG_Highway",
          "MPG_Highway",
          "MPG_Highway",
          "MPG_Highway",
          "MPG_Highway",
          "MPG_Highway",
          "MPG_Highway",
          "MPG_Highway",
          "MPG_Highway",
          "MPG_Highway",
          "MPG_Highway",
          "MPG_Highway",
          "MPG_Highway",
          "MPG_Highway",
          "MPG_Highway",
          "MPG_Highway",
          "MPG_Highway",
          "MPG_Highway",
          "MPG_Highway",
          "MPG_Highway",
          "MPG_Highway",
          "MPG_Highway",
          "MPG_Highway",
          "MPG_Highway",
          "MPG_Highway",
          "MPG_Highway",
          "MPG_Highway",
          "MPG_Highway",
          "MPG_Highway",
          "MPG_Highway",
          "MPG_Highway",
          "MPG_Highway",
          "MPG_Highway",
          "MPG_Highway",
          "MPG_Highway",
          "MPG_Highway",
          "MPG_Highway",
          "MPG_Highway",
          "MPG_Highway",
          "MPG_Highway",
          "MPG_Highway",
          "MPG_Highway",
          "MPG_Highway",
          "MPG_Highway",
          "MPG_Highway",
          "MPG_Highway",
          "MPG_Highway",
          "MPG_Highway",
          "MPG_Highway",
          "MPG_Highway",
          "MPG_Highway",
          "MPG_Highway",
          "MPG_Highway",
          "MPG_Highway",
          "MPG_Highway",
          "MPG_Highway",
          "MPG_Highway",
          "MPG_Highway",
          "MPG_Highway",
          "MPG_Highway",
          "MPG_Highway",
          "MPG_Highway",
          "MPG_Highway",
          "MPG_Highway",
          "MPG_Highway",
          "MPG_Highway",
          "MPG_Highway",
          "MPG_Highway",
          "MPG_Highway",
          "MPG_Highway",
          "MPG_Highway",
          "MPG_Highway",
          "MPG_Highway",
          "MPG_Highway",
          "MPG_Highway",
          "MPG_Highway",
          "MPG_Highway",
          "MPG_Highway",
          "MPG_Highway",
          "MPG_Highway",
          "MPG_Highway",
          "MPG_Highway",
          "MPG_Highway",
          "MPG_Highway",
          "MPG_Highway",
          "MPG_Highway",
          "MPG_Highway",
          "MPG_Highway",
          "MPG_Highway",
          "MPG_Highway",
          "MPG_Highway",
          "MPG_Highway",
          "MPG_Highway",
          "MPG_Highway",
          "MPG_Highway",
          "MPG_Highway",
          "MPG_Highway",
          "MPG_Highway",
          "MPG_Highway",
          "MPG_Highway",
          "MPG_Highway",
          "MPG_Highway",
          "MPG_Highway",
          "MPG_Highway",
          "MPG_Highway",
          "MPG_Highway",
          "MPG_Highway",
          "MPG_Highway",
          "MPG_Highway",
          "MPG_Highway",
          "MPG_Highway",
          "MPG_Highway",
          "MPG_Highway",
          "MPG_Highway",
          "MPG_Highway",
          "MPG_Highway",
          "MPG_Highway",
          "MPG_Highway",
          "MPG_Highway",
          "MPG_Highway",
          "MPG_Highway",
          "MPG_Highway",
          "MPG_Highway",
          "MPG_Highway",
          "MPG_Highway",
          "MPG_Highway",
          "MPG_Highway",
          "MPG_Highway",
          "MPG_Highway",
          "MPG_Highway",
          "MPG_Highway",
          "MPG_Highway",
          "MPG_Highway",
          "MPG_Highway",
          "MPG_Highway",
          "MPG_Highway",
          "MPG_Highway",
          "MPG_Highway",
          "MPG_Highway",
          "MPG_Highway",
          "MPG_Highway",
          "MPG_Highway",
          "MPG_Highway",
          "MPG_Highway",
          "MPG_Highway",
          "MPG_Highway",
          "MPG_Highway",
          "MPG_Highway",
          "MPG_Highway",
          "MPG_Highway",
          "MPG_Highway",
          "MPG_Highway",
          "MPG_Highway",
          "MPG_Highway",
          "MPG_Highway",
          "MPG_Highway",
          "MPG_Highway",
          "MPG_Highway",
          "MPG_Highway",
          "MPG_Highway",
          "MPG_Highway",
          "MPG_Highway",
          "MPG_Highway",
          "MPG_Highway",
          "MPG_Highway",
          "MPG_Highway",
          "MPG_Highway",
          "MPG_Highway",
          "MPG_Highway",
          "MPG_Highway",
          "MPG_Highway",
          "MPG_Highway",
          "MPG_Highway",
          "MPG_Highway",
          "MPG_Highway",
          "MPG_Highway",
          "MPG_Highway",
          "MPG_Highway",
          "MPG_Highway",
          "MPG_Highway",
          "MPG_Highway",
          "MPG_Highway",
          "MPG_Highway",
          "MPG_Highway",
          "MPG_Highway",
          "MPG_Highway",
          "MPG_Highway",
          "MPG_Highway",
          "MPG_Highway",
          "MPG_Highway",
          "MPG_Highway",
          "MPG_Highway",
          "MPG_Highway",
          "MPG_Highway",
          "MPG_Highway",
          "MPG_Highway",
          "MPG_Highway",
          "MPG_Highway",
          "MPG_Highway",
          "MPG_Highway",
          "MPG_Highway",
          "MPG_Highway",
          "MPG_Highway",
          "MPG_Highway",
          "MPG_Highway",
          "MPG_Highway",
          "MPG_Highway",
          "MPG_Highway",
          "MPG_Highway",
          "MPG_Highway",
          "MPG_Highway",
          "MPG_Highway",
          "MPG_Highway",
          "MPG_Highway"
         ],
         "x0": " ",
         "xaxis": "x",
         "y": [
          23,
          31,
          29,
          28,
          24,
          24,
          24,
          31,
          30,
          28,
          26,
          25,
          27,
          25,
          27,
          25,
          25,
          24,
          24,
          20,
          22,
          28,
          28,
          29,
          25,
          21,
          23,
          22,
          29,
          29,
          27,
          27,
          30,
          30,
          29,
          28,
          28,
          30,
          26,
          26,
          26,
          24,
          23,
          28,
          29,
          26,
          21,
          26,
          30,
          29,
          30,
          28,
          29,
          29,
          28,
          18,
          21,
          25,
          26,
          26,
          26,
          25,
          17,
          18,
          18,
          21,
          22,
          34,
          34,
          37,
          37,
          37,
          32,
          34,
          30,
          32,
          30,
          28,
          32,
          28,
          17,
          26,
          25,
          25,
          18,
          23,
          21,
          17,
          19,
          30,
          29,
          29,
          30,
          28,
          27,
          29,
          27,
          27,
          30,
          27,
          28,
          26,
          25,
          25,
          23,
          21,
          36,
          36,
          29,
          28,
          28,
          27,
          26,
          25,
          20,
          22,
          22,
          21,
          13,
          19,
          20,
          23,
          33,
          36,
          33,
          33,
          28,
          27,
          26,
          25,
          25,
          25,
          23,
          29,
          25,
          24,
          19,
          18,
          29,
          33,
          26,
          19,
          19,
          17,
          20,
          25,
          20,
          18,
          19,
          51,
          66,
          22,
          25,
          24,
          38,
          44,
          38,
          34,
          34,
          37,
          30,
          30,
          30,
          25,
          25,
          25,
          12,
          26,
          33,
          33,
          33,
          34,
          34,
          34,
          27,
          27,
          26,
          26,
          26,
          26,
          26,
          26,
          26,
          23,
          23,
          22,
          19,
          20,
          21,
          26,
          25,
          26,
          28,
          24,
          28,
          28,
          24,
          26,
          26,
          23,
          23,
          21,
          24,
          19,
          19,
          30,
          33,
          32,
          32,
          32,
          32,
          27,
          25,
          22,
          33,
          16,
          16,
          21,
          19,
          17,
          24,
          29,
          25,
          24,
          25,
          23,
          25,
          23,
          24,
          18,
          18,
          26,
          26,
          24,
          24,
          25,
          25,
          25,
          37,
          34,
          25,
          34,
          31,
          32,
          25,
          28,
          28,
          25,
          24,
          29,
          19,
          14,
          17,
          30,
          26,
          25,
          25,
          26,
          26,
          27,
          21,
          24,
          19,
          26,
          22,
          27,
          20,
          26,
          24,
          23,
          21,
          19,
          29,
          22,
          25,
          27,
          24,
          21,
          27,
          25,
          25,
          26,
          25,
          23,
          23,
          26,
          21,
          19,
          27,
          31,
          31,
          30,
          31,
          25,
          26,
          28,
          28,
          26,
          31,
          19,
          21,
          20,
          35,
          35,
          26,
          28,
          26,
          28,
          28,
          26,
          25,
          26,
          26,
          20,
          18,
          25,
          32,
          29,
          26,
          26,
          33,
          29,
          30,
          33,
          30,
          20,
          26,
          24,
          20,
          36,
          18,
          26,
          24,
          26,
          24,
          29,
          26,
          28,
          28,
          29,
          29,
          29,
          30,
          29,
          26,
          35,
          35,
          35,
          35,
          35,
          28,
          34,
          38,
          35,
          28,
          28,
          28,
          27,
          26,
          26,
          27,
          24,
          28,
          28,
          28,
          22,
          22,
          31,
          31,
          31,
          30,
          27,
          29,
          51,
          17,
          21,
          24,
          17,
          27,
          40,
          40,
          40,
          43,
          39,
          43,
          33,
          29,
          33,
          29,
          29,
          29,
          29,
          29,
          27,
          27,
          33,
          32,
          27,
          18,
          17,
          36,
          20,
          31,
          31,
          46,
          31,
          30,
          30,
          31,
          26,
          25,
          22,
          19,
          30,
          31,
          25,
          20,
          29,
          27,
          28,
          25,
          28,
          27,
          28,
          26,
          26,
          29,
          27
         ],
         "y0": " ",
         "yaxis": "y"
        }
       ],
       "layout": {
        "boxmode": "group",
        "legend": {
         "tracegroupgap": 0
        },
        "margin": {
         "t": 60
        },
        "template": {
         "data": {
          "bar": [
           {
            "error_x": {
             "color": "#2a3f5f"
            },
            "error_y": {
             "color": "#2a3f5f"
            },
            "marker": {
             "line": {
              "color": "#E5ECF6",
              "width": 0.5
             },
             "pattern": {
              "fillmode": "overlay",
              "size": 10,
              "solidity": 0.2
             }
            },
            "type": "bar"
           }
          ],
          "barpolar": [
           {
            "marker": {
             "line": {
              "color": "#E5ECF6",
              "width": 0.5
             },
             "pattern": {
              "fillmode": "overlay",
              "size": 10,
              "solidity": 0.2
             }
            },
            "type": "barpolar"
           }
          ],
          "carpet": [
           {
            "aaxis": {
             "endlinecolor": "#2a3f5f",
             "gridcolor": "white",
             "linecolor": "white",
             "minorgridcolor": "white",
             "startlinecolor": "#2a3f5f"
            },
            "baxis": {
             "endlinecolor": "#2a3f5f",
             "gridcolor": "white",
             "linecolor": "white",
             "minorgridcolor": "white",
             "startlinecolor": "#2a3f5f"
            },
            "type": "carpet"
           }
          ],
          "choropleth": [
           {
            "colorbar": {
             "outlinewidth": 0,
             "ticks": ""
            },
            "type": "choropleth"
           }
          ],
          "contour": [
           {
            "colorbar": {
             "outlinewidth": 0,
             "ticks": ""
            },
            "colorscale": [
             [
              0,
              "#0d0887"
             ],
             [
              0.1111111111111111,
              "#46039f"
             ],
             [
              0.2222222222222222,
              "#7201a8"
             ],
             [
              0.3333333333333333,
              "#9c179e"
             ],
             [
              0.4444444444444444,
              "#bd3786"
             ],
             [
              0.5555555555555556,
              "#d8576b"
             ],
             [
              0.6666666666666666,
              "#ed7953"
             ],
             [
              0.7777777777777778,
              "#fb9f3a"
             ],
             [
              0.8888888888888888,
              "#fdca26"
             ],
             [
              1,
              "#f0f921"
             ]
            ],
            "type": "contour"
           }
          ],
          "contourcarpet": [
           {
            "colorbar": {
             "outlinewidth": 0,
             "ticks": ""
            },
            "type": "contourcarpet"
           }
          ],
          "heatmap": [
           {
            "colorbar": {
             "outlinewidth": 0,
             "ticks": ""
            },
            "colorscale": [
             [
              0,
              "#0d0887"
             ],
             [
              0.1111111111111111,
              "#46039f"
             ],
             [
              0.2222222222222222,
              "#7201a8"
             ],
             [
              0.3333333333333333,
              "#9c179e"
             ],
             [
              0.4444444444444444,
              "#bd3786"
             ],
             [
              0.5555555555555556,
              "#d8576b"
             ],
             [
              0.6666666666666666,
              "#ed7953"
             ],
             [
              0.7777777777777778,
              "#fb9f3a"
             ],
             [
              0.8888888888888888,
              "#fdca26"
             ],
             [
              1,
              "#f0f921"
             ]
            ],
            "type": "heatmap"
           }
          ],
          "heatmapgl": [
           {
            "colorbar": {
             "outlinewidth": 0,
             "ticks": ""
            },
            "colorscale": [
             [
              0,
              "#0d0887"
             ],
             [
              0.1111111111111111,
              "#46039f"
             ],
             [
              0.2222222222222222,
              "#7201a8"
             ],
             [
              0.3333333333333333,
              "#9c179e"
             ],
             [
              0.4444444444444444,
              "#bd3786"
             ],
             [
              0.5555555555555556,
              "#d8576b"
             ],
             [
              0.6666666666666666,
              "#ed7953"
             ],
             [
              0.7777777777777778,
              "#fb9f3a"
             ],
             [
              0.8888888888888888,
              "#fdca26"
             ],
             [
              1,
              "#f0f921"
             ]
            ],
            "type": "heatmapgl"
           }
          ],
          "histogram": [
           {
            "marker": {
             "pattern": {
              "fillmode": "overlay",
              "size": 10,
              "solidity": 0.2
             }
            },
            "type": "histogram"
           }
          ],
          "histogram2d": [
           {
            "colorbar": {
             "outlinewidth": 0,
             "ticks": ""
            },
            "colorscale": [
             [
              0,
              "#0d0887"
             ],
             [
              0.1111111111111111,
              "#46039f"
             ],
             [
              0.2222222222222222,
              "#7201a8"
             ],
             [
              0.3333333333333333,
              "#9c179e"
             ],
             [
              0.4444444444444444,
              "#bd3786"
             ],
             [
              0.5555555555555556,
              "#d8576b"
             ],
             [
              0.6666666666666666,
              "#ed7953"
             ],
             [
              0.7777777777777778,
              "#fb9f3a"
             ],
             [
              0.8888888888888888,
              "#fdca26"
             ],
             [
              1,
              "#f0f921"
             ]
            ],
            "type": "histogram2d"
           }
          ],
          "histogram2dcontour": [
           {
            "colorbar": {
             "outlinewidth": 0,
             "ticks": ""
            },
            "colorscale": [
             [
              0,
              "#0d0887"
             ],
             [
              0.1111111111111111,
              "#46039f"
             ],
             [
              0.2222222222222222,
              "#7201a8"
             ],
             [
              0.3333333333333333,
              "#9c179e"
             ],
             [
              0.4444444444444444,
              "#bd3786"
             ],
             [
              0.5555555555555556,
              "#d8576b"
             ],
             [
              0.6666666666666666,
              "#ed7953"
             ],
             [
              0.7777777777777778,
              "#fb9f3a"
             ],
             [
              0.8888888888888888,
              "#fdca26"
             ],
             [
              1,
              "#f0f921"
             ]
            ],
            "type": "histogram2dcontour"
           }
          ],
          "mesh3d": [
           {
            "colorbar": {
             "outlinewidth": 0,
             "ticks": ""
            },
            "type": "mesh3d"
           }
          ],
          "parcoords": [
           {
            "line": {
             "colorbar": {
              "outlinewidth": 0,
              "ticks": ""
             }
            },
            "type": "parcoords"
           }
          ],
          "pie": [
           {
            "automargin": true,
            "type": "pie"
           }
          ],
          "scatter": [
           {
            "fillpattern": {
             "fillmode": "overlay",
             "size": 10,
             "solidity": 0.2
            },
            "type": "scatter"
           }
          ],
          "scatter3d": [
           {
            "line": {
             "colorbar": {
              "outlinewidth": 0,
              "ticks": ""
             }
            },
            "marker": {
             "colorbar": {
              "outlinewidth": 0,
              "ticks": ""
             }
            },
            "type": "scatter3d"
           }
          ],
          "scattercarpet": [
           {
            "marker": {
             "colorbar": {
              "outlinewidth": 0,
              "ticks": ""
             }
            },
            "type": "scattercarpet"
           }
          ],
          "scattergeo": [
           {
            "marker": {
             "colorbar": {
              "outlinewidth": 0,
              "ticks": ""
             }
            },
            "type": "scattergeo"
           }
          ],
          "scattergl": [
           {
            "marker": {
             "colorbar": {
              "outlinewidth": 0,
              "ticks": ""
             }
            },
            "type": "scattergl"
           }
          ],
          "scattermapbox": [
           {
            "marker": {
             "colorbar": {
              "outlinewidth": 0,
              "ticks": ""
             }
            },
            "type": "scattermapbox"
           }
          ],
          "scatterpolar": [
           {
            "marker": {
             "colorbar": {
              "outlinewidth": 0,
              "ticks": ""
             }
            },
            "type": "scatterpolar"
           }
          ],
          "scatterpolargl": [
           {
            "marker": {
             "colorbar": {
              "outlinewidth": 0,
              "ticks": ""
             }
            },
            "type": "scatterpolargl"
           }
          ],
          "scatterternary": [
           {
            "marker": {
             "colorbar": {
              "outlinewidth": 0,
              "ticks": ""
             }
            },
            "type": "scatterternary"
           }
          ],
          "surface": [
           {
            "colorbar": {
             "outlinewidth": 0,
             "ticks": ""
            },
            "colorscale": [
             [
              0,
              "#0d0887"
             ],
             [
              0.1111111111111111,
              "#46039f"
             ],
             [
              0.2222222222222222,
              "#7201a8"
             ],
             [
              0.3333333333333333,
              "#9c179e"
             ],
             [
              0.4444444444444444,
              "#bd3786"
             ],
             [
              0.5555555555555556,
              "#d8576b"
             ],
             [
              0.6666666666666666,
              "#ed7953"
             ],
             [
              0.7777777777777778,
              "#fb9f3a"
             ],
             [
              0.8888888888888888,
              "#fdca26"
             ],
             [
              1,
              "#f0f921"
             ]
            ],
            "type": "surface"
           }
          ],
          "table": [
           {
            "cells": {
             "fill": {
              "color": "#EBF0F8"
             },
             "line": {
              "color": "white"
             }
            },
            "header": {
             "fill": {
              "color": "#C8D4E3"
             },
             "line": {
              "color": "white"
             }
            },
            "type": "table"
           }
          ]
         },
         "layout": {
          "annotationdefaults": {
           "arrowcolor": "#2a3f5f",
           "arrowhead": 0,
           "arrowwidth": 1
          },
          "autotypenumbers": "strict",
          "coloraxis": {
           "colorbar": {
            "outlinewidth": 0,
            "ticks": ""
           }
          },
          "colorscale": {
           "diverging": [
            [
             0,
             "#8e0152"
            ],
            [
             0.1,
             "#c51b7d"
            ],
            [
             0.2,
             "#de77ae"
            ],
            [
             0.3,
             "#f1b6da"
            ],
            [
             0.4,
             "#fde0ef"
            ],
            [
             0.5,
             "#f7f7f7"
            ],
            [
             0.6,
             "#e6f5d0"
            ],
            [
             0.7,
             "#b8e186"
            ],
            [
             0.8,
             "#7fbc41"
            ],
            [
             0.9,
             "#4d9221"
            ],
            [
             1,
             "#276419"
            ]
           ],
           "sequential": [
            [
             0,
             "#0d0887"
            ],
            [
             0.1111111111111111,
             "#46039f"
            ],
            [
             0.2222222222222222,
             "#7201a8"
            ],
            [
             0.3333333333333333,
             "#9c179e"
            ],
            [
             0.4444444444444444,
             "#bd3786"
            ],
            [
             0.5555555555555556,
             "#d8576b"
            ],
            [
             0.6666666666666666,
             "#ed7953"
            ],
            [
             0.7777777777777778,
             "#fb9f3a"
            ],
            [
             0.8888888888888888,
             "#fdca26"
            ],
            [
             1,
             "#f0f921"
            ]
           ],
           "sequentialminus": [
            [
             0,
             "#0d0887"
            ],
            [
             0.1111111111111111,
             "#46039f"
            ],
            [
             0.2222222222222222,
             "#7201a8"
            ],
            [
             0.3333333333333333,
             "#9c179e"
            ],
            [
             0.4444444444444444,
             "#bd3786"
            ],
            [
             0.5555555555555556,
             "#d8576b"
            ],
            [
             0.6666666666666666,
             "#ed7953"
            ],
            [
             0.7777777777777778,
             "#fb9f3a"
            ],
            [
             0.8888888888888888,
             "#fdca26"
            ],
            [
             1,
             "#f0f921"
            ]
           ]
          },
          "colorway": [
           "#636efa",
           "#EF553B",
           "#00cc96",
           "#ab63fa",
           "#FFA15A",
           "#19d3f3",
           "#FF6692",
           "#B6E880",
           "#FF97FF",
           "#FECB52"
          ],
          "font": {
           "color": "#2a3f5f"
          },
          "geo": {
           "bgcolor": "white",
           "lakecolor": "white",
           "landcolor": "#E5ECF6",
           "showlakes": true,
           "showland": true,
           "subunitcolor": "white"
          },
          "hoverlabel": {
           "align": "left"
          },
          "hovermode": "closest",
          "mapbox": {
           "style": "light"
          },
          "paper_bgcolor": "white",
          "plot_bgcolor": "#E5ECF6",
          "polar": {
           "angularaxis": {
            "gridcolor": "white",
            "linecolor": "white",
            "ticks": ""
           },
           "bgcolor": "#E5ECF6",
           "radialaxis": {
            "gridcolor": "white",
            "linecolor": "white",
            "ticks": ""
           }
          },
          "scene": {
           "xaxis": {
            "backgroundcolor": "#E5ECF6",
            "gridcolor": "white",
            "gridwidth": 2,
            "linecolor": "white",
            "showbackground": true,
            "ticks": "",
            "zerolinecolor": "white"
           },
           "yaxis": {
            "backgroundcolor": "#E5ECF6",
            "gridcolor": "white",
            "gridwidth": 2,
            "linecolor": "white",
            "showbackground": true,
            "ticks": "",
            "zerolinecolor": "white"
           },
           "zaxis": {
            "backgroundcolor": "#E5ECF6",
            "gridcolor": "white",
            "gridwidth": 2,
            "linecolor": "white",
            "showbackground": true,
            "ticks": "",
            "zerolinecolor": "white"
           }
          },
          "shapedefaults": {
           "line": {
            "color": "#2a3f5f"
           }
          },
          "ternary": {
           "aaxis": {
            "gridcolor": "white",
            "linecolor": "white",
            "ticks": ""
           },
           "baxis": {
            "gridcolor": "white",
            "linecolor": "white",
            "ticks": ""
           },
           "bgcolor": "#E5ECF6",
           "caxis": {
            "gridcolor": "white",
            "linecolor": "white",
            "ticks": ""
           }
          },
          "title": {
           "x": 0.05
          },
          "xaxis": {
           "automargin": true,
           "gridcolor": "white",
           "linecolor": "white",
           "ticks": "",
           "title": {
            "standoff": 15
           },
           "zerolinecolor": "white",
           "zerolinewidth": 2
          },
          "yaxis": {
           "automargin": true,
           "gridcolor": "white",
           "linecolor": "white",
           "ticks": "",
           "title": {
            "standoff": 15
           },
           "zerolinecolor": "white",
           "zerolinewidth": 2
          }
         }
        },
        "xaxis": {
         "anchor": "y",
         "domain": [
          0,
          1
         ],
         "title": {
          "text": "variable"
         }
        },
        "yaxis": {
         "anchor": "x",
         "domain": [
          0,
          1
         ],
         "title": {
          "text": "value"
         }
        }
       }
      }
     },
     "metadata": {},
     "output_type": "display_data"
    }
   ],
   "source": [
    "px.box(car[\"MPG_Highway\"])"
   ]
  },
  {
   "cell_type": "code",
   "execution_count": 100,
   "metadata": {},
   "outputs": [],
   "source": [
    "#Removing outliers from MPG_Highway column\n",
    "def remove_outliers_MPG_Highway(car):\n",
    "    IQR = car[\"MPG_Highway\"].quantile(0.75) - car[\"MPG_Highway\"].quantile(0.25)\n",
    "\n",
    "    lower_range = car[\"MPG_Highway\"].quantile(0.25) - (1.5 * IQR)\n",
    "    upper_range = car[\"MPG_Highway\"].quantile(0.75) + (1.5 * IQR)\n",
    "\n",
    "    car.loc[car[\"MPG_Highway\"] <= lower_range, \"MPG_Highway\" ] = lower_range\n",
    "    car.loc[car[\"MPG_Highway\"] >= upper_range, \"MPG_Highway\" ] = upper_range"
   ]
  },
  {
   "cell_type": "code",
   "execution_count": 102,
   "metadata": {},
   "outputs": [],
   "source": [
    "remove_outliers_MPG_Highway(car)"
   ]
  },
  {
   "cell_type": "code",
   "execution_count": 103,
   "metadata": {},
   "outputs": [
    {
     "data": {
      "application/vnd.plotly.v1+json": {
       "config": {
        "plotlyServerURL": "https://plot.ly"
       },
       "data": [
        {
         "alignmentgroup": "True",
         "hovertemplate": "variable=%{x}<br>value=%{y}<extra></extra>",
         "legendgroup": "",
         "marker": {
          "color": "#636efa"
         },
         "name": "",
         "notched": false,
         "offsetgroup": "",
         "orientation": "v",
         "showlegend": false,
         "type": "box",
         "x": [
          "MPG_Highway",
          "MPG_Highway",
          "MPG_Highway",
          "MPG_Highway",
          "MPG_Highway",
          "MPG_Highway",
          "MPG_Highway",
          "MPG_Highway",
          "MPG_Highway",
          "MPG_Highway",
          "MPG_Highway",
          "MPG_Highway",
          "MPG_Highway",
          "MPG_Highway",
          "MPG_Highway",
          "MPG_Highway",
          "MPG_Highway",
          "MPG_Highway",
          "MPG_Highway",
          "MPG_Highway",
          "MPG_Highway",
          "MPG_Highway",
          "MPG_Highway",
          "MPG_Highway",
          "MPG_Highway",
          "MPG_Highway",
          "MPG_Highway",
          "MPG_Highway",
          "MPG_Highway",
          "MPG_Highway",
          "MPG_Highway",
          "MPG_Highway",
          "MPG_Highway",
          "MPG_Highway",
          "MPG_Highway",
          "MPG_Highway",
          "MPG_Highway",
          "MPG_Highway",
          "MPG_Highway",
          "MPG_Highway",
          "MPG_Highway",
          "MPG_Highway",
          "MPG_Highway",
          "MPG_Highway",
          "MPG_Highway",
          "MPG_Highway",
          "MPG_Highway",
          "MPG_Highway",
          "MPG_Highway",
          "MPG_Highway",
          "MPG_Highway",
          "MPG_Highway",
          "MPG_Highway",
          "MPG_Highway",
          "MPG_Highway",
          "MPG_Highway",
          "MPG_Highway",
          "MPG_Highway",
          "MPG_Highway",
          "MPG_Highway",
          "MPG_Highway",
          "MPG_Highway",
          "MPG_Highway",
          "MPG_Highway",
          "MPG_Highway",
          "MPG_Highway",
          "MPG_Highway",
          "MPG_Highway",
          "MPG_Highway",
          "MPG_Highway",
          "MPG_Highway",
          "MPG_Highway",
          "MPG_Highway",
          "MPG_Highway",
          "MPG_Highway",
          "MPG_Highway",
          "MPG_Highway",
          "MPG_Highway",
          "MPG_Highway",
          "MPG_Highway",
          "MPG_Highway",
          "MPG_Highway",
          "MPG_Highway",
          "MPG_Highway",
          "MPG_Highway",
          "MPG_Highway",
          "MPG_Highway",
          "MPG_Highway",
          "MPG_Highway",
          "MPG_Highway",
          "MPG_Highway",
          "MPG_Highway",
          "MPG_Highway",
          "MPG_Highway",
          "MPG_Highway",
          "MPG_Highway",
          "MPG_Highway",
          "MPG_Highway",
          "MPG_Highway",
          "MPG_Highway",
          "MPG_Highway",
          "MPG_Highway",
          "MPG_Highway",
          "MPG_Highway",
          "MPG_Highway",
          "MPG_Highway",
          "MPG_Highway",
          "MPG_Highway",
          "MPG_Highway",
          "MPG_Highway",
          "MPG_Highway",
          "MPG_Highway",
          "MPG_Highway",
          "MPG_Highway",
          "MPG_Highway",
          "MPG_Highway",
          "MPG_Highway",
          "MPG_Highway",
          "MPG_Highway",
          "MPG_Highway",
          "MPG_Highway",
          "MPG_Highway",
          "MPG_Highway",
          "MPG_Highway",
          "MPG_Highway",
          "MPG_Highway",
          "MPG_Highway",
          "MPG_Highway",
          "MPG_Highway",
          "MPG_Highway",
          "MPG_Highway",
          "MPG_Highway",
          "MPG_Highway",
          "MPG_Highway",
          "MPG_Highway",
          "MPG_Highway",
          "MPG_Highway",
          "MPG_Highway",
          "MPG_Highway",
          "MPG_Highway",
          "MPG_Highway",
          "MPG_Highway",
          "MPG_Highway",
          "MPG_Highway",
          "MPG_Highway",
          "MPG_Highway",
          "MPG_Highway",
          "MPG_Highway",
          "MPG_Highway",
          "MPG_Highway",
          "MPG_Highway",
          "MPG_Highway",
          "MPG_Highway",
          "MPG_Highway",
          "MPG_Highway",
          "MPG_Highway",
          "MPG_Highway",
          "MPG_Highway",
          "MPG_Highway",
          "MPG_Highway",
          "MPG_Highway",
          "MPG_Highway",
          "MPG_Highway",
          "MPG_Highway",
          "MPG_Highway",
          "MPG_Highway",
          "MPG_Highway",
          "MPG_Highway",
          "MPG_Highway",
          "MPG_Highway",
          "MPG_Highway",
          "MPG_Highway",
          "MPG_Highway",
          "MPG_Highway",
          "MPG_Highway",
          "MPG_Highway",
          "MPG_Highway",
          "MPG_Highway",
          "MPG_Highway",
          "MPG_Highway",
          "MPG_Highway",
          "MPG_Highway",
          "MPG_Highway",
          "MPG_Highway",
          "MPG_Highway",
          "MPG_Highway",
          "MPG_Highway",
          "MPG_Highway",
          "MPG_Highway",
          "MPG_Highway",
          "MPG_Highway",
          "MPG_Highway",
          "MPG_Highway",
          "MPG_Highway",
          "MPG_Highway",
          "MPG_Highway",
          "MPG_Highway",
          "MPG_Highway",
          "MPG_Highway",
          "MPG_Highway",
          "MPG_Highway",
          "MPG_Highway",
          "MPG_Highway",
          "MPG_Highway",
          "MPG_Highway",
          "MPG_Highway",
          "MPG_Highway",
          "MPG_Highway",
          "MPG_Highway",
          "MPG_Highway",
          "MPG_Highway",
          "MPG_Highway",
          "MPG_Highway",
          "MPG_Highway",
          "MPG_Highway",
          "MPG_Highway",
          "MPG_Highway",
          "MPG_Highway",
          "MPG_Highway",
          "MPG_Highway",
          "MPG_Highway",
          "MPG_Highway",
          "MPG_Highway",
          "MPG_Highway",
          "MPG_Highway",
          "MPG_Highway",
          "MPG_Highway",
          "MPG_Highway",
          "MPG_Highway",
          "MPG_Highway",
          "MPG_Highway",
          "MPG_Highway",
          "MPG_Highway",
          "MPG_Highway",
          "MPG_Highway",
          "MPG_Highway",
          "MPG_Highway",
          "MPG_Highway",
          "MPG_Highway",
          "MPG_Highway",
          "MPG_Highway",
          "MPG_Highway",
          "MPG_Highway",
          "MPG_Highway",
          "MPG_Highway",
          "MPG_Highway",
          "MPG_Highway",
          "MPG_Highway",
          "MPG_Highway",
          "MPG_Highway",
          "MPG_Highway",
          "MPG_Highway",
          "MPG_Highway",
          "MPG_Highway",
          "MPG_Highway",
          "MPG_Highway",
          "MPG_Highway",
          "MPG_Highway",
          "MPG_Highway",
          "MPG_Highway",
          "MPG_Highway",
          "MPG_Highway",
          "MPG_Highway",
          "MPG_Highway",
          "MPG_Highway",
          "MPG_Highway",
          "MPG_Highway",
          "MPG_Highway",
          "MPG_Highway",
          "MPG_Highway",
          "MPG_Highway",
          "MPG_Highway",
          "MPG_Highway",
          "MPG_Highway",
          "MPG_Highway",
          "MPG_Highway",
          "MPG_Highway",
          "MPG_Highway",
          "MPG_Highway",
          "MPG_Highway",
          "MPG_Highway",
          "MPG_Highway",
          "MPG_Highway",
          "MPG_Highway",
          "MPG_Highway",
          "MPG_Highway",
          "MPG_Highway",
          "MPG_Highway",
          "MPG_Highway",
          "MPG_Highway",
          "MPG_Highway",
          "MPG_Highway",
          "MPG_Highway",
          "MPG_Highway",
          "MPG_Highway",
          "MPG_Highway",
          "MPG_Highway",
          "MPG_Highway",
          "MPG_Highway",
          "MPG_Highway",
          "MPG_Highway",
          "MPG_Highway",
          "MPG_Highway",
          "MPG_Highway",
          "MPG_Highway",
          "MPG_Highway",
          "MPG_Highway",
          "MPG_Highway",
          "MPG_Highway",
          "MPG_Highway",
          "MPG_Highway",
          "MPG_Highway",
          "MPG_Highway",
          "MPG_Highway",
          "MPG_Highway",
          "MPG_Highway",
          "MPG_Highway",
          "MPG_Highway",
          "MPG_Highway",
          "MPG_Highway",
          "MPG_Highway",
          "MPG_Highway",
          "MPG_Highway",
          "MPG_Highway",
          "MPG_Highway",
          "MPG_Highway",
          "MPG_Highway",
          "MPG_Highway",
          "MPG_Highway",
          "MPG_Highway",
          "MPG_Highway",
          "MPG_Highway",
          "MPG_Highway",
          "MPG_Highway",
          "MPG_Highway",
          "MPG_Highway",
          "MPG_Highway",
          "MPG_Highway",
          "MPG_Highway",
          "MPG_Highway",
          "MPG_Highway",
          "MPG_Highway",
          "MPG_Highway",
          "MPG_Highway",
          "MPG_Highway",
          "MPG_Highway",
          "MPG_Highway",
          "MPG_Highway",
          "MPG_Highway",
          "MPG_Highway",
          "MPG_Highway",
          "MPG_Highway",
          "MPG_Highway",
          "MPG_Highway",
          "MPG_Highway",
          "MPG_Highway",
          "MPG_Highway",
          "MPG_Highway",
          "MPG_Highway",
          "MPG_Highway",
          "MPG_Highway",
          "MPG_Highway",
          "MPG_Highway",
          "MPG_Highway",
          "MPG_Highway",
          "MPG_Highway",
          "MPG_Highway",
          "MPG_Highway",
          "MPG_Highway",
          "MPG_Highway",
          "MPG_Highway",
          "MPG_Highway",
          "MPG_Highway",
          "MPG_Highway",
          "MPG_Highway",
          "MPG_Highway",
          "MPG_Highway",
          "MPG_Highway",
          "MPG_Highway",
          "MPG_Highway",
          "MPG_Highway",
          "MPG_Highway",
          "MPG_Highway",
          "MPG_Highway",
          "MPG_Highway",
          "MPG_Highway",
          "MPG_Highway",
          "MPG_Highway",
          "MPG_Highway",
          "MPG_Highway",
          "MPG_Highway",
          "MPG_Highway",
          "MPG_Highway",
          "MPG_Highway",
          "MPG_Highway",
          "MPG_Highway",
          "MPG_Highway",
          "MPG_Highway",
          "MPG_Highway",
          "MPG_Highway",
          "MPG_Highway",
          "MPG_Highway",
          "MPG_Highway",
          "MPG_Highway",
          "MPG_Highway",
          "MPG_Highway",
          "MPG_Highway",
          "MPG_Highway",
          "MPG_Highway",
          "MPG_Highway",
          "MPG_Highway",
          "MPG_Highway",
          "MPG_Highway",
          "MPG_Highway",
          "MPG_Highway",
          "MPG_Highway",
          "MPG_Highway",
          "MPG_Highway",
          "MPG_Highway",
          "MPG_Highway",
          "MPG_Highway",
          "MPG_Highway",
          "MPG_Highway",
          "MPG_Highway",
          "MPG_Highway",
          "MPG_Highway",
          "MPG_Highway",
          "MPG_Highway"
         ],
         "x0": " ",
         "xaxis": "x",
         "y": [
          23,
          31,
          29,
          28,
          24,
          24,
          24,
          31,
          30,
          28,
          26,
          25,
          27,
          25,
          27,
          25,
          25,
          24,
          24,
          20,
          22,
          28,
          28,
          29,
          25,
          21,
          23,
          22,
          29,
          29,
          27,
          27,
          30,
          30,
          29,
          28,
          28,
          30,
          26,
          26,
          26,
          24,
          23,
          28,
          29,
          26,
          21,
          26,
          30,
          29,
          30,
          28,
          29,
          29,
          28,
          18,
          21,
          25,
          26,
          26,
          26,
          25,
          17,
          18,
          18,
          21,
          22,
          34,
          34,
          36.5,
          36.5,
          36.5,
          32,
          34,
          30,
          32,
          30,
          28,
          32,
          28,
          17,
          26,
          25,
          25,
          18,
          23,
          21,
          17,
          19,
          30,
          29,
          29,
          30,
          28,
          27,
          29,
          27,
          27,
          30,
          27,
          28,
          26,
          25,
          25,
          23,
          21,
          36,
          36,
          29,
          28,
          28,
          27,
          26,
          25,
          20,
          22,
          22,
          21,
          16.5,
          19,
          20,
          23,
          33,
          36,
          33,
          33,
          28,
          27,
          26,
          25,
          25,
          25,
          23,
          29,
          25,
          24,
          19,
          18,
          29,
          33,
          26,
          19,
          19,
          17,
          20,
          25,
          20,
          18,
          19,
          36.5,
          36.5,
          22,
          25,
          24,
          36.5,
          36.5,
          36.5,
          34,
          34,
          36.5,
          30,
          30,
          30,
          25,
          25,
          25,
          16.5,
          26,
          33,
          33,
          33,
          34,
          34,
          34,
          27,
          27,
          26,
          26,
          26,
          26,
          26,
          26,
          26,
          23,
          23,
          22,
          19,
          20,
          21,
          26,
          25,
          26,
          28,
          24,
          28,
          28,
          24,
          26,
          26,
          23,
          23,
          21,
          24,
          19,
          19,
          30,
          33,
          32,
          32,
          32,
          32,
          27,
          25,
          22,
          33,
          16.5,
          16.5,
          21,
          19,
          17,
          24,
          29,
          25,
          24,
          25,
          23,
          25,
          23,
          24,
          18,
          18,
          26,
          26,
          24,
          24,
          25,
          25,
          25,
          36.5,
          34,
          25,
          34,
          31,
          32,
          25,
          28,
          28,
          25,
          24,
          29,
          19,
          16.5,
          17,
          30,
          26,
          25,
          25,
          26,
          26,
          27,
          21,
          24,
          19,
          26,
          22,
          27,
          20,
          26,
          24,
          23,
          21,
          19,
          29,
          22,
          25,
          27,
          24,
          21,
          27,
          25,
          25,
          26,
          25,
          23,
          23,
          26,
          21,
          19,
          27,
          31,
          31,
          30,
          31,
          25,
          26,
          28,
          28,
          26,
          31,
          19,
          21,
          20,
          35,
          35,
          26,
          28,
          26,
          28,
          28,
          26,
          25,
          26,
          26,
          20,
          18,
          25,
          32,
          29,
          26,
          26,
          33,
          29,
          30,
          33,
          30,
          20,
          26,
          24,
          20,
          36,
          18,
          26,
          24,
          26,
          24,
          29,
          26,
          28,
          28,
          29,
          29,
          29,
          30,
          29,
          26,
          35,
          35,
          35,
          35,
          35,
          28,
          34,
          36.5,
          35,
          28,
          28,
          28,
          27,
          26,
          26,
          27,
          24,
          28,
          28,
          28,
          22,
          22,
          31,
          31,
          31,
          30,
          27,
          29,
          36.5,
          17,
          21,
          24,
          17,
          27,
          36.5,
          36.5,
          36.5,
          36.5,
          36.5,
          36.5,
          33,
          29,
          33,
          29,
          29,
          29,
          29,
          29,
          27,
          27,
          33,
          32,
          27,
          18,
          17,
          36,
          20,
          31,
          31,
          36.5,
          31,
          30,
          30,
          31,
          26,
          25,
          22,
          19,
          30,
          31,
          25,
          20,
          29,
          27,
          28,
          25,
          28,
          27,
          28,
          26,
          26,
          29,
          27
         ],
         "y0": " ",
         "yaxis": "y"
        }
       ],
       "layout": {
        "boxmode": "group",
        "legend": {
         "tracegroupgap": 0
        },
        "margin": {
         "t": 60
        },
        "template": {
         "data": {
          "bar": [
           {
            "error_x": {
             "color": "#2a3f5f"
            },
            "error_y": {
             "color": "#2a3f5f"
            },
            "marker": {
             "line": {
              "color": "#E5ECF6",
              "width": 0.5
             },
             "pattern": {
              "fillmode": "overlay",
              "size": 10,
              "solidity": 0.2
             }
            },
            "type": "bar"
           }
          ],
          "barpolar": [
           {
            "marker": {
             "line": {
              "color": "#E5ECF6",
              "width": 0.5
             },
             "pattern": {
              "fillmode": "overlay",
              "size": 10,
              "solidity": 0.2
             }
            },
            "type": "barpolar"
           }
          ],
          "carpet": [
           {
            "aaxis": {
             "endlinecolor": "#2a3f5f",
             "gridcolor": "white",
             "linecolor": "white",
             "minorgridcolor": "white",
             "startlinecolor": "#2a3f5f"
            },
            "baxis": {
             "endlinecolor": "#2a3f5f",
             "gridcolor": "white",
             "linecolor": "white",
             "minorgridcolor": "white",
             "startlinecolor": "#2a3f5f"
            },
            "type": "carpet"
           }
          ],
          "choropleth": [
           {
            "colorbar": {
             "outlinewidth": 0,
             "ticks": ""
            },
            "type": "choropleth"
           }
          ],
          "contour": [
           {
            "colorbar": {
             "outlinewidth": 0,
             "ticks": ""
            },
            "colorscale": [
             [
              0,
              "#0d0887"
             ],
             [
              0.1111111111111111,
              "#46039f"
             ],
             [
              0.2222222222222222,
              "#7201a8"
             ],
             [
              0.3333333333333333,
              "#9c179e"
             ],
             [
              0.4444444444444444,
              "#bd3786"
             ],
             [
              0.5555555555555556,
              "#d8576b"
             ],
             [
              0.6666666666666666,
              "#ed7953"
             ],
             [
              0.7777777777777778,
              "#fb9f3a"
             ],
             [
              0.8888888888888888,
              "#fdca26"
             ],
             [
              1,
              "#f0f921"
             ]
            ],
            "type": "contour"
           }
          ],
          "contourcarpet": [
           {
            "colorbar": {
             "outlinewidth": 0,
             "ticks": ""
            },
            "type": "contourcarpet"
           }
          ],
          "heatmap": [
           {
            "colorbar": {
             "outlinewidth": 0,
             "ticks": ""
            },
            "colorscale": [
             [
              0,
              "#0d0887"
             ],
             [
              0.1111111111111111,
              "#46039f"
             ],
             [
              0.2222222222222222,
              "#7201a8"
             ],
             [
              0.3333333333333333,
              "#9c179e"
             ],
             [
              0.4444444444444444,
              "#bd3786"
             ],
             [
              0.5555555555555556,
              "#d8576b"
             ],
             [
              0.6666666666666666,
              "#ed7953"
             ],
             [
              0.7777777777777778,
              "#fb9f3a"
             ],
             [
              0.8888888888888888,
              "#fdca26"
             ],
             [
              1,
              "#f0f921"
             ]
            ],
            "type": "heatmap"
           }
          ],
          "heatmapgl": [
           {
            "colorbar": {
             "outlinewidth": 0,
             "ticks": ""
            },
            "colorscale": [
             [
              0,
              "#0d0887"
             ],
             [
              0.1111111111111111,
              "#46039f"
             ],
             [
              0.2222222222222222,
              "#7201a8"
             ],
             [
              0.3333333333333333,
              "#9c179e"
             ],
             [
              0.4444444444444444,
              "#bd3786"
             ],
             [
              0.5555555555555556,
              "#d8576b"
             ],
             [
              0.6666666666666666,
              "#ed7953"
             ],
             [
              0.7777777777777778,
              "#fb9f3a"
             ],
             [
              0.8888888888888888,
              "#fdca26"
             ],
             [
              1,
              "#f0f921"
             ]
            ],
            "type": "heatmapgl"
           }
          ],
          "histogram": [
           {
            "marker": {
             "pattern": {
              "fillmode": "overlay",
              "size": 10,
              "solidity": 0.2
             }
            },
            "type": "histogram"
           }
          ],
          "histogram2d": [
           {
            "colorbar": {
             "outlinewidth": 0,
             "ticks": ""
            },
            "colorscale": [
             [
              0,
              "#0d0887"
             ],
             [
              0.1111111111111111,
              "#46039f"
             ],
             [
              0.2222222222222222,
              "#7201a8"
             ],
             [
              0.3333333333333333,
              "#9c179e"
             ],
             [
              0.4444444444444444,
              "#bd3786"
             ],
             [
              0.5555555555555556,
              "#d8576b"
             ],
             [
              0.6666666666666666,
              "#ed7953"
             ],
             [
              0.7777777777777778,
              "#fb9f3a"
             ],
             [
              0.8888888888888888,
              "#fdca26"
             ],
             [
              1,
              "#f0f921"
             ]
            ],
            "type": "histogram2d"
           }
          ],
          "histogram2dcontour": [
           {
            "colorbar": {
             "outlinewidth": 0,
             "ticks": ""
            },
            "colorscale": [
             [
              0,
              "#0d0887"
             ],
             [
              0.1111111111111111,
              "#46039f"
             ],
             [
              0.2222222222222222,
              "#7201a8"
             ],
             [
              0.3333333333333333,
              "#9c179e"
             ],
             [
              0.4444444444444444,
              "#bd3786"
             ],
             [
              0.5555555555555556,
              "#d8576b"
             ],
             [
              0.6666666666666666,
              "#ed7953"
             ],
             [
              0.7777777777777778,
              "#fb9f3a"
             ],
             [
              0.8888888888888888,
              "#fdca26"
             ],
             [
              1,
              "#f0f921"
             ]
            ],
            "type": "histogram2dcontour"
           }
          ],
          "mesh3d": [
           {
            "colorbar": {
             "outlinewidth": 0,
             "ticks": ""
            },
            "type": "mesh3d"
           }
          ],
          "parcoords": [
           {
            "line": {
             "colorbar": {
              "outlinewidth": 0,
              "ticks": ""
             }
            },
            "type": "parcoords"
           }
          ],
          "pie": [
           {
            "automargin": true,
            "type": "pie"
           }
          ],
          "scatter": [
           {
            "fillpattern": {
             "fillmode": "overlay",
             "size": 10,
             "solidity": 0.2
            },
            "type": "scatter"
           }
          ],
          "scatter3d": [
           {
            "line": {
             "colorbar": {
              "outlinewidth": 0,
              "ticks": ""
             }
            },
            "marker": {
             "colorbar": {
              "outlinewidth": 0,
              "ticks": ""
             }
            },
            "type": "scatter3d"
           }
          ],
          "scattercarpet": [
           {
            "marker": {
             "colorbar": {
              "outlinewidth": 0,
              "ticks": ""
             }
            },
            "type": "scattercarpet"
           }
          ],
          "scattergeo": [
           {
            "marker": {
             "colorbar": {
              "outlinewidth": 0,
              "ticks": ""
             }
            },
            "type": "scattergeo"
           }
          ],
          "scattergl": [
           {
            "marker": {
             "colorbar": {
              "outlinewidth": 0,
              "ticks": ""
             }
            },
            "type": "scattergl"
           }
          ],
          "scattermapbox": [
           {
            "marker": {
             "colorbar": {
              "outlinewidth": 0,
              "ticks": ""
             }
            },
            "type": "scattermapbox"
           }
          ],
          "scatterpolar": [
           {
            "marker": {
             "colorbar": {
              "outlinewidth": 0,
              "ticks": ""
             }
            },
            "type": "scatterpolar"
           }
          ],
          "scatterpolargl": [
           {
            "marker": {
             "colorbar": {
              "outlinewidth": 0,
              "ticks": ""
             }
            },
            "type": "scatterpolargl"
           }
          ],
          "scatterternary": [
           {
            "marker": {
             "colorbar": {
              "outlinewidth": 0,
              "ticks": ""
             }
            },
            "type": "scatterternary"
           }
          ],
          "surface": [
           {
            "colorbar": {
             "outlinewidth": 0,
             "ticks": ""
            },
            "colorscale": [
             [
              0,
              "#0d0887"
             ],
             [
              0.1111111111111111,
              "#46039f"
             ],
             [
              0.2222222222222222,
              "#7201a8"
             ],
             [
              0.3333333333333333,
              "#9c179e"
             ],
             [
              0.4444444444444444,
              "#bd3786"
             ],
             [
              0.5555555555555556,
              "#d8576b"
             ],
             [
              0.6666666666666666,
              "#ed7953"
             ],
             [
              0.7777777777777778,
              "#fb9f3a"
             ],
             [
              0.8888888888888888,
              "#fdca26"
             ],
             [
              1,
              "#f0f921"
             ]
            ],
            "type": "surface"
           }
          ],
          "table": [
           {
            "cells": {
             "fill": {
              "color": "#EBF0F8"
             },
             "line": {
              "color": "white"
             }
            },
            "header": {
             "fill": {
              "color": "#C8D4E3"
             },
             "line": {
              "color": "white"
             }
            },
            "type": "table"
           }
          ]
         },
         "layout": {
          "annotationdefaults": {
           "arrowcolor": "#2a3f5f",
           "arrowhead": 0,
           "arrowwidth": 1
          },
          "autotypenumbers": "strict",
          "coloraxis": {
           "colorbar": {
            "outlinewidth": 0,
            "ticks": ""
           }
          },
          "colorscale": {
           "diverging": [
            [
             0,
             "#8e0152"
            ],
            [
             0.1,
             "#c51b7d"
            ],
            [
             0.2,
             "#de77ae"
            ],
            [
             0.3,
             "#f1b6da"
            ],
            [
             0.4,
             "#fde0ef"
            ],
            [
             0.5,
             "#f7f7f7"
            ],
            [
             0.6,
             "#e6f5d0"
            ],
            [
             0.7,
             "#b8e186"
            ],
            [
             0.8,
             "#7fbc41"
            ],
            [
             0.9,
             "#4d9221"
            ],
            [
             1,
             "#276419"
            ]
           ],
           "sequential": [
            [
             0,
             "#0d0887"
            ],
            [
             0.1111111111111111,
             "#46039f"
            ],
            [
             0.2222222222222222,
             "#7201a8"
            ],
            [
             0.3333333333333333,
             "#9c179e"
            ],
            [
             0.4444444444444444,
             "#bd3786"
            ],
            [
             0.5555555555555556,
             "#d8576b"
            ],
            [
             0.6666666666666666,
             "#ed7953"
            ],
            [
             0.7777777777777778,
             "#fb9f3a"
            ],
            [
             0.8888888888888888,
             "#fdca26"
            ],
            [
             1,
             "#f0f921"
            ]
           ],
           "sequentialminus": [
            [
             0,
             "#0d0887"
            ],
            [
             0.1111111111111111,
             "#46039f"
            ],
            [
             0.2222222222222222,
             "#7201a8"
            ],
            [
             0.3333333333333333,
             "#9c179e"
            ],
            [
             0.4444444444444444,
             "#bd3786"
            ],
            [
             0.5555555555555556,
             "#d8576b"
            ],
            [
             0.6666666666666666,
             "#ed7953"
            ],
            [
             0.7777777777777778,
             "#fb9f3a"
            ],
            [
             0.8888888888888888,
             "#fdca26"
            ],
            [
             1,
             "#f0f921"
            ]
           ]
          },
          "colorway": [
           "#636efa",
           "#EF553B",
           "#00cc96",
           "#ab63fa",
           "#FFA15A",
           "#19d3f3",
           "#FF6692",
           "#B6E880",
           "#FF97FF",
           "#FECB52"
          ],
          "font": {
           "color": "#2a3f5f"
          },
          "geo": {
           "bgcolor": "white",
           "lakecolor": "white",
           "landcolor": "#E5ECF6",
           "showlakes": true,
           "showland": true,
           "subunitcolor": "white"
          },
          "hoverlabel": {
           "align": "left"
          },
          "hovermode": "closest",
          "mapbox": {
           "style": "light"
          },
          "paper_bgcolor": "white",
          "plot_bgcolor": "#E5ECF6",
          "polar": {
           "angularaxis": {
            "gridcolor": "white",
            "linecolor": "white",
            "ticks": ""
           },
           "bgcolor": "#E5ECF6",
           "radialaxis": {
            "gridcolor": "white",
            "linecolor": "white",
            "ticks": ""
           }
          },
          "scene": {
           "xaxis": {
            "backgroundcolor": "#E5ECF6",
            "gridcolor": "white",
            "gridwidth": 2,
            "linecolor": "white",
            "showbackground": true,
            "ticks": "",
            "zerolinecolor": "white"
           },
           "yaxis": {
            "backgroundcolor": "#E5ECF6",
            "gridcolor": "white",
            "gridwidth": 2,
            "linecolor": "white",
            "showbackground": true,
            "ticks": "",
            "zerolinecolor": "white"
           },
           "zaxis": {
            "backgroundcolor": "#E5ECF6",
            "gridcolor": "white",
            "gridwidth": 2,
            "linecolor": "white",
            "showbackground": true,
            "ticks": "",
            "zerolinecolor": "white"
           }
          },
          "shapedefaults": {
           "line": {
            "color": "#2a3f5f"
           }
          },
          "ternary": {
           "aaxis": {
            "gridcolor": "white",
            "linecolor": "white",
            "ticks": ""
           },
           "baxis": {
            "gridcolor": "white",
            "linecolor": "white",
            "ticks": ""
           },
           "bgcolor": "#E5ECF6",
           "caxis": {
            "gridcolor": "white",
            "linecolor": "white",
            "ticks": ""
           }
          },
          "title": {
           "x": 0.05
          },
          "xaxis": {
           "automargin": true,
           "gridcolor": "white",
           "linecolor": "white",
           "ticks": "",
           "title": {
            "standoff": 15
           },
           "zerolinecolor": "white",
           "zerolinewidth": 2
          },
          "yaxis": {
           "automargin": true,
           "gridcolor": "white",
           "linecolor": "white",
           "ticks": "",
           "title": {
            "standoff": 15
           },
           "zerolinecolor": "white",
           "zerolinewidth": 2
          }
         }
        },
        "xaxis": {
         "anchor": "y",
         "domain": [
          0,
          1
         ],
         "title": {
          "text": "variable"
         }
        },
        "yaxis": {
         "anchor": "x",
         "domain": [
          0,
          1
         ],
         "title": {
          "text": "value"
         }
        }
       }
      }
     },
     "metadata": {},
     "output_type": "display_data"
    }
   ],
   "source": [
    "px.box(car[\"MPG_Highway\"])"
   ]
  }
 ],
 "metadata": {
  "kernelspec": {
   "display_name": "Python 3",
   "language": "python",
   "name": "python3"
  },
  "language_info": {
   "codemirror_mode": {
    "name": "ipython",
    "version": 3
   },
   "file_extension": ".py",
   "mimetype": "text/x-python",
   "name": "python",
   "nbconvert_exporter": "python",
   "pygments_lexer": "ipython3",
   "version": "3.10.6"
  },
  "orig_nbformat": 4,
  "vscode": {
   "interpreter": {
    "hash": "fbc768028c3e6ead51d9a200ddcb2ec858ae62844dcd1994729a8279be9b48f2"
   }
  }
 },
 "nbformat": 4,
 "nbformat_minor": 2
}
